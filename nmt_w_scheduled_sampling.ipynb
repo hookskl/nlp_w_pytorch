{
  "nbformat": 4,
  "nbformat_minor": 0,
  "metadata": {
    "colab": {
      "name": "nmt_w_scheduled_sampling.ipynb",
      "provenance": [],
      "toc_visible": true,
      "authorship_tag": "ABX9TyM54Tsa3v+yTjQmRw2V+6iO",
      "include_colab_link": true
    },
    "kernelspec": {
      "name": "python3",
      "display_name": "Python 3"
    },
    "accelerator": "GPU",
    "widgets": {
      "application/vnd.jupyter.widget-state+json": {
        "ab7edb33107f4bec930e76688efa1645": {
          "model_module": "@jupyter-widgets/controls",
          "model_name": "HBoxModel",
          "state": {
            "_view_name": "HBoxView",
            "_dom_classes": [],
            "_model_name": "HBoxModel",
            "_view_module": "@jupyter-widgets/controls",
            "_model_module_version": "1.5.0",
            "_view_count": null,
            "_view_module_version": "1.5.0",
            "box_style": "",
            "layout": "IPY_MODEL_9f3d7a8b3ea84c2c925a51e137479069",
            "_model_module": "@jupyter-widgets/controls",
            "children": [
              "IPY_MODEL_c5a27462828a48eead859182f7fafa8f",
              "IPY_MODEL_ee8aa416d2a04fe4b9bc7c219516a5e9"
            ]
          }
        },
        "9f3d7a8b3ea84c2c925a51e137479069": {
          "model_module": "@jupyter-widgets/base",
          "model_name": "LayoutModel",
          "state": {
            "_view_name": "LayoutView",
            "grid_template_rows": null,
            "right": null,
            "justify_content": null,
            "_view_module": "@jupyter-widgets/base",
            "overflow": null,
            "_model_module_version": "1.2.0",
            "_view_count": null,
            "flex_flow": null,
            "width": null,
            "min_width": null,
            "border": null,
            "align_items": null,
            "bottom": null,
            "_model_module": "@jupyter-widgets/base",
            "top": null,
            "grid_column": null,
            "overflow_y": null,
            "overflow_x": null,
            "grid_auto_flow": null,
            "grid_area": null,
            "grid_template_columns": null,
            "flex": null,
            "_model_name": "LayoutModel",
            "justify_items": null,
            "grid_row": null,
            "max_height": null,
            "align_content": null,
            "visibility": null,
            "align_self": null,
            "height": null,
            "min_height": null,
            "padding": null,
            "grid_auto_rows": null,
            "grid_gap": null,
            "max_width": null,
            "order": null,
            "_view_module_version": "1.2.0",
            "grid_template_areas": null,
            "object_position": null,
            "object_fit": null,
            "grid_auto_columns": null,
            "margin": null,
            "display": null,
            "left": null
          }
        },
        "c5a27462828a48eead859182f7fafa8f": {
          "model_module": "@jupyter-widgets/controls",
          "model_name": "FloatProgressModel",
          "state": {
            "_view_name": "ProgressView",
            "style": "IPY_MODEL_796f7a6a4ac74dd9a869d8fa10074633",
            "_dom_classes": [],
            "description": "training routine:  41%",
            "_model_name": "FloatProgressModel",
            "bar_style": "",
            "max": 100,
            "_view_module": "@jupyter-widgets/controls",
            "_model_module_version": "1.5.0",
            "value": 41,
            "_view_count": null,
            "_view_module_version": "1.5.0",
            "orientation": "horizontal",
            "min": 0,
            "description_tooltip": null,
            "_model_module": "@jupyter-widgets/controls",
            "layout": "IPY_MODEL_32e12799882e4ae5b919a82c8c9cdd4a"
          }
        },
        "ee8aa416d2a04fe4b9bc7c219516a5e9": {
          "model_module": "@jupyter-widgets/controls",
          "model_name": "HTMLModel",
          "state": {
            "_view_name": "HTMLView",
            "style": "IPY_MODEL_aab0d63de1bb4484a817bcbcec24cbfa",
            "_dom_classes": [],
            "description": "",
            "_model_name": "HTMLModel",
            "placeholder": "​",
            "_view_module": "@jupyter-widgets/controls",
            "_model_module_version": "1.5.0",
            "value": " 41/100 [11:50&lt;17:57, 18.26s/it, best_val=2.68]",
            "_view_count": null,
            "_view_module_version": "1.5.0",
            "description_tooltip": null,
            "_model_module": "@jupyter-widgets/controls",
            "layout": "IPY_MODEL_fb61d17ea4bd4fa6bf5b6119e6762109"
          }
        },
        "796f7a6a4ac74dd9a869d8fa10074633": {
          "model_module": "@jupyter-widgets/controls",
          "model_name": "ProgressStyleModel",
          "state": {
            "_view_name": "StyleView",
            "_model_name": "ProgressStyleModel",
            "description_width": "initial",
            "_view_module": "@jupyter-widgets/base",
            "_model_module_version": "1.5.0",
            "_view_count": null,
            "_view_module_version": "1.2.0",
            "bar_color": null,
            "_model_module": "@jupyter-widgets/controls"
          }
        },
        "32e12799882e4ae5b919a82c8c9cdd4a": {
          "model_module": "@jupyter-widgets/base",
          "model_name": "LayoutModel",
          "state": {
            "_view_name": "LayoutView",
            "grid_template_rows": null,
            "right": null,
            "justify_content": null,
            "_view_module": "@jupyter-widgets/base",
            "overflow": null,
            "_model_module_version": "1.2.0",
            "_view_count": null,
            "flex_flow": null,
            "width": null,
            "min_width": null,
            "border": null,
            "align_items": null,
            "bottom": null,
            "_model_module": "@jupyter-widgets/base",
            "top": null,
            "grid_column": null,
            "overflow_y": null,
            "overflow_x": null,
            "grid_auto_flow": null,
            "grid_area": null,
            "grid_template_columns": null,
            "flex": null,
            "_model_name": "LayoutModel",
            "justify_items": null,
            "grid_row": null,
            "max_height": null,
            "align_content": null,
            "visibility": null,
            "align_self": null,
            "height": null,
            "min_height": null,
            "padding": null,
            "grid_auto_rows": null,
            "grid_gap": null,
            "max_width": null,
            "order": null,
            "_view_module_version": "1.2.0",
            "grid_template_areas": null,
            "object_position": null,
            "object_fit": null,
            "grid_auto_columns": null,
            "margin": null,
            "display": null,
            "left": null
          }
        },
        "aab0d63de1bb4484a817bcbcec24cbfa": {
          "model_module": "@jupyter-widgets/controls",
          "model_name": "DescriptionStyleModel",
          "state": {
            "_view_name": "StyleView",
            "_model_name": "DescriptionStyleModel",
            "description_width": "",
            "_view_module": "@jupyter-widgets/base",
            "_model_module_version": "1.5.0",
            "_view_count": null,
            "_view_module_version": "1.2.0",
            "_model_module": "@jupyter-widgets/controls"
          }
        },
        "fb61d17ea4bd4fa6bf5b6119e6762109": {
          "model_module": "@jupyter-widgets/base",
          "model_name": "LayoutModel",
          "state": {
            "_view_name": "LayoutView",
            "grid_template_rows": null,
            "right": null,
            "justify_content": null,
            "_view_module": "@jupyter-widgets/base",
            "overflow": null,
            "_model_module_version": "1.2.0",
            "_view_count": null,
            "flex_flow": null,
            "width": null,
            "min_width": null,
            "border": null,
            "align_items": null,
            "bottom": null,
            "_model_module": "@jupyter-widgets/base",
            "top": null,
            "grid_column": null,
            "overflow_y": null,
            "overflow_x": null,
            "grid_auto_flow": null,
            "grid_area": null,
            "grid_template_columns": null,
            "flex": null,
            "_model_name": "LayoutModel",
            "justify_items": null,
            "grid_row": null,
            "max_height": null,
            "align_content": null,
            "visibility": null,
            "align_self": null,
            "height": null,
            "min_height": null,
            "padding": null,
            "grid_auto_rows": null,
            "grid_gap": null,
            "max_width": null,
            "order": null,
            "_view_module_version": "1.2.0",
            "grid_template_areas": null,
            "object_position": null,
            "object_fit": null,
            "grid_auto_columns": null,
            "margin": null,
            "display": null,
            "left": null
          }
        },
        "e67921e759fc4dc1a6ef695229b67c50": {
          "model_module": "@jupyter-widgets/controls",
          "model_name": "HBoxModel",
          "state": {
            "_view_name": "HBoxView",
            "_dom_classes": [],
            "_model_name": "HBoxModel",
            "_view_module": "@jupyter-widgets/controls",
            "_model_module_version": "1.5.0",
            "_view_count": null,
            "_view_module_version": "1.5.0",
            "box_style": "",
            "layout": "IPY_MODEL_6d3135e4efc549df80baf61b9579a1a3",
            "_model_module": "@jupyter-widgets/controls",
            "children": [
              "IPY_MODEL_375c61df58f74fb4a10c240a6b9db7b6",
              "IPY_MODEL_4cba630f63674f13a04fa966b326b15f"
            ]
          }
        },
        "6d3135e4efc549df80baf61b9579a1a3": {
          "model_module": "@jupyter-widgets/base",
          "model_name": "LayoutModel",
          "state": {
            "_view_name": "LayoutView",
            "grid_template_rows": null,
            "right": null,
            "justify_content": null,
            "_view_module": "@jupyter-widgets/base",
            "overflow": null,
            "_model_module_version": "1.2.0",
            "_view_count": null,
            "flex_flow": null,
            "width": null,
            "min_width": null,
            "border": null,
            "align_items": null,
            "bottom": null,
            "_model_module": "@jupyter-widgets/base",
            "top": null,
            "grid_column": null,
            "overflow_y": null,
            "overflow_x": null,
            "grid_auto_flow": null,
            "grid_area": null,
            "grid_template_columns": null,
            "flex": null,
            "_model_name": "LayoutModel",
            "justify_items": null,
            "grid_row": null,
            "max_height": null,
            "align_content": null,
            "visibility": null,
            "align_self": null,
            "height": null,
            "min_height": null,
            "padding": null,
            "grid_auto_rows": null,
            "grid_gap": null,
            "max_width": null,
            "order": null,
            "_view_module_version": "1.2.0",
            "grid_template_areas": null,
            "object_position": null,
            "object_fit": null,
            "grid_auto_columns": null,
            "margin": null,
            "display": null,
            "left": null
          }
        },
        "375c61df58f74fb4a10c240a6b9db7b6": {
          "model_module": "@jupyter-widgets/controls",
          "model_name": "FloatProgressModel",
          "state": {
            "_view_name": "ProgressView",
            "style": "IPY_MODEL_ed6f92c544cf4f08a16a1cb536c7fc94",
            "_dom_classes": [],
            "description": "split=train:  28%",
            "_model_name": "FloatProgressModel",
            "bar_style": "",
            "max": 285,
            "_view_module": "@jupyter-widgets/controls",
            "_model_module_version": "1.5.0",
            "value": 81,
            "_view_count": null,
            "_view_module_version": "1.5.0",
            "orientation": "horizontal",
            "min": 0,
            "description_tooltip": null,
            "_model_module": "@jupyter-widgets/controls",
            "layout": "IPY_MODEL_e1bc26d855d044939d715e779980970e"
          }
        },
        "4cba630f63674f13a04fa966b326b15f": {
          "model_module": "@jupyter-widgets/controls",
          "model_name": "HTMLModel",
          "state": {
            "_view_name": "HTMLView",
            "style": "IPY_MODEL_0e7008555162416985855a5c8cb3e547",
            "_dom_classes": [],
            "description": "",
            "_model_name": "HTMLModel",
            "placeholder": "​",
            "_view_module": "@jupyter-widgets/controls",
            "_model_module_version": "1.5.0",
            "value": " 81/285 [11:55&lt;17:34,  5.17s/it, acc=60.5, epoch=41, loss=1.81]",
            "_view_count": null,
            "_view_module_version": "1.5.0",
            "description_tooltip": null,
            "_model_module": "@jupyter-widgets/controls",
            "layout": "IPY_MODEL_1d6c36d591944eb9b7f78c2912a97306"
          }
        },
        "ed6f92c544cf4f08a16a1cb536c7fc94": {
          "model_module": "@jupyter-widgets/controls",
          "model_name": "ProgressStyleModel",
          "state": {
            "_view_name": "StyleView",
            "_model_name": "ProgressStyleModel",
            "description_width": "initial",
            "_view_module": "@jupyter-widgets/base",
            "_model_module_version": "1.5.0",
            "_view_count": null,
            "_view_module_version": "1.2.0",
            "bar_color": null,
            "_model_module": "@jupyter-widgets/controls"
          }
        },
        "e1bc26d855d044939d715e779980970e": {
          "model_module": "@jupyter-widgets/base",
          "model_name": "LayoutModel",
          "state": {
            "_view_name": "LayoutView",
            "grid_template_rows": null,
            "right": null,
            "justify_content": null,
            "_view_module": "@jupyter-widgets/base",
            "overflow": null,
            "_model_module_version": "1.2.0",
            "_view_count": null,
            "flex_flow": null,
            "width": null,
            "min_width": null,
            "border": null,
            "align_items": null,
            "bottom": null,
            "_model_module": "@jupyter-widgets/base",
            "top": null,
            "grid_column": null,
            "overflow_y": null,
            "overflow_x": null,
            "grid_auto_flow": null,
            "grid_area": null,
            "grid_template_columns": null,
            "flex": null,
            "_model_name": "LayoutModel",
            "justify_items": null,
            "grid_row": null,
            "max_height": null,
            "align_content": null,
            "visibility": null,
            "align_self": null,
            "height": null,
            "min_height": null,
            "padding": null,
            "grid_auto_rows": null,
            "grid_gap": null,
            "max_width": null,
            "order": null,
            "_view_module_version": "1.2.0",
            "grid_template_areas": null,
            "object_position": null,
            "object_fit": null,
            "grid_auto_columns": null,
            "margin": null,
            "display": null,
            "left": null
          }
        },
        "0e7008555162416985855a5c8cb3e547": {
          "model_module": "@jupyter-widgets/controls",
          "model_name": "DescriptionStyleModel",
          "state": {
            "_view_name": "StyleView",
            "_model_name": "DescriptionStyleModel",
            "description_width": "",
            "_view_module": "@jupyter-widgets/base",
            "_model_module_version": "1.5.0",
            "_view_count": null,
            "_view_module_version": "1.2.0",
            "_model_module": "@jupyter-widgets/controls"
          }
        },
        "1d6c36d591944eb9b7f78c2912a97306": {
          "model_module": "@jupyter-widgets/base",
          "model_name": "LayoutModel",
          "state": {
            "_view_name": "LayoutView",
            "grid_template_rows": null,
            "right": null,
            "justify_content": null,
            "_view_module": "@jupyter-widgets/base",
            "overflow": null,
            "_model_module_version": "1.2.0",
            "_view_count": null,
            "flex_flow": null,
            "width": null,
            "min_width": null,
            "border": null,
            "align_items": null,
            "bottom": null,
            "_model_module": "@jupyter-widgets/base",
            "top": null,
            "grid_column": null,
            "overflow_y": null,
            "overflow_x": null,
            "grid_auto_flow": null,
            "grid_area": null,
            "grid_template_columns": null,
            "flex": null,
            "_model_name": "LayoutModel",
            "justify_items": null,
            "grid_row": null,
            "max_height": null,
            "align_content": null,
            "visibility": null,
            "align_self": null,
            "height": null,
            "min_height": null,
            "padding": null,
            "grid_auto_rows": null,
            "grid_gap": null,
            "max_width": null,
            "order": null,
            "_view_module_version": "1.2.0",
            "grid_template_areas": null,
            "object_position": null,
            "object_fit": null,
            "grid_auto_columns": null,
            "margin": null,
            "display": null,
            "left": null
          }
        },
        "2265f70cac6b4692892de12bd4e3a908": {
          "model_module": "@jupyter-widgets/controls",
          "model_name": "HBoxModel",
          "state": {
            "_view_name": "HBoxView",
            "_dom_classes": [],
            "_model_name": "HBoxModel",
            "_view_module": "@jupyter-widgets/controls",
            "_model_module_version": "1.5.0",
            "_view_count": null,
            "_view_module_version": "1.5.0",
            "box_style": "",
            "layout": "IPY_MODEL_e93c6cb5b509476b88b41116c4af3230",
            "_model_module": "@jupyter-widgets/controls",
            "children": [
              "IPY_MODEL_3de337c0882f4024997a648b4ebf6e9b",
              "IPY_MODEL_dfba68913eb44effafd08451d4711869"
            ]
          }
        },
        "e93c6cb5b509476b88b41116c4af3230": {
          "model_module": "@jupyter-widgets/base",
          "model_name": "LayoutModel",
          "state": {
            "_view_name": "LayoutView",
            "grid_template_rows": null,
            "right": null,
            "justify_content": null,
            "_view_module": "@jupyter-widgets/base",
            "overflow": null,
            "_model_module_version": "1.2.0",
            "_view_count": null,
            "flex_flow": null,
            "width": null,
            "min_width": null,
            "border": null,
            "align_items": null,
            "bottom": null,
            "_model_module": "@jupyter-widgets/base",
            "top": null,
            "grid_column": null,
            "overflow_y": null,
            "overflow_x": null,
            "grid_auto_flow": null,
            "grid_area": null,
            "grid_template_columns": null,
            "flex": null,
            "_model_name": "LayoutModel",
            "justify_items": null,
            "grid_row": null,
            "max_height": null,
            "align_content": null,
            "visibility": null,
            "align_self": null,
            "height": null,
            "min_height": null,
            "padding": null,
            "grid_auto_rows": null,
            "grid_gap": null,
            "max_width": null,
            "order": null,
            "_view_module_version": "1.2.0",
            "grid_template_areas": null,
            "object_position": null,
            "object_fit": null,
            "grid_auto_columns": null,
            "margin": null,
            "display": null,
            "left": null
          }
        },
        "3de337c0882f4024997a648b4ebf6e9b": {
          "model_module": "@jupyter-widgets/controls",
          "model_name": "FloatProgressModel",
          "state": {
            "_view_name": "ProgressView",
            "style": "IPY_MODEL_05aa6bce47fb4344bb73039b9ecdc702",
            "_dom_classes": [],
            "description": "split=val:  98%",
            "_model_name": "FloatProgressModel",
            "bar_style": "",
            "max": 61,
            "_view_module": "@jupyter-widgets/controls",
            "_model_module_version": "1.5.0",
            "value": 60,
            "_view_count": null,
            "_view_module_version": "1.5.0",
            "orientation": "horizontal",
            "min": 0,
            "description_tooltip": null,
            "_model_module": "@jupyter-widgets/controls",
            "layout": "IPY_MODEL_790ab0af77bd406081efba2a4823381d"
          }
        },
        "dfba68913eb44effafd08451d4711869": {
          "model_module": "@jupyter-widgets/controls",
          "model_name": "HTMLModel",
          "state": {
            "_view_name": "HTMLView",
            "style": "IPY_MODEL_2c08816e90794794baae603c6685e37d",
            "_dom_classes": [],
            "description": "",
            "_model_name": "HTMLModel",
            "placeholder": "​",
            "_view_module": "@jupyter-widgets/controls",
            "_model_module_version": "1.5.0",
            "value": " 60/61 [11:50&lt;00:11, 11.22s/it, acc=52.7, epoch=40, loss=2.94]",
            "_view_count": null,
            "_view_module_version": "1.5.0",
            "description_tooltip": null,
            "_model_module": "@jupyter-widgets/controls",
            "layout": "IPY_MODEL_337e5855e8394d239c1753c82522692a"
          }
        },
        "05aa6bce47fb4344bb73039b9ecdc702": {
          "model_module": "@jupyter-widgets/controls",
          "model_name": "ProgressStyleModel",
          "state": {
            "_view_name": "StyleView",
            "_model_name": "ProgressStyleModel",
            "description_width": "initial",
            "_view_module": "@jupyter-widgets/base",
            "_model_module_version": "1.5.0",
            "_view_count": null,
            "_view_module_version": "1.2.0",
            "bar_color": null,
            "_model_module": "@jupyter-widgets/controls"
          }
        },
        "790ab0af77bd406081efba2a4823381d": {
          "model_module": "@jupyter-widgets/base",
          "model_name": "LayoutModel",
          "state": {
            "_view_name": "LayoutView",
            "grid_template_rows": null,
            "right": null,
            "justify_content": null,
            "_view_module": "@jupyter-widgets/base",
            "overflow": null,
            "_model_module_version": "1.2.0",
            "_view_count": null,
            "flex_flow": null,
            "width": null,
            "min_width": null,
            "border": null,
            "align_items": null,
            "bottom": null,
            "_model_module": "@jupyter-widgets/base",
            "top": null,
            "grid_column": null,
            "overflow_y": null,
            "overflow_x": null,
            "grid_auto_flow": null,
            "grid_area": null,
            "grid_template_columns": null,
            "flex": null,
            "_model_name": "LayoutModel",
            "justify_items": null,
            "grid_row": null,
            "max_height": null,
            "align_content": null,
            "visibility": null,
            "align_self": null,
            "height": null,
            "min_height": null,
            "padding": null,
            "grid_auto_rows": null,
            "grid_gap": null,
            "max_width": null,
            "order": null,
            "_view_module_version": "1.2.0",
            "grid_template_areas": null,
            "object_position": null,
            "object_fit": null,
            "grid_auto_columns": null,
            "margin": null,
            "display": null,
            "left": null
          }
        },
        "2c08816e90794794baae603c6685e37d": {
          "model_module": "@jupyter-widgets/controls",
          "model_name": "DescriptionStyleModel",
          "state": {
            "_view_name": "StyleView",
            "_model_name": "DescriptionStyleModel",
            "description_width": "",
            "_view_module": "@jupyter-widgets/base",
            "_model_module_version": "1.5.0",
            "_view_count": null,
            "_view_module_version": "1.2.0",
            "_model_module": "@jupyter-widgets/controls"
          }
        },
        "337e5855e8394d239c1753c82522692a": {
          "model_module": "@jupyter-widgets/base",
          "model_name": "LayoutModel",
          "state": {
            "_view_name": "LayoutView",
            "grid_template_rows": null,
            "right": null,
            "justify_content": null,
            "_view_module": "@jupyter-widgets/base",
            "overflow": null,
            "_model_module_version": "1.2.0",
            "_view_count": null,
            "flex_flow": null,
            "width": null,
            "min_width": null,
            "border": null,
            "align_items": null,
            "bottom": null,
            "_model_module": "@jupyter-widgets/base",
            "top": null,
            "grid_column": null,
            "overflow_y": null,
            "overflow_x": null,
            "grid_auto_flow": null,
            "grid_area": null,
            "grid_template_columns": null,
            "flex": null,
            "_model_name": "LayoutModel",
            "justify_items": null,
            "grid_row": null,
            "max_height": null,
            "align_content": null,
            "visibility": null,
            "align_self": null,
            "height": null,
            "min_height": null,
            "padding": null,
            "grid_auto_rows": null,
            "grid_gap": null,
            "max_width": null,
            "order": null,
            "_view_module_version": "1.2.0",
            "grid_template_areas": null,
            "object_position": null,
            "object_fit": null,
            "grid_auto_columns": null,
            "margin": null,
            "display": null,
            "left": null
          }
        }
      }
    }
  },
  "cells": [
    {
      "cell_type": "markdown",
      "metadata": {
        "id": "view-in-github",
        "colab_type": "text"
      },
      "source": [
        "<a href=\"https://colab.research.google.com/github/hookskl/nlp_w_pytorch/blob/main/nmt_w_scheduled_sampling.ipynb\" target=\"_parent\"><img src=\"https://colab.research.google.com/assets/colab-badge.svg\" alt=\"Open In Colab\"/></a>"
      ]
    },
    {
      "cell_type": "markdown",
      "metadata": {
        "id": "NtlOa88Kq9zf"
      },
      "source": [
        "# NMT with Scheduled Sampling (Enlish to French)"
      ]
    },
    {
      "cell_type": "markdown",
      "metadata": {
        "id": "j98QG0_prLM2"
      },
      "source": [
        "## Imports\r\n"
      ]
    },
    {
      "cell_type": "code",
      "metadata": {
        "id": "12FkVK7VqfBy"
      },
      "source": [
        "import os\r\n",
        "from argparse import Namespace\r\n",
        "from collections import Counter\r\n",
        "import json\r\n",
        "import re\r\n",
        "import string\r\n",
        "\r\n",
        "import numpy as np\r\n",
        "import pandas as pd\r\n",
        "import torch\r\n",
        "import torch.nn as nn\r\n",
        "from torch.nn import functional as F\r\n",
        "from torch.nn.utils.rnn import pack_padded_sequence, pad_packed_sequence\r\n",
        "import torch.optim as optim\r\n",
        "from torch.utils.data import Dataset, DataLoader\r\n",
        "from tqdm import tqdm_notebook"
      ],
      "execution_count": 1,
      "outputs": []
    },
    {
      "cell_type": "markdown",
      "metadata": {
        "id": "Yt_AX8kksZaX"
      },
      "source": [
        "## Get Data\r\n"
      ]
    },
    {
      "cell_type": "code",
      "metadata": {
        "colab": {
          "base_uri": "https://localhost:8080/"
        },
        "id": "InUGdXMUsbJq",
        "outputId": "790f04f3-acf5-46b6-f230-48f3e02bc3b0"
      },
      "source": [
        "%%shell\r\n",
        "\r\n",
        "# get python file shell script\r\n",
        "curl -o download.py https://raw.githubusercontent.com/hookskl/PyTorchNLPBook/master/data/download.py\r\n",
        "#! /bin/bash\r\n",
        "\r\n",
        "# For each file, add a download.py line\r\n",
        "# Any additional processing on the downloaded file\r\n",
        "\r\n",
        "HERE=\"$( cd \"$( dirname \"${BASH_SOURCE[0]}\" )\" && pwd )\"\r\n",
        "\r\n",
        "# Surnames Dataset\r\n",
        "mkdir -p $HERE/data/nmt\r\n",
        "\r\n",
        "if [ ! -f $HERE/nmt/simplest_eng_fra.csv ]; then \r\n",
        "    python download.py 1jLx6dZllBQ3LXZkCjZ4VciMQkZUInU10 $HERE/data/nmt/simplest_eng_fra.csv # 30\r\n",
        "fi "
      ],
      "execution_count": 2,
      "outputs": [
        {
          "output_type": "stream",
          "text": [
            "  % Total    % Received % Xferd  Average Speed   Time    Time     Time  Current\n",
            "                                 Dload  Upload   Total   Spent    Left  Speed\n",
            "\r  0     0    0     0    0     0      0      0 --:--:-- --:--:-- --:--:--     0\r100  1572  100  1572    0     0  18714      0 --:--:-- --:--:-- --:--:-- 18714\n",
            "Trying to fetch /content/data/nmt/simplest_eng_fra.csv\n",
            "30it [00:00, 1017.33it/s]\n"
          ],
          "name": "stdout"
        },
        {
          "output_type": "execute_result",
          "data": {
            "text/plain": [
              ""
            ]
          },
          "metadata": {
            "tags": []
          },
          "execution_count": 2
        }
      ]
    },
    {
      "cell_type": "code",
      "metadata": {
        "colab": {
          "base_uri": "https://localhost:8080/",
          "height": 204
        },
        "id": "O3b55uHYwr_9",
        "outputId": "7259fb2e-1455-4aa5-8f8b-bd0163e628e9"
      },
      "source": [
        "dat = pd.read_csv(\"data/nmt/simplest_eng_fra.csv\", index_col=0)\r\n",
        "dat.head()"
      ],
      "execution_count": 3,
      "outputs": [
        {
          "output_type": "execute_result",
          "data": {
            "text/html": [
              "<div>\n",
              "<style scoped>\n",
              "    .dataframe tbody tr th:only-of-type {\n",
              "        vertical-align: middle;\n",
              "    }\n",
              "\n",
              "    .dataframe tbody tr th {\n",
              "        vertical-align: top;\n",
              "    }\n",
              "\n",
              "    .dataframe thead th {\n",
              "        text-align: right;\n",
              "    }\n",
              "</style>\n",
              "<table border=\"1\" class=\"dataframe\">\n",
              "  <thead>\n",
              "    <tr style=\"text-align: right;\">\n",
              "      <th></th>\n",
              "      <th>source_language</th>\n",
              "      <th>split</th>\n",
              "      <th>target_language</th>\n",
              "    </tr>\n",
              "  </thead>\n",
              "  <tbody>\n",
              "    <tr>\n",
              "      <th>0</th>\n",
              "      <td>he 's the cutest boy in town .</td>\n",
              "      <td>train</td>\n",
              "      <td>c'est le garçon le plus mignon en ville .</td>\n",
              "    </tr>\n",
              "    <tr>\n",
              "      <th>1</th>\n",
              "      <td>he 's a nonsmoker .</td>\n",
              "      <td>train</td>\n",
              "      <td>il est non-fumeur .</td>\n",
              "    </tr>\n",
              "    <tr>\n",
              "      <th>2</th>\n",
              "      <td>he 's smarter than me .</td>\n",
              "      <td>train</td>\n",
              "      <td>il est plus intelligent que moi .</td>\n",
              "    </tr>\n",
              "    <tr>\n",
              "      <th>3</th>\n",
              "      <td>he 's a lovely young man .</td>\n",
              "      <td>train</td>\n",
              "      <td>c'est un adorable jeune homme .</td>\n",
              "    </tr>\n",
              "    <tr>\n",
              "      <th>4</th>\n",
              "      <td>he 's three years older than me .</td>\n",
              "      <td>train</td>\n",
              "      <td>il a trois ans de plus que moi .</td>\n",
              "    </tr>\n",
              "  </tbody>\n",
              "</table>\n",
              "</div>"
            ],
            "text/plain": [
              "                     source_language  ...                            target_language\n",
              "0     he 's the cutest boy in town .  ...  c'est le garçon le plus mignon en ville .\n",
              "1                he 's a nonsmoker .  ...                        il est non-fumeur .\n",
              "2            he 's smarter than me .  ...          il est plus intelligent que moi .\n",
              "3         he 's a lovely young man .  ...            c'est un adorable jeune homme .\n",
              "4  he 's three years older than me .  ...           il a trois ans de plus que moi .\n",
              "\n",
              "[5 rows x 3 columns]"
            ]
          },
          "metadata": {
            "tags": []
          },
          "execution_count": 3
        }
      ]
    },
    {
      "cell_type": "markdown",
      "metadata": {
        "id": "Iz8OFKypswCe"
      },
      "source": [
        "## Vocabulary"
      ]
    },
    {
      "cell_type": "code",
      "metadata": {
        "id": "x2YfKgihsxZ4"
      },
      "source": [
        "class Vocabulary(object):\r\n",
        "    \"\"\"Class to process text and extract vocabulary for mapping\"\"\"\r\n",
        "\r\n",
        "    def __init__(self, token_to_idx=None):\r\n",
        "        \"\"\"\r\n",
        "        Args:\r\n",
        "            token_to_idx (dict): a pre-existing map of tokens to indices\r\n",
        "        \"\"\"\r\n",
        "\r\n",
        "        if token_to_idx is None:\r\n",
        "            token_to_idx = {}\r\n",
        "        self._token_to_idx = token_to_idx\r\n",
        "\r\n",
        "        self._idx_to_token = {idx: token \r\n",
        "                              for token, idx in self._token_to_idx.items()}\r\n",
        "        \r\n",
        "    def to_serializable(self):\r\n",
        "        \"\"\" returns a dictionary that can be serialized \"\"\"\r\n",
        "        return {'token_to_idx': self._token_to_idx}\r\n",
        "\r\n",
        "    @classmethod\r\n",
        "    def from_serializable(cls, contents):\r\n",
        "        \"\"\" instantiates the Vocabulary from a serialized dictionary \"\"\"\r\n",
        "        return cls(**contents)\r\n",
        "\r\n",
        "    def add_token(self, token):\r\n",
        "        \"\"\"Update mapping dicts based on the token.\r\n",
        "\r\n",
        "        Args:\r\n",
        "            token (str): the item to add into the Vocabulary\r\n",
        "        Returns:\r\n",
        "            index (int): the integer corresponding to the token\r\n",
        "        \"\"\"\r\n",
        "        if token in self._token_to_idx:\r\n",
        "            index = self._token_to_idx[token]\r\n",
        "        else:\r\n",
        "            index = len(self._token_to_idx)\r\n",
        "            self._token_to_idx[token] = index\r\n",
        "            self._idx_to_token[index] = token\r\n",
        "        return index\r\n",
        "            \r\n",
        "    def add_many(self, tokens):\r\n",
        "        \"\"\"Add a list of tokens into the Vocabulary\r\n",
        "        \r\n",
        "        Args:\r\n",
        "            tokens (list): a list of string tokens\r\n",
        "        Returns:\r\n",
        "            indices (list): a list of indices corresponding to the tokens\r\n",
        "        \"\"\"\r\n",
        "        return [self.add_token(token) for token in tokens]\r\n",
        "\r\n",
        "    def lookup_token(self, token):\r\n",
        "        \"\"\"Retrieve the index associated with the token \r\n",
        "        \r\n",
        "        Args:\r\n",
        "            token (str): the token to look up \r\n",
        "        Returns:\r\n",
        "            index (int): the index corresponding to the token\r\n",
        "        \"\"\"\r\n",
        "        return self._token_to_idx[token]\r\n",
        "\r\n",
        "    def lookup_index(self, index):\r\n",
        "        \"\"\"Return the token associated with the index\r\n",
        "        \r\n",
        "        Args: \r\n",
        "            index (int): the index to look up\r\n",
        "        Returns:\r\n",
        "            token (str): the token corresponding to the index\r\n",
        "        Raises:\r\n",
        "            KeyError: if the index is not in the Vocabulary\r\n",
        "        \"\"\"\r\n",
        "        if index not in self._idx_to_token:\r\n",
        "            raise KeyError(\"the index (%d) is not in the Vocabulary\" % index)\r\n",
        "        return self._idx_to_token[index]\r\n",
        "\r\n",
        "    def __str__(self):\r\n",
        "        return \"<Vocabulary(size=%d)>\" % len(self)\r\n",
        "\r\n",
        "    def __len__(self):\r\n",
        "        return len(self._token_to_idx)"
      ],
      "execution_count": 4,
      "outputs": []
    },
    {
      "cell_type": "code",
      "metadata": {
        "id": "rukC_aIN5L7y"
      },
      "source": [
        "class SequenceVocabulary(Vocabulary):\r\n",
        "    def __init__(self, token_to_idx=None, unk_token=\"<UNK>\",\r\n",
        "                 mask_token=\"<MASK>\", begin_seq_token=\"<BEGIN>\",\r\n",
        "                 end_seq_token=\"<END>\"):\r\n",
        "\r\n",
        "        super(SequenceVocabulary, self).__init__(token_to_idx)\r\n",
        "\r\n",
        "        self._mask_token = mask_token\r\n",
        "        self._unk_token = unk_token\r\n",
        "        self._begin_seq_token = begin_seq_token\r\n",
        "        self._end_seq_token = end_seq_token\r\n",
        "\r\n",
        "        self.mask_index = self.add_token(self._mask_token)\r\n",
        "        self.unk_index = self.add_token(self._unk_token)\r\n",
        "        self.begin_seq_index = self.add_token(self._begin_seq_token)\r\n",
        "        self.end_seq_index = self.add_token(self._end_seq_token)\r\n",
        "\r\n",
        "    def to_serializable(self):\r\n",
        "        contents = super(SequenceVocabulary, self).to_serializable()\r\n",
        "        contents.update({'unk_token': self._unk_token,\r\n",
        "                         'mask_token': self._mask_token,\r\n",
        "                         'begin_seq_token': self._begin_seq_token,\r\n",
        "                         'end_seq_token': self._end_seq_token})\r\n",
        "        return contents\r\n",
        "\r\n",
        "    def lookup_token(self, token):\r\n",
        "        \"\"\"Retrieve the index associated with the token\r\n",
        "          or the UNK index if token isn't present\r\n",
        "\r\n",
        "        Args:\r\n",
        "            token (str): the token to look up\r\n",
        "        Returns:\r\n",
        "            index (int): the index corresponding to token\r\n",
        "        Notes:\r\n",
        "            `unk_index` needs to be >=0 (i.e. added into the Vocabulary)\r\n",
        "                for the UNK functionality\r\n",
        "        \"\"\"\r\n",
        "        if self.unk_index >= 0:\r\n",
        "            return self._token_to_idx.get(token, self.unk_index)\r\n",
        "        else:\r\n",
        "            return self._token_to_idx[token]"
      ],
      "execution_count": 5,
      "outputs": []
    },
    {
      "cell_type": "markdown",
      "metadata": {
        "id": "SpuysWp-sy5S"
      },
      "source": [
        "## Vectorizer"
      ]
    },
    {
      "cell_type": "code",
      "metadata": {
        "id": "ZeRI-lnSszpB"
      },
      "source": [
        "class NMTVectorizer(object):\r\n",
        "    \"\"\"The Vectorizer which coordinates the Vocabularies and puts them to use\"\"\"\r\n",
        "    def __init__(self, source_vocab, target_vocab, max_source_length, max_target_length):\r\n",
        "        \"\"\"\r\n",
        "        Args:\r\n",
        "            source_vocab (SequenceVocabulary): maps source words to integers\r\n",
        "            target_vocab (SequenceVocabulary): maps target words to integers\r\n",
        "            max_source_length (int): the longest sequence in the source dataset\r\n",
        "            max_target_length (int): the longest sequence in the target dataset\r\n",
        "        \"\"\"\r\n",
        "        self.source_vocab = source_vocab \r\n",
        "        self.target_vocab = target_vocab \r\n",
        "\r\n",
        "        self.max_source_length = max_source_length\r\n",
        "        self.max_target_length = max_target_length\r\n",
        "\r\n",
        "    def _vectorize(self, indices, vector_length=-1, mask_index=0):\r\n",
        "        \"\"\"Vectorize the provided indices\r\n",
        "\r\n",
        "        Args:\r\n",
        "            indices (list): a list of integers that represent a sequence\r\n",
        "            vector_length (int): an argument for forcing the length of index vector\r\n",
        "            mask_index (int): the mask_index to use; almost always 0\r\n",
        "        \"\"\"\r\n",
        "        if vector_length < 0:\r\n",
        "            vector_length = len(indices) \r\n",
        "\r\n",
        "        vector = np.zeros(vector_length, dtype=np.int64)\r\n",
        "        vector[:len(indices)] = indices\r\n",
        "        vector[len(indices):] = mask_index\r\n",
        "\r\n",
        "        return vector\r\n",
        "\r\n",
        "    def _get_source_indices(self, text):\r\n",
        "        \"\"\"Return the vectorized source text\r\n",
        "\r\n",
        "        Args:\r\n",
        "            text (str): the source text; tokens should be separated by spaces\r\n",
        "        Returns:\r\n",
        "            indices (list): list of integers representing the text\r\n",
        "        \"\"\"\r\n",
        "        indices = [self.source_vocab.begin_seq_index]\r\n",
        "        indices.extend(self.source_vocab.lookup_token(token) for token in text.split(\" \"))\r\n",
        "        indices.append(self.source_vocab.end_seq_index)\r\n",
        "        return indices \r\n",
        "\r\n",
        "    def _get_target_indices(self, text):\r\n",
        "        \"\"\"Return the vectorized target text\r\n",
        "\r\n",
        "        Args:\r\n",
        "            text (str): the target text; tokens should be separated by spaces\r\n",
        "        Returns:\r\n",
        "            a tuple: (x_indices, y_indices)\r\n",
        "                x_indices (list): list of integers representing the observations in target decoder\r\n",
        "                y_indices (list): list of integers representing predictions in target decoder\r\n",
        "        \"\"\"\r\n",
        "        indices = [self.target_vocab.lookup_token(token) for token in text.split(\" \")]\r\n",
        "        x_indices = [self.target_vocab.begin_seq_index] + indices\r\n",
        "        y_indices = indices + [self.target_vocab.end_seq_index]\r\n",
        "        return x_indices, y_indices\r\n",
        "\r\n",
        "    def vectorize(self, source_text, target_text, use_dataset_max_lengths=True):\r\n",
        "        \"\"\"Return the vecotrized source and target text\r\n",
        "\r\n",
        "        The vectorized source text is just a single vector\r\n",
        "        The vectorized target text is split into two vectors,\r\n",
        "          copies of the target text where the target_x_vector\r\n",
        "          is the target text plus the <BEGIN> token and the\r\n",
        "          target_y_vector is the target text plust the <END> token\r\n",
        "        At each timestep, the first vector is the observation and \r\n",
        "        the second vector is the target.\r\n",
        "\r\n",
        "        Args:\r\n",
        "            source_text (str): text from the source language\r\n",
        "            target_text (str): text from the target language\r\n",
        "            use_dataset_max_lengths (bool): whether to use the global max vector lengths\r\n",
        "        Returns:\r\n",
        "            The vectorized data point as a dictionary with the keys:\r\n",
        "                source_vector, target_x_vector, target_y_vector, source_length\r\n",
        "        \"\"\"\r\n",
        "        source_vector_length = -1\r\n",
        "        target_vector_length = -1\r\n",
        "\r\n",
        "        if use_dataset_max_lengths:\r\n",
        "            source_vector_length = self.max_source_length + 2\r\n",
        "            target_vector_length = self.max_target_length + 1\r\n",
        "\r\n",
        "        source_indices = self._get_source_indices(source_text)\r\n",
        "        source_vector = self._vectorize(source_indices,\r\n",
        "                                        vector_length=source_vector_length,\r\n",
        "                                        mask_index=self.source_vocab.mask_index)\r\n",
        "        \r\n",
        "        target_x_indices, target_y_indices = self._get_target_indices(target_text)\r\n",
        "        target_x_vector = self._vectorize(target_x_indices,\r\n",
        "                                          vector_length=target_vector_length,\r\n",
        "                                          mask_index=self.target_vocab.mask_index)\r\n",
        "        target_y_vector = self._vectorize(target_y_indices,\r\n",
        "                                           vector_length=target_vector_length,\r\n",
        "                                           mask_index=self.target_vocab.mask_index)\r\n",
        "        return {\"source_vector\": source_vector,\r\n",
        "                \"target_x_vector\": target_x_vector,\r\n",
        "                \"target_y_vector\": target_y_vector,\r\n",
        "                \"source_length\": len(source_indices)}\r\n",
        "\r\n",
        "    @classmethod\r\n",
        "    def from_dataframe(cls, bitext_df):\r\n",
        "        \"\"\"instantiate the vectorizer from the dataset dataframe\r\n",
        "\r\n",
        "        Args:\r\n",
        "            bitext_df (pandas.DataFrame): the parallel text dataset\r\n",
        "        Returns:\r\n",
        "            an instance of the the NMTVectorizer\r\n",
        "        \"\"\"\r\n",
        "        source_vocab = SequenceVocabulary()\r\n",
        "        target_vocab = SequenceVocabulary()\r\n",
        "\r\n",
        "        max_source_length = 0\r\n",
        "        max_target_length = 0\r\n",
        "\r\n",
        "        for _, row in bitext_df.iterrows():\r\n",
        "            source_tokens = row[\"source_language\"].split(\" \")\r\n",
        "            if len(source_tokens) > max_source_length:\r\n",
        "                max_source_length = len(source_tokens)\r\n",
        "            for token in source_tokens:\r\n",
        "                source_vocab.add_token(token)\r\n",
        "\r\n",
        "            target_tokens = row[\"target_language\"].split(\" \")\r\n",
        "            if len(target_tokens) > max_target_length:\r\n",
        "                max_target_length = len(target_tokens)\r\n",
        "            for token in target_tokens:\r\n",
        "                target_vocab.add_token(token)\r\n",
        "            \r\n",
        "        return cls(source_vocab, target_vocab, max_source_length, max_target_length)\r\n",
        "\r\n",
        "    @classmethod\r\n",
        "    def from_serializable(cls, contents):\r\n",
        "        source_vocab = SequenceVocabulary.from_serializable(contents[\"source_vocab\"])\r\n",
        "        target_vocab = SequenceVocabulary.from_serializable(contents[\"target_vocab\"])\r\n",
        "        \r\n",
        "        return cls(source_vocab=source_vocab, \r\n",
        "                   target_vocab=target_vocab, \r\n",
        "                   max_source_length=contents[\"max_source_length\"], \r\n",
        "                   max_target_length=contents[\"max_target_length\"])\r\n",
        "\r\n",
        "    def to_serializable(self):\r\n",
        "        return {\"source_vocab\": self.source_vocab.to_serializable(), \r\n",
        "                \"target_vocab\": self.target_vocab.to_serializable(), \r\n",
        "                \"max_source_length\": self.max_source_length}"
      ],
      "execution_count": 6,
      "outputs": []
    },
    {
      "cell_type": "markdown",
      "metadata": {
        "id": "gEzVaCZks1nb"
      },
      "source": [
        "## NMT Dataset"
      ]
    },
    {
      "cell_type": "code",
      "metadata": {
        "id": "G6YaK5kbs3KU"
      },
      "source": [
        "class NMTDataset(Dataset):\r\n",
        "    def __init__(self, text_df, vectorizer):\r\n",
        "        \"\"\"\r\n",
        "        Args:\r\n",
        "            surname_df (pandas.DataFrame): the dataset\r\n",
        "            vectorizer (SurnameVectorizer): vectorizer instatiated from dataset\r\n",
        "        \"\"\"\r\n",
        "        self.text_df = text_df\r\n",
        "        self._vectorizer = vectorizer\r\n",
        "\r\n",
        "        self.train_df = self.text_df[self.text_df.split=='train']\r\n",
        "        self.train_size = len(self.train_df)\r\n",
        "\r\n",
        "        self.val_df = self.text_df[self.text_df.split=='val']\r\n",
        "        self.validation_size = len(self.val_df)\r\n",
        "\r\n",
        "        self.test_df = self.text_df[self.text_df.split=='test']\r\n",
        "        self.test_size = len(self.test_df)\r\n",
        "\r\n",
        "        self._lookup_dict = {'train': (self.train_df, self.train_size),\r\n",
        "                             'val': (self.val_df, self.validation_size),\r\n",
        "                             'test': (self.test_df, self.test_size)}\r\n",
        "\r\n",
        "        self.set_split('train')\r\n",
        "\r\n",
        "    @classmethod\r\n",
        "    def load_dataset_and_make_vectorizer(cls, dataset_csv):\r\n",
        "        \"\"\"Load dataset and make a new vectorizer from scratch\r\n",
        "        \r\n",
        "        Args:\r\n",
        "            surname_csv (str): location of the dataset\r\n",
        "        Returns:\r\n",
        "            an instance of SurnameDataset\r\n",
        "        \"\"\"\r\n",
        "        text_df = pd.read_csv(dataset_csv)\r\n",
        "        train_subset = text_df[text_df.split=='train']\r\n",
        "        return cls(text_df, NMTVectorizer.from_dataframe(train_subset))\r\n",
        "\r\n",
        "    @classmethod\r\n",
        "    def load_dataset_and_load_vectorizer(cls, dataset_csv, vectorizer_filepath):\r\n",
        "        \"\"\"Load dataset and the corresponding vectorizer. \r\n",
        "        Used in the case in the vectorizer has been cached for re-use\r\n",
        "        \r\n",
        "        Args:\r\n",
        "            surname_csv (str): location of the dataset\r\n",
        "            vectorizer_filepath (str): location of the saved vectorizer\r\n",
        "        Returns:\r\n",
        "            an instance of SurnameDataset\r\n",
        "        \"\"\"\r\n",
        "        text_df = pd.read_csv(dataset_csv)\r\n",
        "        vectorizer = cls.load_vectorizer_only(vectorizer_filepath)\r\n",
        "        return cls(text_df, vectorizer)\r\n",
        "\r\n",
        "    @staticmethod\r\n",
        "    def load_vectorizer_only(vectorizer_filepath):\r\n",
        "        \"\"\"a static method for loading the vectorizer from file\r\n",
        "        \r\n",
        "        Args:\r\n",
        "            vectorizer_filepath (str): the location of the serialized vectorizer\r\n",
        "        Returns:\r\n",
        "            an instance of SurnameVectorizer\r\n",
        "        \"\"\"\r\n",
        "        with open(vectorizer_filepath) as fp:\r\n",
        "            return NMTVectorizer.from_serializable(json.load(fp))\r\n",
        "\r\n",
        "    def save_vectorizer(self, vectorizer_filepath):\r\n",
        "        \"\"\"saves the vectorizer to disk using json\r\n",
        "        \r\n",
        "        Args:\r\n",
        "            vectorizer_filepath (str): the location to save the vectorizer\r\n",
        "        \"\"\"\r\n",
        "        with open(vectorizer_filepath, \"w\") as fp:\r\n",
        "            json.dump(self._vectorizer.to_serializable(), fp)\r\n",
        "\r\n",
        "    def get_vectorizer(self):\r\n",
        "        \"\"\" returns the vectorizer \"\"\"\r\n",
        "        return self._vectorizer\r\n",
        "\r\n",
        "    def set_split(self, split=\"train\"):\r\n",
        "        self._target_split = split\r\n",
        "        self._target_df, self._target_size = self._lookup_dict[split]\r\n",
        "\r\n",
        "    def __len__(self):\r\n",
        "        return self._target_size\r\n",
        "\r\n",
        "    def __getitem__(self, index):\r\n",
        "        \"\"\"the primary entry point method for PyTorch datasets\r\n",
        "        \r\n",
        "        Args:\r\n",
        "            index (int): the index to the data point \r\n",
        "        Returns:\r\n",
        "            a dictionary holding the data point: (x_data, y_target, class_index)\r\n",
        "        \"\"\"\r\n",
        "        row = self._target_df.iloc[index]\r\n",
        "\r\n",
        "        vector_dict = self._vectorizer.vectorize(row.source_language, row.target_language)\r\n",
        "\r\n",
        "        return {\"x_source\": vector_dict[\"source_vector\"], \r\n",
        "                \"x_target\": vector_dict[\"target_x_vector\"],\r\n",
        "                \"y_target\": vector_dict[\"target_y_vector\"], \r\n",
        "                \"x_source_length\": vector_dict[\"source_length\"]}\r\n",
        "        \r\n",
        "    def get_num_batches(self, batch_size):\r\n",
        "        \"\"\"Given a batch size, return the number of batches in the dataset\r\n",
        "        \r\n",
        "        Args:\r\n",
        "            batch_size (int)\r\n",
        "        Returns:\r\n",
        "            number of batches in the dataset\r\n",
        "        \"\"\"\r\n",
        "        return len(self) // batch_size\r\n",
        "\r\n",
        "def generate_nmt_batches(dataset, batch_size, shuffle=True, \r\n",
        "                            drop_last=True, device=\"cpu\"):\r\n",
        "    \"\"\"A generator function which wraps the PyTorch DataLoader.  The NMT Version \"\"\"\r\n",
        "    dataloader = DataLoader(dataset=dataset, batch_size=batch_size,\r\n",
        "                            shuffle=shuffle, drop_last=drop_last)\r\n",
        "\r\n",
        "    for data_dict in dataloader:\r\n",
        "        lengths = data_dict['x_source_length'].numpy()\r\n",
        "        sorted_length_indices = lengths.argsort()[::-1].tolist()\r\n",
        "        \r\n",
        "        out_data_dict = {}\r\n",
        "        for name, tensor in data_dict.items():\r\n",
        "            out_data_dict[name] = data_dict[name][sorted_length_indices].to(device)\r\n",
        "        yield out_data_dict"
      ],
      "execution_count": 7,
      "outputs": []
    },
    {
      "cell_type": "markdown",
      "metadata": {
        "id": "7INq2E00s6Om"
      },
      "source": [
        "## NMT Model"
      ]
    },
    {
      "cell_type": "markdown",
      "metadata": {
        "id": "CuLTYZ_0s9Di"
      },
      "source": [
        "### NMT Encoder"
      ]
    },
    {
      "cell_type": "code",
      "metadata": {
        "id": "9aKYtnsls8d8"
      },
      "source": [
        "class NMTEncoder(nn.Module):\r\n",
        "    def __init__(self, num_embeddings, embedding_size, rnn_hidden_size):\r\n",
        "        \"\"\"\r\n",
        "        Args:\r\n",
        "            num_embeddings (int): number of embeddings is the size of source vocabulary\r\n",
        "            embedding_size (int): size of the embedding vectors\r\n",
        "            rnn_hidden_size (int): size of the RNN hidden state vectors\r\n",
        "        \"\"\"\r\n",
        "        super(NMTEncoder, self).__init__()\r\n",
        "\r\n",
        "        self.source_embedding = nn.Embedding(num_embeddings, embedding_size, padding_idx=0)\r\n",
        "        self.birnn = nn.GRU(embedding_size, rnn_hidden_size, bidirectional=True, batch_first=True)\r\n",
        "\r\n",
        "    def forward(self, x_source, x_lengths):\r\n",
        "          \"\"\"the forward pass of the model\r\n",
        "\r\n",
        "          Args:\r\n",
        "              x_source (torch.Tensor): the input data tensor.\r\n",
        "                  x_source.shape is (batch, seq_size)\r\n",
        "              x_lengths (torch.Tensor): a vector of lengths for each item in the batch\r\n",
        "          Returns:\r\n",
        "              a tuple: x_unpacked (torch.Tensor), x_birnn_h (torch.Tensor)\r\n",
        "                  x_unpacked.shape = (batch, seq_size, rnn_hidden_size * 2)\r\n",
        "                  x_birnn_h.shape = (batch, rnn_hidden_size * 2)\r\n",
        "          \"\"\"\r\n",
        "          x_embedded = self.source_embedding(x_source)\r\n",
        "          # create PackedSequence; x_packed.data.shape=(number_items, embedding_size)\r\n",
        "          x_packed = pack_padded_sequence(x_embedded, x_lengths.detach().cpu().numpy(),\r\n",
        "                                          batch_first=True)\r\n",
        "          \r\n",
        "          # x_birnn_h.shape = (num_rnn, batch_size, feature_size)\r\n",
        "          x_birnn_out, x_birnn_h = self.birnn(x_packed)\r\n",
        "          # permute to (batch_size, num_rnn, feature_size)\r\n",
        "          x_birnn_h = x_birnn_h.permute(1, 0, 2)\r\n",
        "\r\n",
        "          # flatten features; reshape to (batch_size, num_rnn * feature_size)\r\n",
        "          # (recall: -1 takes the remaining positions,\r\n",
        "          #           flattening the two RNN hidden vectors into 1)\r\n",
        "          x_birnn_h = x_birnn_h.contiguous().view(x_birnn_h.size(0), -1)\r\n",
        "\r\n",
        "          x_unpacked, _ = pad_packed_sequence(x_birnn_out, batch_first=True)\r\n",
        "\r\n",
        "          return x_unpacked, x_birnn_h"
      ],
      "execution_count": 8,
      "outputs": []
    },
    {
      "cell_type": "markdown",
      "metadata": {
        "id": "Ap6ZB0aV8yU7"
      },
      "source": [
        "## Dot Product Attention"
      ]
    },
    {
      "cell_type": "code",
      "metadata": {
        "id": "fgFtTyqB81pl"
      },
      "source": [
        "def terse_attention(encoder_state_vectors, query_vector):\r\n",
        "    \"\"\"optimized version of the neural attention mechanism\r\n",
        "\r\n",
        "    Args:\r\n",
        "        encoder_state_vectors (torch.Tensor): 3D tensor from bi-GRU in encoder\r\n",
        "        query_vector (torch.Tensor): hidden state\r\n",
        "    \"\"\"\r\n",
        "    vector_scores = torch.matmul(encoder_state_vectors, query_vector.unsqueeze(dim=2)).squeeze()\r\n",
        "    vector_probabilities = F.softmax(vector_scores, dim=-1)\r\n",
        "    context_vectors = torch.matmul(encoder_state_vectors.transpose(-2, -1),\r\n",
        "                                   vector_probabilities.unsqueeze(dim=2)).squeeze()\r\n",
        "    return context_vectors, vector_probabilities, vector_scores                                   "
      ],
      "execution_count": 9,
      "outputs": []
    },
    {
      "cell_type": "markdown",
      "metadata": {
        "id": "oAhX_9Y6tC6G"
      },
      "source": [
        "### NMT Decoder"
      ]
    },
    {
      "cell_type": "code",
      "metadata": {
        "id": "3YrO9JIbtESb"
      },
      "source": [
        "class NMTDecoder(nn.Module):\r\n",
        "    def __init__(self, num_embeddings, embedding_size, rnn_hidden_size, bos_index):\r\n",
        "        \"\"\"\r\n",
        "        Args:\r\n",
        "            num_embeddings (int): number of embeddings is also the number of \r\n",
        "                unique words in target vocabulary\r\n",
        "            embedding_size (int): the embedding vector size\r\n",
        "            rnn_hidden_size (int): size of the hidden rnn state\r\n",
        "            bos_index (int): begin-of-sequence index\r\n",
        "        \"\"\"\r\n",
        "        super(NMTDecoder, self).__init__()\r\n",
        "        self._rnn_hidden_size = rnn_hidden_size \r\n",
        "        self.target_embedding = nn.Embedding(num_embeddings=num_embeddings,\r\n",
        "                                             embedding_dim=embedding_size,\r\n",
        "                                             padding_idx=0)\r\n",
        "        self.gru_cell = nn.GRUCell(embedding_size + rnn_hidden_size,\r\n",
        "                                   rnn_hidden_size)\r\n",
        "        self.hidden_map = nn.Linear(rnn_hidden_size, rnn_hidden_size)\r\n",
        "        self.classifier = nn.Linear(rnn_hidden_size * 2, num_embeddings)\r\n",
        "        self.bos_index = bos_index \r\n",
        "        self._sampling_temperature = 3\r\n",
        "\r\n",
        "    def _init_indices(self, batch_size):\r\n",
        "        \"\"\"return the BEGIN-OF-SEQUENCE index vector\"\"\"\r\n",
        "        return torch.ones(batch_size, dtype=torch.int64) * self.bos_index \r\n",
        "    \r\n",
        "    def _init_context_vectors(self, batch_size):\r\n",
        "        \"\"\"return a zeros vector for initializing the context\"\"\"\r\n",
        "        return torch.zeros(batch_size, self._rnn_hidden_size)\r\n",
        "\r\n",
        "    def forward(self, encoder_state, initial_hidden_state, target_sequence, sample_probability=0.0):\r\n",
        "        \"\"\"the forward pass of the model\r\n",
        "\r\n",
        "        Args:\r\n",
        "            encoder_state (torch.Tensor): the output of the NMTEncoder\r\n",
        "            initial_hidden_state (torch.Tensor): the last hidden state in the NMTEncoder\r\n",
        "            target_sequence (torch.Tensor): the target next data tensor\r\n",
        "            sample_probability (float): the schedule sampling paramter\r\n",
        "                probability of using model's predictions at each decoder step\r\n",
        "        Returns:\r\n",
        "            output_vectors (torch.Tensor): predcition vectors at each output step\r\n",
        "        \"\"\"\r\n",
        "        if target_sequence is None:\r\n",
        "            sample_probability = 1.0\r\n",
        "        else:\r\n",
        "            # assumption: batch is on the first dimension -> input is (Batch, Seq)\r\n",
        "            # in order to iterate over the sequence, permute to (Seq, Batch)\r\n",
        "            target_sequence = target_sequence.permute(1, 0)\r\n",
        "            output_sequence_size = target_sequence.size(0)\r\n",
        "\r\n",
        "        # use the provided encoder hidden state as the initial hidden state\r\n",
        "        h_t = self.hidden_map(initial_hidden_state)\r\n",
        "\r\n",
        "        batch_size = encoder_state.size(0)\r\n",
        "        # initialize the context vectors to zeros\r\n",
        "        context_vectors = self._init_context_vectors(batch_size)\r\n",
        "        # initialize first y_t word as BOS\r\n",
        "        y_t_index = self._init_indices(batch_size)\r\n",
        "\r\n",
        "        h_t = h_t.to(encoder_state.device)\r\n",
        "        y_t_index = y_t_index.to(encoder_state.device)\r\n",
        "        context_vectors = context_vectors.to(encoder_state.device)\r\n",
        "\r\n",
        "        output_vectors = []\r\n",
        "        self._cached_p_attn = []\r\n",
        "        self._cached_ht = []\r\n",
        "        self._cached_decoder_state = encoder_state.cpu().detach().numpy()\r\n",
        "\r\n",
        "        for i in range(output_sequence_size):\r\n",
        "            # schedule sampling\r\n",
        "            use_sample = np.random.random() < sample_probability\r\n",
        "            if not use_sample:\r\n",
        "                y_t_index = target_sequence[i]\r\n",
        "\r\n",
        "            # Step 1: embed word and concat with previous context\r\n",
        "            y_input_vector = self.target_embedding(y_t_index)\r\n",
        "            rnn_input = torch.cat([y_input_vector, context_vectors], dim=1)\r\n",
        "\r\n",
        "            # Step 2: make a GRU step, getting a new hidden vector\r\n",
        "            h_t = self.gru_cell(rnn_input, h_t)\r\n",
        "            self._cached_ht.append(h_t.cpu().detach().numpy())\r\n",
        "\r\n",
        "            # Step 3: use the current hidden to attend to the encoder state\r\n",
        "            context_vectors, p_attn, _ = terse_attention(encoder_state_vectors=encoder_state,\r\n",
        "                                                          query_vector=h_t)\r\n",
        "            \r\n",
        "            # auxillary: cache the attention probabilities for visualization\r\n",
        "            self._cached_p_attn.append(p_attn.cpu().detach().numpy())\r\n",
        "\r\n",
        "            # Step 4: use the current hidden and context vectors to make a prediction to the next word\r\n",
        "            prediction_vector = torch.cat((context_vectors, h_t), dim=1)\r\n",
        "            score_for_y_t_index = self.classifier(F.dropout(prediction_vector, 0.3))\r\n",
        "\r\n",
        "            if use_sample:\r\n",
        "                p_y_t_index = F.softmax(score_for_y_t_index * self._sampling_temperature, dim=1)\r\n",
        "                # _, y_t_index = torch.max(p_y_t_index, 1)\r\n",
        "                y_t_index = torch.multinomial(p_y_t_index, 1).squeeze()\r\n",
        "\r\n",
        "            # auxillary: collect the prediction scores\r\n",
        "            output_vectors.append(score_for_y_t_index)\r\n",
        "\r\n",
        "        output_vectors = torch.stack(output_vectors).permute(1, 0, 2)\r\n",
        "        return output_vectors"
      ],
      "execution_count": 10,
      "outputs": []
    },
    {
      "cell_type": "markdown",
      "metadata": {
        "id": "8Qft7TGxtI_6"
      },
      "source": [
        "### Full model and Forward Pass"
      ]
    },
    {
      "cell_type": "code",
      "metadata": {
        "id": "Ni_QUHh4tLD7"
      },
      "source": [
        "class NMTModel(nn.Module):\r\n",
        "    \"\"\"the full NMT model\"\"\"\r\n",
        "    def __init__(self, source_vocab_size, source_embedding_size,\r\n",
        "                 target_vocab_size, target_embedding_size, encoding_size,\r\n",
        "                 target_bos_index):\r\n",
        "        \"\"\"\r\n",
        "        Args:\r\n",
        "            source_vocab_size (int): number of unique words in source language\r\n",
        "            source_embedding_size (int): size of the source embedding vectors\r\n",
        "            target_vocab_size (int): number of unique words in target language\r\n",
        "            target_embedding_size (int): size of the target embedding vectors\r\n",
        "            encoding_size (int): the size of the encoder RNN\r\n",
        "        \"\"\"\r\n",
        "        super(NMTModel, self).__init__()\r\n",
        "        self.encoder = NMTEncoder(num_embeddings=source_vocab_size,\r\n",
        "                                  embedding_size=source_embedding_size,\r\n",
        "                                  rnn_hidden_size=encoding_size)\r\n",
        "        decoding_size = encoding_size * 2\r\n",
        "        self.decoder = NMTDecoder(num_embeddings=target_vocab_size,\r\n",
        "                                  embedding_size=target_embedding_size,\r\n",
        "                                  rnn_hidden_size=decoding_size,\r\n",
        "                                  bos_index=target_bos_index)\r\n",
        "        \r\n",
        "    def forward(self, x_source, x_source_lengths, target_sequence, sample_probability=0.0):\r\n",
        "        \"\"\"the forward pass of the model\r\n",
        "\r\n",
        "        Args:\r\n",
        "            x_source (torch.Tensor): the source text data tensor\r\n",
        "                x_source.shape should be (batch, vectorizer.max_source_length)\r\n",
        "            x_source_lengths (torch.Tensor): the length of the sequences in x_source\r\n",
        "            target_sequence (torch.Tensor): the target text data tensor\r\n",
        "            sample_probability (float): the schedule sampling parameter\r\n",
        "                probability of using model's predictions at each decoder step\r\n",
        "        Returns:\r\n",
        "            decoded_states (torch.Tensor): prediction vectors at each output step\r\n",
        "        \"\"\"\r\n",
        "        encoder_state, final_hidden_states = self.encoder(x_source, x_source_lengths)\r\n",
        "        decoded_states = self.decoder(encoder_state=encoder_state,\r\n",
        "                                      initial_hidden_state=final_hidden_states,\r\n",
        "                                      target_sequence=target_sequence,\r\n",
        "                                      sample_probability=sample_probability)\r\n",
        "        return decoded_states"
      ],
      "execution_count": 11,
      "outputs": []
    },
    {
      "cell_type": "markdown",
      "metadata": {
        "id": "neoa6JQDuvVK"
      },
      "source": [
        "## Training Routine"
      ]
    },
    {
      "cell_type": "markdown",
      "metadata": {
        "id": "11e8RObZuxKj"
      },
      "source": [
        "### Bookkeeping Functions"
      ]
    },
    {
      "cell_type": "code",
      "metadata": {
        "id": "jtZvL2wWuwnG"
      },
      "source": [
        "def set_seed_everywhere(seed, cuda):\r\n",
        "    np.random.seed(seed)\r\n",
        "    torch.manual_seed(seed)\r\n",
        "    if cuda:\r\n",
        "        torch.cuda.manual_seed_all(seed)\r\n",
        "\r\n",
        "def handle_dirs(dirpath):\r\n",
        "    if not os.path.exists(dirpath):\r\n",
        "        os.makedirs(dirpath)\r\n",
        "\r\n",
        "def make_train_state(args):\r\n",
        "    return {'stop_early': False,\r\n",
        "            'early_stopping_step': 0,\r\n",
        "            'early_stopping_best_val': 1e8,\r\n",
        "            'learning_rate': args.learning_rate,\r\n",
        "            'epoch_index': 0,\r\n",
        "            'train_loss': [],\r\n",
        "            'train_acc': [],\r\n",
        "            'val_loss': [],\r\n",
        "            'val_acc': [],\r\n",
        "            'test_loss': -1,\r\n",
        "            'test_acc': -1,\r\n",
        "            'model_filename': args.model_state_file}\r\n",
        "\r\n",
        "def update_train_state(args, model, train_state):\r\n",
        "    \"\"\"Handle the training state updates.\r\n",
        "    Components:\r\n",
        "     - Early Stopping: Prevent overfitting.\r\n",
        "     - Model Checkpoint: Model is saved if the model is better\r\n",
        "    \r\n",
        "    :param args: main arguments\r\n",
        "    :param model: model to train\r\n",
        "    :param train_state: a dictionary representing the training state values\r\n",
        "    :returns:\r\n",
        "        a new train_state\r\n",
        "    \"\"\"\r\n",
        "\r\n",
        "    # Save one model at least\r\n",
        "    if train_state['epoch_index'] == 0:\r\n",
        "        torch.save(model.state_dict(), train_state['model_filename'])\r\n",
        "        train_state['stop_early'] = False\r\n",
        "\r\n",
        "    # Save model if performance improved\r\n",
        "    elif train_state['epoch_index'] >= 1:\r\n",
        "        loss_tm1, loss_t = train_state['val_loss'][-2:]\r\n",
        "         \r\n",
        "        # If loss worsened\r\n",
        "        if loss_t >= loss_tm1:\r\n",
        "            # Update step\r\n",
        "            train_state['early_stopping_step'] += 1\r\n",
        "        # Loss decreased\r\n",
        "        else:\r\n",
        "            # Save the best model\r\n",
        "            if loss_t < train_state['early_stopping_best_val']:\r\n",
        "                torch.save(model.state_dict(), train_state['model_filename'])\r\n",
        "                train_state['early_stopping_best_val'] = loss_t\r\n",
        "\r\n",
        "            # Reset early stopping step\r\n",
        "            train_state['early_stopping_step'] = 0\r\n",
        "\r\n",
        "        # Stop early ?\r\n",
        "        train_state['stop_early'] = \\\r\n",
        "            train_state['early_stopping_step'] >= args.early_stopping_criteria\r\n",
        "\r\n",
        "    return train_state"
      ],
      "execution_count": 12,
      "outputs": []
    },
    {
      "cell_type": "markdown",
      "metadata": {
        "id": "dkhDvZnUvFsc"
      },
      "source": [
        "### Accuracy and Loss Functions"
      ]
    },
    {
      "cell_type": "code",
      "metadata": {
        "id": "VTYDEKzhvFBk"
      },
      "source": [
        "def normalize_sizes(y_pred, y_true):\r\n",
        "    \"\"\"Normalize tensor sizes\r\n",
        "    \r\n",
        "    Args:\r\n",
        "        y_pred (torch.Tensor): the output of the model\r\n",
        "            If a 3-dimensional tensor, reshapes to a matrix\r\n",
        "        y_true (torch.Tensor): the target predictions\r\n",
        "            If a matrix, reshapes to be a vector\r\n",
        "    \"\"\"\r\n",
        "    if len(y_pred.size()) == 3:\r\n",
        "        y_pred = y_pred.contiguous().view(-1, y_pred.size(2))\r\n",
        "    if len(y_true.size()) == 2:\r\n",
        "        y_true = y_true.contiguous().view(-1)\r\n",
        "    return y_pred, y_true\r\n",
        "\r\n",
        "def compute_accuracy(y_pred, y_true, mask_index):\r\n",
        "    y_pred, y_true = normalize_sizes(y_pred, y_true)\r\n",
        "\r\n",
        "    _, y_pred_indices = y_pred.max(dim=1)\r\n",
        "    \r\n",
        "    correct_indices = torch.eq(y_pred_indices, y_true).float()\r\n",
        "    valid_indices = torch.ne(y_true, mask_index).float()\r\n",
        "    \r\n",
        "    n_correct = (correct_indices * valid_indices).sum().item()\r\n",
        "    n_valid = valid_indices.sum().item()\r\n",
        "\r\n",
        "    return n_correct / n_valid * 100\r\n",
        "\r\n",
        "def sequence_loss(y_pred, y_true, mask_index):\r\n",
        "    y_pred, y_true = normalize_sizes(y_pred, y_true)\r\n",
        "    return F.cross_entropy(y_pred, y_true, ignore_index=mask_index)"
      ],
      "execution_count": 13,
      "outputs": []
    },
    {
      "cell_type": "markdown",
      "metadata": {
        "id": "QeBnGmudvQbv"
      },
      "source": [
        "### Training Settings"
      ]
    },
    {
      "cell_type": "code",
      "metadata": {
        "colab": {
          "base_uri": "https://localhost:8080/"
        },
        "id": "tM04NIefvTsm",
        "outputId": "b00a987f-8c09-4756-dcd1-9d201334b7f8"
      },
      "source": [
        "args = Namespace(dataset_csv=\"data/nmt/simplest_eng_fra.csv\",\r\n",
        "                 vectorizer_file=\"vectorizer.json\",\r\n",
        "                 model_state_file=\"model.pth\",\r\n",
        "                 save_dir=\"model_storage/ch8/nmt_luong_sampling\",\r\n",
        "                 reload_from_files=False,\r\n",
        "                 expand_filepaths_to_save_dir=True,\r\n",
        "                 cuda=True,\r\n",
        "                 seed=1337,\r\n",
        "                 learning_rate=5e-4,\r\n",
        "                 batch_size=32,\r\n",
        "                 num_epochs=100,\r\n",
        "                 early_stopping_criteria=5,              \r\n",
        "                 source_embedding_size=512, \r\n",
        "                 target_embedding_size=512,\r\n",
        "                 encoding_size=64,\r\n",
        "                 catch_keyboard_interrupt=True)\r\n",
        "\r\n",
        "if args.expand_filepaths_to_save_dir:\r\n",
        "    args.vectorizer_file = os.path.join(args.save_dir,\r\n",
        "                                        args.vectorizer_file)\r\n",
        "\r\n",
        "    args.model_state_file = os.path.join(args.save_dir,\r\n",
        "                                         args.model_state_file)\r\n",
        "    \r\n",
        "    print(\"Expanded filepaths: \")\r\n",
        "    print(\"\\t{}\".format(args.vectorizer_file))\r\n",
        "    print(\"\\t{}\".format(args.model_state_file))\r\n",
        "    \r\n",
        "# Check CUDA\r\n",
        "if not torch.cuda.is_available():\r\n",
        "    args.cuda = False\r\n",
        "\r\n",
        "args.device = torch.device(\"cuda\" if args.cuda else \"cpu\")\r\n",
        "    \r\n",
        "print(\"Using CUDA: {}\".format(args.cuda))\r\n",
        "\r\n",
        "# Set seed for reproducibility\r\n",
        "set_seed_everywhere(args.seed, args.cuda)\r\n",
        "\r\n",
        "# handle dirs\r\n",
        "handle_dirs(args.save_dir)"
      ],
      "execution_count": 14,
      "outputs": [
        {
          "output_type": "stream",
          "text": [
            "Expanded filepaths: \n",
            "\tmodel_storage/ch8/nmt_luong_sampling/vectorizer.json\n",
            "\tmodel_storage/ch8/nmt_luong_sampling/model.pth\n",
            "Using CUDA: True\n"
          ],
          "name": "stdout"
        }
      ]
    },
    {
      "cell_type": "markdown",
      "metadata": {
        "id": "WSQ727RpvYoQ"
      },
      "source": [
        "### Initialize"
      ]
    },
    {
      "cell_type": "code",
      "metadata": {
        "id": "nSTsfUc8vWHZ"
      },
      "source": [
        "\r\n",
        "if args.reload_from_files and os.path.exists(args.vectorizer_file):\r\n",
        "    # training from a checkpoint\r\n",
        "    dataset = NMTDataset.load_dataset_and_load_vectorizer(args.dataset_csv,\r\n",
        "                                                          args.vectorizer_file)\r\n",
        "else:\r\n",
        "    # create dataset and vectorizer\r\n",
        "    dataset = NMTDataset.load_dataset_and_make_vectorizer(args.dataset_csv)\r\n",
        "    dataset.save_vectorizer(args.vectorizer_file)\r\n",
        "\r\n",
        "vectorizer = dataset.get_vectorizer()"
      ],
      "execution_count": 15,
      "outputs": []
    },
    {
      "cell_type": "code",
      "metadata": {
        "colab": {
          "base_uri": "https://localhost:8080/"
        },
        "id": "zATmrdfQvhzy",
        "outputId": "bbec20fe-ce3d-43f1-b5da-131d984aadcb"
      },
      "source": [
        "model = NMTModel(source_vocab_size=len(vectorizer.source_vocab), \r\n",
        "                 source_embedding_size=args.source_embedding_size, \r\n",
        "                 target_vocab_size=len(vectorizer.target_vocab),\r\n",
        "                 target_embedding_size=args.target_embedding_size, \r\n",
        "                 encoding_size=args.encoding_size,\r\n",
        "                 target_bos_index=vectorizer.target_vocab.begin_seq_index)\r\n",
        "\r\n",
        "if args.reload_from_files and os.path.exists(args.model_state_file):\r\n",
        "    model.load_state_dict(torch.load(args.model_state_file))\r\n",
        "    print(\"Reloaded model\")\r\n",
        "else:\r\n",
        "    print(\"New model\")"
      ],
      "execution_count": 16,
      "outputs": [
        {
          "output_type": "stream",
          "text": [
            "New model\n"
          ],
          "name": "stdout"
        }
      ]
    },
    {
      "cell_type": "markdown",
      "metadata": {
        "id": "RPqA7atDvk5u"
      },
      "source": [
        "### Training Loop"
      ]
    },
    {
      "cell_type": "code",
      "metadata": {
        "colab": {
          "base_uri": "https://localhost:8080/",
          "height": 249,
          "referenced_widgets": [
            "ab7edb33107f4bec930e76688efa1645",
            "9f3d7a8b3ea84c2c925a51e137479069",
            "c5a27462828a48eead859182f7fafa8f",
            "ee8aa416d2a04fe4b9bc7c219516a5e9",
            "796f7a6a4ac74dd9a869d8fa10074633",
            "32e12799882e4ae5b919a82c8c9cdd4a",
            "aab0d63de1bb4484a817bcbcec24cbfa",
            "fb61d17ea4bd4fa6bf5b6119e6762109",
            "e67921e759fc4dc1a6ef695229b67c50",
            "6d3135e4efc549df80baf61b9579a1a3",
            "375c61df58f74fb4a10c240a6b9db7b6",
            "4cba630f63674f13a04fa966b326b15f",
            "ed6f92c544cf4f08a16a1cb536c7fc94",
            "e1bc26d855d044939d715e779980970e",
            "0e7008555162416985855a5c8cb3e547",
            "1d6c36d591944eb9b7f78c2912a97306",
            "2265f70cac6b4692892de12bd4e3a908",
            "e93c6cb5b509476b88b41116c4af3230",
            "3de337c0882f4024997a648b4ebf6e9b",
            "dfba68913eb44effafd08451d4711869",
            "05aa6bce47fb4344bb73039b9ecdc702",
            "790ab0af77bd406081efba2a4823381d",
            "2c08816e90794794baae603c6685e37d",
            "337e5855e8394d239c1753c82522692a"
          ]
        },
        "id": "htDCcFP7vmKh",
        "outputId": "14e52afe-e78a-4dc6-d037-e0cc4b3f3b4c"
      },
      "source": [
        "\r\n",
        "model = model.to(args.device)\r\n",
        "\r\n",
        "optimizer = optim.Adam(model.parameters(), lr=args.learning_rate)\r\n",
        "scheduler = optim.lr_scheduler.ReduceLROnPlateau(optimizer=optimizer,\r\n",
        "                                           mode='min', factor=0.5,\r\n",
        "                                           patience=1)\r\n",
        "mask_index = vectorizer.target_vocab.mask_index\r\n",
        "train_state = make_train_state(args)\r\n",
        "\r\n",
        "epoch_bar = tqdm_notebook(desc='training routine', \r\n",
        "                          total=args.num_epochs,\r\n",
        "                          position=0)\r\n",
        "\r\n",
        "dataset.set_split('train')\r\n",
        "train_bar = tqdm_notebook(desc='split=train',\r\n",
        "                          total=dataset.get_num_batches(args.batch_size), \r\n",
        "                          position=1, \r\n",
        "                          leave=True)\r\n",
        "dataset.set_split('val')\r\n",
        "val_bar = tqdm_notebook(desc='split=val',\r\n",
        "                        total=dataset.get_num_batches(args.batch_size), \r\n",
        "                        position=1, \r\n",
        "                        leave=True)\r\n",
        "\r\n",
        "try:\r\n",
        "    for epoch_index in range(args.num_epochs):\r\n",
        "        sample_probability = (20 + epoch_index) / args.num_epochs\r\n",
        "        \r\n",
        "        train_state['epoch_index'] = epoch_index\r\n",
        "\r\n",
        "        # Iterate over training dataset\r\n",
        "\r\n",
        "        # setup: batch generator, set loss and acc to 0, set train mode on\r\n",
        "        dataset.set_split('train')\r\n",
        "        batch_generator = generate_nmt_batches(dataset, \r\n",
        "                                               batch_size=args.batch_size, \r\n",
        "                                               device=args.device)\r\n",
        "        running_loss = 0.0\r\n",
        "        running_acc = 0.0\r\n",
        "        model.train()\r\n",
        "        \r\n",
        "        for batch_index, batch_dict in enumerate(batch_generator):\r\n",
        "            # the training routine is these 5 steps:\r\n",
        "\r\n",
        "            # --------------------------------------    \r\n",
        "            # step 1. zero the gradients\r\n",
        "            optimizer.zero_grad()\r\n",
        "\r\n",
        "            # step 2. compute the output\r\n",
        "            y_pred = model(batch_dict['x_source'], \r\n",
        "                           batch_dict['x_source_length'], \r\n",
        "                           batch_dict['x_target'],\r\n",
        "                           sample_probability=sample_probability)\r\n",
        "\r\n",
        "            # step 3. compute the loss\r\n",
        "            loss = sequence_loss(y_pred, batch_dict['y_target'], mask_index)\r\n",
        "\r\n",
        "            # step 4. use loss to produce gradients\r\n",
        "            loss.backward()\r\n",
        "\r\n",
        "            # step 5. use optimizer to take gradient step\r\n",
        "            optimizer.step()\r\n",
        "\r\n",
        "            # -----------------------------------------\r\n",
        "            # compute the running loss and running accuracy\r\n",
        "            running_loss += (loss.item() - running_loss) / (batch_index + 1)\r\n",
        "\r\n",
        "            acc_t = compute_accuracy(y_pred, batch_dict['y_target'], mask_index)\r\n",
        "            running_acc += (acc_t - running_acc) / (batch_index + 1)\r\n",
        "\r\n",
        "            # update bar\r\n",
        "            train_bar.set_postfix(loss=running_loss, acc=running_acc, \r\n",
        "                                  epoch=epoch_index)\r\n",
        "            train_bar.update()\r\n",
        "\r\n",
        "        train_state['train_loss'].append(running_loss)\r\n",
        "        train_state['train_acc'].append(running_acc)\r\n",
        "\r\n",
        "        # Iterate over val dataset\r\n",
        "\r\n",
        "        # setup: batch generator, set loss and acc to 0; set eval mode on\r\n",
        "        dataset.set_split('val')\r\n",
        "        batch_generator = generate_nmt_batches(dataset, \r\n",
        "                                               batch_size=args.batch_size, \r\n",
        "                                               device=args.device)\r\n",
        "        running_loss = 0.\r\n",
        "        running_acc = 0.\r\n",
        "        model.eval()\r\n",
        "\r\n",
        "        for batch_index, batch_dict in enumerate(batch_generator):\r\n",
        "            # compute the output\r\n",
        "            y_pred = model(batch_dict['x_source'], \r\n",
        "                           batch_dict['x_source_length'], \r\n",
        "                           batch_dict['x_target'],\r\n",
        "                           sample_probability=sample_probability)\r\n",
        "\r\n",
        "            # step 3. compute the loss\r\n",
        "            loss = sequence_loss(y_pred, batch_dict['y_target'], mask_index)\r\n",
        "\r\n",
        "            # compute the running loss and accuracy\r\n",
        "            running_loss += (loss.item() - running_loss) / (batch_index + 1)\r\n",
        "            \r\n",
        "            acc_t = compute_accuracy(y_pred, batch_dict['y_target'], mask_index)\r\n",
        "            running_acc += (acc_t - running_acc) / (batch_index + 1)\r\n",
        "            \r\n",
        "            # Update bar\r\n",
        "            val_bar.set_postfix(loss=running_loss, acc=running_acc, \r\n",
        "                            epoch=epoch_index)\r\n",
        "            val_bar.update()\r\n",
        "\r\n",
        "        train_state['val_loss'].append(running_loss)\r\n",
        "        train_state['val_acc'].append(running_acc)\r\n",
        "\r\n",
        "        train_state = update_train_state(args=args, model=model, \r\n",
        "                                         train_state=train_state)\r\n",
        "\r\n",
        "        scheduler.step(train_state['val_loss'][-1])\r\n",
        "\r\n",
        "        if train_state['stop_early']:\r\n",
        "            break\r\n",
        "        \r\n",
        "        train_bar.n = 0\r\n",
        "        val_bar.n = 0\r\n",
        "        epoch_bar.set_postfix(best_val=train_state['early_stopping_best_val'])\r\n",
        "        epoch_bar.update()\r\n",
        "        \r\n",
        "except KeyboardInterrupt:\r\n",
        "    print(\"Exiting loop\") "
      ],
      "execution_count": 17,
      "outputs": [
        {
          "output_type": "stream",
          "text": [
            "/usr/local/lib/python3.6/dist-packages/ipykernel_launcher.py:13: TqdmDeprecationWarning: This function will be removed in tqdm==5.0.0\n",
            "Please use `tqdm.notebook.tqdm` instead of `tqdm.tqdm_notebook`\n",
            "  del sys.path[0]\n"
          ],
          "name": "stderr"
        },
        {
          "output_type": "display_data",
          "data": {
            "application/vnd.jupyter.widget-view+json": {
              "model_id": "ab7edb33107f4bec930e76688efa1645",
              "version_minor": 0,
              "version_major": 2
            },
            "text/plain": [
              "HBox(children=(FloatProgress(value=0.0, description='training routine', style=ProgressStyle(description_width=…"
            ]
          },
          "metadata": {
            "tags": []
          }
        },
        {
          "output_type": "stream",
          "text": [
            "/usr/local/lib/python3.6/dist-packages/ipykernel_launcher.py:19: TqdmDeprecationWarning: This function will be removed in tqdm==5.0.0\n",
            "Please use `tqdm.notebook.tqdm` instead of `tqdm.tqdm_notebook`\n"
          ],
          "name": "stderr"
        },
        {
          "output_type": "display_data",
          "data": {
            "application/vnd.jupyter.widget-view+json": {
              "model_id": "e67921e759fc4dc1a6ef695229b67c50",
              "version_minor": 0,
              "version_major": 2
            },
            "text/plain": [
              "HBox(children=(FloatProgress(value=0.0, description='split=train', max=285.0, style=ProgressStyle(description_…"
            ]
          },
          "metadata": {
            "tags": []
          }
        },
        {
          "output_type": "stream",
          "text": [
            "/usr/local/lib/python3.6/dist-packages/ipykernel_launcher.py:24: TqdmDeprecationWarning: This function will be removed in tqdm==5.0.0\n",
            "Please use `tqdm.notebook.tqdm` instead of `tqdm.tqdm_notebook`\n"
          ],
          "name": "stderr"
        },
        {
          "output_type": "display_data",
          "data": {
            "application/vnd.jupyter.widget-view+json": {
              "model_id": "2265f70cac6b4692892de12bd4e3a908",
              "version_minor": 0,
              "version_major": 2
            },
            "text/plain": [
              "HBox(children=(FloatProgress(value=0.0, description='split=val', max=61.0, style=ProgressStyle(description_wid…"
            ]
          },
          "metadata": {
            "tags": []
          }
        },
        {
          "output_type": "stream",
          "text": [
            "Exiting loop\n"
          ],
          "name": "stdout"
        }
      ]
    },
    {
      "cell_type": "markdown",
      "metadata": {
        "id": "o0gxy7G_vy87"
      },
      "source": [
        "## Model Scoring and Sampling"
      ]
    },
    {
      "cell_type": "code",
      "metadata": {
        "id": "_ShDtvt2v2e3"
      },
      "source": [
        "from nltk.translate import bleu_score\r\n",
        "import seaborn as sns\r\n",
        "import matplotlib.pyplot as plt\r\n",
        "\r\n",
        "chencherry = bleu_score.SmoothingFunction()"
      ],
      "execution_count": 18,
      "outputs": []
    },
    {
      "cell_type": "code",
      "metadata": {
        "id": "agw8ekmkZ8u1"
      },
      "source": [
        "def sentence_from_indices(indices, vocab, strict=True, return_string=True):\r\n",
        "    ignore_indices = set([vocab.mask_index, vocab.begin_seq_index, vocab.end_seq_index])\r\n",
        "    out = []\r\n",
        "    for index in indices:\r\n",
        "        if index == vocab.begin_seq_index and strict:\r\n",
        "            continue\r\n",
        "        elif index == vocab.end_seq_index and strict:\r\n",
        "            break\r\n",
        "        else:\r\n",
        "            out.append(vocab.lookup_index(index))\r\n",
        "    if return_string:\r\n",
        "        return \" \".join(out)\r\n",
        "    else:\r\n",
        "        return out\r\n",
        "    \r\n",
        "class NMTSampler:\r\n",
        "    def __init__(self, vectorizer, model):\r\n",
        "        self.vectorizer = vectorizer\r\n",
        "        self.model = model\r\n",
        "    \r\n",
        "    def apply_to_batch(self, batch_dict):\r\n",
        "        self._last_batch = batch_dict\r\n",
        "        y_pred = self.model(x_source=batch_dict['x_source'], \r\n",
        "                            x_source_lengths=batch_dict['x_source_length'], \r\n",
        "                            target_sequence=batch_dict['x_target'])\r\n",
        "        self._last_batch['y_pred'] = y_pred\r\n",
        "        \r\n",
        "        attention_batched = np.stack(self.model.decoder._cached_p_attn).transpose(1, 0, 2)\r\n",
        "        self._last_batch['attention'] = attention_batched\r\n",
        "        \r\n",
        "    def _get_source_sentence(self, index, return_string=True):\r\n",
        "        indices = self._last_batch['x_source'][index].cpu().detach().numpy()\r\n",
        "        vocab = self.vectorizer.source_vocab\r\n",
        "        return sentence_from_indices(indices, vocab, return_string=return_string)\r\n",
        "\r\n",
        "    def _get_reference_sentence(self, index, return_string=True):\r\n",
        "        indices = self._last_batch['y_target'][index].cpu().detach().numpy()\r\n",
        "        vocab = self.vectorizer.target_vocab\r\n",
        "        return sentence_from_indices(indices, vocab, return_string=return_string)\r\n",
        "    \r\n",
        "    def _get_sampled_sentence(self, index, return_string=True):\r\n",
        "        _, all_indices = torch.max(self._last_batch['y_pred'], dim=2)\r\n",
        "        sentence_indices = all_indices[index].cpu().detach().numpy()\r\n",
        "        vocab = self.vectorizer.target_vocab\r\n",
        "        return sentence_from_indices(sentence_indices, vocab, return_string=return_string)\r\n",
        "\r\n",
        "    def get_ith_item(self, index, return_string=True):\r\n",
        "        output = {\"source\": self._get_source_sentence(index, return_string=return_string), \r\n",
        "                  \"reference\": self._get_reference_sentence(index, return_string=return_string), \r\n",
        "                  \"sampled\": self._get_sampled_sentence(index, return_string=return_string),\r\n",
        "                  \"attention\": self._last_batch['attention'][index]}\r\n",
        "        \r\n",
        "        reference = output['reference']\r\n",
        "        hypothesis = output['sampled']\r\n",
        "        \r\n",
        "        if not return_string:\r\n",
        "            reference = \" \".join(reference)\r\n",
        "            hypothesis = \" \".join(hypothesis)\r\n",
        "        \r\n",
        "        output['bleu-4'] = bleu_score.sentence_bleu(references=[reference],\r\n",
        "                                                    hypothesis=hypothesis,\r\n",
        "                                                    smoothing_function=chencherry.method1)\r\n",
        "        \r\n",
        "        return output"
      ],
      "execution_count": 19,
      "outputs": []
    },
    {
      "cell_type": "code",
      "metadata": {
        "colab": {
          "base_uri": "https://localhost:8080/"
        },
        "id": "puH1mLC7aEEI",
        "outputId": "1a56c515-9049-4ef5-a067-d9298d9ff260"
      },
      "source": [
        "# load best model\r\n",
        "model = NMTModel(source_vocab_size=len(vectorizer.source_vocab), \r\n",
        "                 source_embedding_size=args.source_embedding_size, \r\n",
        "                 target_vocab_size=len(vectorizer.target_vocab),\r\n",
        "                 target_embedding_size=args.target_embedding_size, \r\n",
        "                 encoding_size=args.encoding_size,\r\n",
        "                 target_bos_index=vectorizer.target_vocab.begin_seq_index)\r\n",
        "\r\n",
        "model.load_state_dict(torch.load(args.model_state_file))\r\n"
      ],
      "execution_count": 20,
      "outputs": [
        {
          "output_type": "execute_result",
          "data": {
            "text/plain": [
              "<All keys matched successfully>"
            ]
          },
          "metadata": {
            "tags": []
          },
          "execution_count": 20
        }
      ]
    },
    {
      "cell_type": "code",
      "metadata": {
        "id": "6DqCDhUAbMOq"
      },
      "source": [
        "model = model.eval().to(args.device)\r\n",
        "sampler = NMTSampler(vectorizer, model)\r\n",
        "\r\n",
        "dataset.set_split('test')\r\n",
        "batch_generator = generate_nmt_batches(dataset, \r\n",
        "                                       batch_size=args.batch_size, \r\n",
        "                                       device=args.device)\r\n",
        "\r\n",
        "test_results = []\r\n",
        "for batch_dict in batch_generator:\r\n",
        "    sampler.apply_to_batch(batch_dict)\r\n",
        "    for i in range(args.batch_size):\r\n",
        "        test_results.append(sampler.get_ith_item(i, False))"
      ],
      "execution_count": 21,
      "outputs": []
    },
    {
      "cell_type": "code",
      "metadata": {
        "colab": {
          "base_uri": "https://localhost:8080/",
          "height": 282
        },
        "id": "bSlclB8ccY9w",
        "outputId": "05303b49-bffc-4b39-e91f-594118fc710a"
      },
      "source": [
        "plt.hist([r['bleu-4'] for r in test_results], bins=100);\r\n",
        "np.mean([r['bleu-4'] for r in test_results]), np.median([r['bleu-4'] for r in test_results])"
      ],
      "execution_count": 22,
      "outputs": [
        {
          "output_type": "execute_result",
          "data": {
            "text/plain": [
              "(0.45685075027226907, 0.46102519593742564)"
            ]
          },
          "metadata": {
            "tags": []
          },
          "execution_count": 22
        },
        {
          "output_type": "display_data",
          "data": {
            "image/png": "[encoded data removed]",
            "text/plain": [
              "<Figure size 432x288 with 1 Axes>"
            ]
          },
          "metadata": {
            "tags": [],
            "needs_background": "light"
          }
        }
      ]
    },
    {
      "cell_type": "code",
      "metadata": {
        "id": "GegWR4Nac2KU"
      },
      "source": [
        "dataset.set_split('val')\r\n",
        "batch_generator = generate_nmt_batches(dataset, \r\n",
        "                                       batch_size=args.batch_size, \r\n",
        "                                       device=args.device)\r\n",
        "batch_dict = next(batch_generator)\r\n",
        "\r\n",
        "model = model.eval().to(args.device)\r\n",
        "sampler = NMTSampler(vectorizer, model)\r\n",
        "sampler.apply_to_batch(batch_dict)"
      ],
      "execution_count": 23,
      "outputs": []
    },
    {
      "cell_type": "code",
      "metadata": {
        "id": "6-e_jkU6c4Nl"
      },
      "source": [
        "all_results = []\r\n",
        "for i in range(args.batch_size):\r\n",
        "    all_results.append(sampler.get_ith_item(i, False))"
      ],
      "execution_count": 24,
      "outputs": []
    },
    {
      "cell_type": "code",
      "metadata": {
        "colab": {
          "base_uri": "https://localhost:8080/"
        },
        "id": "FboHRU3ac6uo",
        "outputId": "81f71a14-ba24-42e1-cedf-b528425cf81a"
      },
      "source": [
        "top_results = [x for x in all_results if x['bleu-4']>0.5]\r\n",
        "len(top_results)"
      ],
      "execution_count": 25,
      "outputs": [
        {
          "output_type": "execute_result",
          "data": {
            "text/plain": [
              "13"
            ]
          },
          "metadata": {
            "tags": []
          },
          "execution_count": 25
        }
      ]
    },
    {
      "cell_type": "code",
      "metadata": {
        "colab": {
          "base_uri": "https://localhost:8080/",
          "height": 1000
        },
        "id": "YOJniDhVc8Hp",
        "outputId": "2182b766-31f5-4ba7-b3d2-4f55c9e552f9"
      },
      "source": [
        "for sample in top_results:\r\n",
        "    plt.figure()\r\n",
        "    target_len = len(sample['sampled'])\r\n",
        "    source_len = len(sample['source'])\r\n",
        "\r\n",
        "    attention_matrix = sample['attention'][:target_len, :source_len+2].transpose()#[::-1]\r\n",
        "    ax = sns.heatmap(attention_matrix, center=0.0)\r\n",
        "    ylabs = [\"<BOS>\"]+sample['source']+[\"<EOS>\"]\r\n",
        "    #ylabs = sample['source']\r\n",
        "    #ylabs = ylabs[::-1]\r\n",
        "    ax.set_yticklabels(ylabs, rotation=0)\r\n",
        "    ax.set_xticklabels(sample['sampled'], rotation=90)\r\n",
        "    ax.set_xlabel(\"Target Sentence\")\r\n",
        "    ax.set_ylabel(\"Source Sentence\\n\\n\")"
      ],
      "execution_count": 26,
      "outputs": [
        {
          "output_type": "display_data",
          "data": {
            "image/png": "[encoded data removed]",
            "text/plain": [
              "<Figure size 432x288 with 2 Axes>"
            ]
          },
          "metadata": {
            "tags": [],
            "needs_background": "light"
          }
        },
        {
          "output_type": "display_data",
          "data": {
            "image/png": "[encoded data removed]",
            "text/plain": [
              "<Figure size 432x288 with 2 Axes>"
            ]
          },
          "metadata": {
            "tags": [],
            "needs_background": "light"
          }
        },
        {
          "output_type": "display_data",
          "data": {
            "image/png": "[encoded data removed]",
            "text/plain": [
              "<Figure size 432x288 with 2 Axes>"
            ]
          },
          "metadata": {
            "tags": [],
            "needs_background": "light"
          }
        },
        {
          "output_type": "display_data",
          "data": {
            "image/png": "[encoded data removed]",
            "text/plain": [
              "<Figure size 432x288 with 2 Axes>"
            ]
          },
          "metadata": {
            "tags": [],
            "needs_background": "light"
          }
        },
        {
          "output_type": "display_data",
          "data": {
            "image/png": "[encoded data removed]",
            "text/plain": [
              "<Figure size 432x288 with 2 Axes>"
            ]
          },
          "metadata": {
            "tags": [],
            "needs_background": "light"
          }
        },
        {
          "output_type": "display_data",
          "data": {
            "image/png": "[encoded data removed]",
            "text/plain": [
              "<Figure size 432x288 with 2 Axes>"
            ]
          },
          "metadata": {
            "tags": [],
            "needs_background": "light"
          }
        },
        {
          "output_type": "display_data",
          "data": {
            "image/png": "[encoded data removed]",
            "text/plain": [
              "<Figure size 432x288 with 2 Axes>"
            ]
          },
          "metadata": {
            "tags": [],
            "needs_background": "light"
          }
        },
        {
          "output_type": "display_data",
          "data": {
            "image/png": "[encoded data removed]",
            "text/plain": [
              "<Figure size 432x288 with 2 Axes>"
            ]
          },
          "metadata": {
            "tags": [],
            "needs_background": "light"
          }
        },
        {
          "output_type": "display_data",
          "data": {
            "image/png": "[encoded data removed]",
            "text/plain": [
              "<Figure size 432x288 with 2 Axes>"
            ]
          },
          "metadata": {
            "tags": [],
            "needs_background": "light"
          }
        },
        {
          "output_type": "display_data",
          "data": {
            "image/png": "[encoded data removed]",
            "text/plain": [
              "<Figure size 432x288 with 2 Axes>"
            ]
          },
          "metadata": {
            "tags": [],
            "needs_background": "light"
          }
        },
        {
          "output_type": "display_data",
          "data": {
            "image/png": "[encoded data removed]",
            "text/plain": [
              "<Figure size 432x288 with 2 Axes>"
            ]
          },
          "metadata": {
            "tags": [],
            "needs_background": "light"
          }
        },
        {
          "output_type": "display_data",
          "data": {
            "image/png": "[encoded data removed]",
            "text/plain": [
              "<Figure size 432x288 with 2 Axes>"
            ]
          },
          "metadata": {
            "tags": [],
            "needs_background": "light"
          }
        },
        {
          "output_type": "display_data",
          "data": {
            "image/png": "[encoded data removed]",
            "text/plain": [
              "<Figure size 432x288 with 2 Axes>"
            ]
          },
          "metadata": {
            "tags": [],
            "needs_background": "light"
          }
        }
      ]
    },
    {
      "cell_type": "code",
      "metadata": {
        "colab": {
          "base_uri": "https://localhost:8080/"
        },
        "id": "4VCiWeHEdAlv",
        "outputId": "83c2bf96-9ba1-40c0-a896-1b17a839c356"
      },
      "source": [
        "def get_source_sentence(vectorizer, batch_dict, index):\r\n",
        "    indices = batch_dict['x_source'][index].cpu().data.numpy()\r\n",
        "    vocab = vectorizer.source_vocab\r\n",
        "    return sentence_from_indices(indices, vocab)\r\n",
        "\r\n",
        "def get_true_sentence(vectorizer, batch_dict, index):\r\n",
        "    return sentence_from_indices(batch_dict['y_target'].cpu().data.numpy()[index], vectorizer.target_vocab)\r\n",
        "    \r\n",
        "def get_sampled_sentence(vectorizer, batch_dict, index):\r\n",
        "    y_pred = model(x_source=batch_dict['x_source'], \r\n",
        "                   x_source_lengths=batch_dict['x_source_length'], \r\n",
        "                   target_sequence=batch_dict['x_target'], \r\n",
        "                   sample_probability=1.0)\r\n",
        "    return sentence_from_indices(torch.max(y_pred, dim=2)[1].cpu().data.numpy()[index], vectorizer.target_vocab)\r\n",
        "\r\n",
        "def get_all_sentences(vectorizer, batch_dict, index):\r\n",
        "    return {\"source\": get_source_sentence(vectorizer, batch_dict, index), \r\n",
        "            \"truth\": get_true_sentence(vectorizer, batch_dict, index), \r\n",
        "            \"sampled\": get_sampled_sentence(vectorizer, batch_dict, index)}\r\n",
        "    \r\n",
        "def sentence_from_indices(indices, vocab, strict=True):\r\n",
        "    ignore_indices = set([vocab.mask_index, vocab.begin_seq_index, vocab.end_seq_index])\r\n",
        "    out = []\r\n",
        "    for index in indices:\r\n",
        "        if index == vocab.begin_seq_index and strict:\r\n",
        "            continue\r\n",
        "        elif index == vocab.end_seq_index and strict:\r\n",
        "            return \" \".join(out)\r\n",
        "        else:\r\n",
        "            out.append(vocab.lookup_index(index))\r\n",
        "    return \" \".join(out)\r\n",
        "\r\n",
        "results = get_all_sentences(vectorizer, batch_dict, 1)\r\n",
        "results"
      ],
      "execution_count": 27,
      "outputs": [
        {
          "output_type": "execute_result",
          "data": {
            "text/plain": [
              "{'sampled': 'nous sommes à la chance de vous .',\n",
              " 'source': \"we 're getting out of here . the storm is coming .\",\n",
              " 'truth': \"nous sortons d'ici . la tempête approche .\"}"
            ]
          },
          "metadata": {
            "tags": []
          },
          "execution_count": 27
        }
      ]
    }
  ]
}
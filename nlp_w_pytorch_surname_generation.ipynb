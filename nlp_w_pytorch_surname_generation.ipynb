{
  "nbformat": 4,
  "nbformat_minor": 0,
  "metadata": {
    "colab": {
      "name": "nlp_w_pytorch_surname_generation.ipynb",
      "provenance": [],
      "authorship_tag": "ABX9TyN8iVuMWElZdqCvyjXglsJ8",
      "include_colab_link": true
    },
    "kernelspec": {
      "name": "python3",
      "display_name": "Python 3"
    }
  },
  "cells": [
    {
      "cell_type": "markdown",
      "metadata": {
        "id": "view-in-github",
        "colab_type": "text"
      },
      "source": [
        "<a href=\"https://colab.research.google.com/github/hookskl/nlp_w_pytorch/blob/main/nlp_w_pytorch_surname_generation.ipynb\" target=\"_parent\"><img src=\"https://colab.research.google.com/assets/colab-badge.svg\" alt=\"Open In Colab\"/></a>"
      ]
    },
    {
      "cell_type": "markdown",
      "metadata": {
        "id": "vGOxxG14NTiF"
      },
      "source": [
        "# Surname Generation"
      ]
    },
    {
      "cell_type": "markdown",
      "metadata": {
        "id": "crCj2BA2OJqG"
      },
      "source": [
        "## Setup"
      ]
    },
    {
      "cell_type": "markdown",
      "metadata": {
        "id": "BmsxoUZZOPe7"
      },
      "source": [
        "### Downloader and Surnames dataset\r\n"
      ]
    },
    {
      "cell_type": "markdown",
      "metadata": {
        "id": "A5FyUSvINXO_"
      },
      "source": [
        "## Imports"
      ]
    },
    {
      "cell_type": "code",
      "metadata": {
        "id": "BYUtR_xcNCKK"
      },
      "source": [
        "import os\r\n",
        "from argparse import Namespace\r\n",
        "from collections import Counter\r\n",
        "import json\r\n",
        "import re\r\n",
        "import string\r\n",
        "\r\n",
        "import numpy as np\r\n",
        "import pandas as pd\r\n",
        "import torch\r\n",
        "import torch.nn as nn\r\n",
        "from torch.nn import functional as F\r\n",
        "import torch.optim as optim\r\n",
        "from torch.utils.data import Dataset, DataLoader\r\n",
        "from tqdm import tqdm_notebook"
      ],
      "execution_count": null,
      "outputs": []
    },
    {
      "cell_type": "markdown",
      "metadata": {
        "id": "2YVwSX92NcGd"
      },
      "source": [
        "## Data Vectorization Classes"
      ]
    },
    {
      "cell_type": "markdown",
      "metadata": {
        "id": "iydlLsEYNfCV"
      },
      "source": [
        "### Vocabulary"
      ]
    },
    {
      "cell_type": "code",
      "metadata": {
        "id": "pWFz_h_XNeZ-"
      },
      "source": [
        ""
      ],
      "execution_count": null,
      "outputs": []
    },
    {
      "cell_type": "markdown",
      "metadata": {
        "id": "0efrmuc9NhhB"
      },
      "source": [
        "### Vectorizer"
      ]
    },
    {
      "cell_type": "code",
      "metadata": {
        "id": "qDDuVF0uNicJ"
      },
      "source": [
        ""
      ],
      "execution_count": null,
      "outputs": []
    },
    {
      "cell_type": "markdown",
      "metadata": {
        "id": "xwK1f6l1Njd-"
      },
      "source": [
        "### Dataset"
      ]
    },
    {
      "cell_type": "code",
      "metadata": {
        "id": "Tcyk3N7iNkUM"
      },
      "source": [
        ""
      ],
      "execution_count": null,
      "outputs": []
    },
    {
      "cell_type": "markdown",
      "metadata": {
        "id": "WUg_07YINoBV"
      },
      "source": [
        "## The Model: SurnameGenerationModel"
      ]
    },
    {
      "cell_type": "code",
      "metadata": {
        "id": "-QJIIDKtNq2A"
      },
      "source": [
        ""
      ],
      "execution_count": null,
      "outputs": []
    },
    {
      "cell_type": "markdown",
      "metadata": {
        "id": "Uy-2hSXkNvCC"
      },
      "source": [
        "### Training Routine"
      ]
    },
    {
      "cell_type": "markdown",
      "metadata": {
        "id": "_aTaTzBDNxQh"
      },
      "source": [
        "#### Helper functions"
      ]
    },
    {
      "cell_type": "code",
      "metadata": {
        "id": "ZYfV9A0gNwvz"
      },
      "source": [
        ""
      ],
      "execution_count": null,
      "outputs": []
    },
    {
      "cell_type": "markdown",
      "metadata": {
        "id": "2ODuBnmlN0jq"
      },
      "source": [
        "#### General Utilities"
      ]
    },
    {
      "cell_type": "code",
      "metadata": {
        "id": "LLMs0UdVN240"
      },
      "source": [
        ""
      ],
      "execution_count": null,
      "outputs": []
    },
    {
      "cell_type": "markdown",
      "metadata": {
        "id": "R32aKZ9YN4Ba"
      },
      "source": [
        "#### Settings and Prep"
      ]
    },
    {
      "cell_type": "code",
      "metadata": {
        "id": "2SGbO2zgN5ku"
      },
      "source": [
        ""
      ],
      "execution_count": null,
      "outputs": []
    },
    {
      "cell_type": "markdown",
      "metadata": {
        "id": "QrlYbaewN6kF"
      },
      "source": [
        "#### Initializations"
      ]
    },
    {
      "cell_type": "code",
      "metadata": {
        "id": "ChtIGSn8N8Jx"
      },
      "source": [
        ""
      ],
      "execution_count": null,
      "outputs": []
    },
    {
      "cell_type": "markdown",
      "metadata": {
        "id": "IaIKDbWLN8yo"
      },
      "source": [
        "#### Training Loop\r\n"
      ]
    },
    {
      "cell_type": "code",
      "metadata": {
        "id": "E2arODRxN-IY"
      },
      "source": [
        ""
      ],
      "execution_count": null,
      "outputs": []
    },
    {
      "cell_type": "markdown",
      "metadata": {
        "id": "rmDRzksNOAnJ"
      },
      "source": [
        "### Test Set Evaluation"
      ]
    },
    {
      "cell_type": "code",
      "metadata": {
        "id": "LQlCW4EZOC6q"
      },
      "source": [
        ""
      ],
      "execution_count": null,
      "outputs": []
    },
    {
      "cell_type": "markdown",
      "metadata": {
        "id": "KdWq_ecMODxh"
      },
      "source": [
        "### Generate Samples"
      ]
    },
    {
      "cell_type": "code",
      "metadata": {
        "id": "V8JnrUSqOF1X"
      },
      "source": [
        ""
      ],
      "execution_count": null,
      "outputs": []
    }
  ]
}
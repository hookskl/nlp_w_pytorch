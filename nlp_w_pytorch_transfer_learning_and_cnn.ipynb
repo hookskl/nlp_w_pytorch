{
  "nbformat": 4,
  "nbformat_minor": 0,
  "metadata": {
    "colab": {
      "name": "nlp_w_pytorch_transfer_learning_and_cnn.ipynb",
      "provenance": [],
      "authorship_tag": "ABX9TyPlaU/s0xJ0CHdBe8CNcGeM",
      "include_colab_link": true
    },
    "kernelspec": {
      "name": "python3",
      "display_name": "Python 3"
    }
  },
  "cells": [
    {
      "cell_type": "markdown",
      "metadata": {
        "id": "view-in-github",
        "colab_type": "text"
      },
      "source": [
        "<a href=\"https://colab.research.google.com/github/hookskl/nlp_w_pytorch/blob/main/nlp_w_pytorch_transfer_learning_and_cnn.ipynb\" target=\"_parent\"><img src=\"https://colab.research.google.com/assets/colab-badge.svg\" alt=\"Open In Colab\"/></a>"
      ]
    },
    {
      "cell_type": "markdown",
      "metadata": {
        "id": "N2V3Rk4n07BR"
      },
      "source": [
        "# Using Embeddings for Document Classification"
      ]
    },
    {
      "cell_type": "markdown",
      "metadata": {
        "id": "Se0mv7u91BEp"
      },
      "source": [
        "## Imports"
      ]
    },
    {
      "cell_type": "code",
      "metadata": {
        "id": "DhWOkI3B0ro-"
      },
      "source": [
        "import os\r\n",
        "from argparse import Namespace\r\n",
        "from collections import Counter\r\n",
        "import json\r\n",
        "import re\r\n",
        "import string\r\n",
        "\r\n",
        "import numpy as np\r\n",
        "import pandas as pd\r\n",
        "import torch\r\n",
        "import torch.nn as nn\r\n",
        "import torch.nn.functional as F\r\n",
        "import torch.optim as optim\r\n",
        "from torch.utils.data import Dataset, DataLoader\r\n",
        "from tqdm import tqdm_notebook"
      ],
      "execution_count": 1,
      "outputs": []
    },
    {
      "cell_type": "markdown",
      "metadata": {
        "id": "3H8HCEk82UxL"
      },
      "source": [
        "## Get GloVe Embeddings"
      ]
    },
    {
      "cell_type": "code",
      "metadata": {
        "id": "KDwsC9yo2Ynx"
      },
      "source": [
        "%%shell\r\n",
        "# download glove model \r\n",
        "wget http://nlp.stanford.edu/data/glove.6B.zip\r\n",
        "unzip glove*.zip"
      ],
      "execution_count": null,
      "outputs": []
    },
    {
      "cell_type": "markdown",
      "metadata": {
        "id": "fG7Va5n62af0"
      },
      "source": [
        "## AG News Dataset"
      ]
    },
    {
      "cell_type": "code",
      "metadata": {
        "id": "a6ZCNgjr2d8e"
      },
      "source": [
        "%%shell\r\n",
        "\r\n",
        "# get python file shell script\r\n",
        "curl -o download.py https://raw.githubusercontent.com/hookskl/PyTorchNLPBook/master/data/download.py\r\n",
        "#! /bin/bash\r\n",
        "\r\n",
        "# For each file, add a download.py line\r\n",
        "# Any additional processing on the downloaded file\r\n",
        "\r\n",
        "HERE=\"$( cd \"$( dirname \"${BASH_SOURCE[0]}\" )\" && pwd )\"\r\n",
        "\r\n",
        "# AG News Dataset\r\n",
        "mkdir -p $HERE/ag_news\r\n",
        "\r\n",
        "if [ ! -f $HERE/ag_news/news_with_splits.csv ]; then\r\n",
        "    python download.py 1Z4fOgvrNhcn6pYlOxrEuxrPNxT-bLh7T $HERE/ag_news/news_with_splits.csv # 208\r\n",
        "fi"
      ],
      "execution_count": null,
      "outputs": []
    },
    {
      "cell_type": "markdown",
      "metadata": {
        "id": "GUMwUxXV1Dc-"
      },
      "source": [
        "## Data Vectorization classes"
      ]
    },
    {
      "cell_type": "markdown",
      "metadata": {
        "id": "mue675iV1GuY"
      },
      "source": [
        "### The Vocabulary"
      ]
    },
    {
      "cell_type": "code",
      "metadata": {
        "id": "p1gZ6vhP4U4C"
      },
      "source": [
        "class Vocabulary(object):\r\n",
        "    \"\"\"Class to process text and extract vocabulary for mapping\"\"\"\r\n",
        "\r\n",
        "    def __init__(self, token_to_idx=None):\r\n",
        "        \"\"\"\r\n",
        "        Args:\r\n",
        "            token_to_idx (dict): a pre-existing map of tokens to indices\r\n",
        "        \"\"\"\r\n",
        "\r\n",
        "        if token_to_idx is None:\r\n",
        "            token_to_idx = {}\r\n",
        "        self._token_to_idx = token_to_idx\r\n",
        "\r\n",
        "        self._idx_to_token = {idx: token\r\n",
        "                              for token, idx in self._token_to_idx.items()}\r\n",
        "\r\n",
        "    def to_serializable(self):\r\n",
        "        \"\"\"returns a dictionary that can be serialized\"\"\"\r\n",
        "        return {'token_to_idx': self._token_to_idx}\r\n",
        "\r\n",
        "    @classmethod\r\n",
        "    def from_serializable(cls, contents):\r\n",
        "        \"\"\"instantiates the Vocabulary from a serialized dictionary\"\"\"\r\n",
        "        return cls(**contents)\r\n",
        "\r\n",
        "    def add_token(self, token):\r\n",
        "        \"\"\"Update mapping dicts based on the token\r\n",
        "\r\n",
        "        Args:\r\n",
        "            token (str): the item to add into the Vocabulary\r\n",
        "        Returns:\r\n",
        "            index (int): the integer corresponding to the token\r\n",
        "        \"\"\"\r\n",
        "        if token in self._token_to_idx:\r\n",
        "            index = self._token_to_idx[token]\r\n",
        "        else:\r\n",
        "            index = len(self._token_to_idx)\r\n",
        "            self._token_to_idx[token] = index\r\n",
        "            self._idx_to_token[index] = token\r\n",
        "        return index\r\n",
        "\r\n",
        "    def add_many(self, tokens):\r\n",
        "        \"\"\"add a list of tokens into a Vocabulary\r\n",
        "\r\n",
        "        Args: \r\n",
        "            tokens (list): a list of string tokens\r\n",
        "        Returns:\r\n",
        "            indices (list): a list of indices corresponding to the tokens\r\n",
        "        \"\"\"\r\n",
        "        return [self.add_token(token for token in tokens)]\r\n",
        "\r\n",
        "    def lookup_index(self, index):\r\n",
        "        \"\"\"Return the token associated with the index\r\n",
        "\r\n",
        "        Args:\r\n",
        "            index (int): the index to lookup\r\n",
        "        Returns:\r\n",
        "            token (str): the token corresponding to the index\r\n",
        "        Raises:\r\n",
        "            KeyError: if the index is not in the Vocabulary\r\n",
        "        \"\"\"\r\n",
        "        if index not in self._idx_to_token:\r\n",
        "            raise KeyError(\"the index (%d) is not in the Vocabulary\" % index)\r\n",
        "        return self._idx_to_token[index]\r\n",
        "\r\n",
        "    def __str__(self):\r\n",
        "        return \"<Vocabulary(size=%d)>\" % len(self)\r\n",
        "\r\n",
        "    def __len__(self):\r\n",
        "        return len(self._token_to_idx)\r\n",
        "        "
      ],
      "execution_count": 2,
      "outputs": []
    },
    {
      "cell_type": "markdown",
      "metadata": {
        "id": "IJFSb6Od1Mkk"
      },
      "source": [
        "#### SequenceVocabulary"
      ]
    },
    {
      "cell_type": "code",
      "metadata": {
        "id": "8us-VmSA1GG1"
      },
      "source": [
        "class SequenceVocabulary(Vocabulary):\r\n",
        "    def __init__(self, token_to_idx=None, unk_token=\"<UNK>\",\r\n",
        "                 mask_token=\"<MASK>\", begin_seq_token=\"<BEGIN>\",\r\n",
        "                 end_seq_token=\"<END>\"):\r\n",
        "      \r\n",
        "        super(SequenceVocabulary, self).__init__(token_to_idx)\r\n",
        "\r\n",
        "        self._mask_token = mask_token\r\n",
        "        self._unk_token = unk_token \r\n",
        "        self._begin_seq_token = begin_seq_token\r\n",
        "        self._end_seq_token = end_seq_token\r\n",
        "\r\n",
        "        self.mask_index = self.add_token(self._mask_token)\r\n",
        "        self.unk_index = self.add_token(self._unk_token)\r\n",
        "        self.begin_seq_index = self.add_token(self._begin_seq_token)\r\n",
        "        self.end_seq_index = self.add_token(self._end_seq_token)\r\n",
        "\r\n",
        "    def to_serializable(self):\r\n",
        "        contents = super(SequenceVocabulary, self).to_serializable()\r\n",
        "        contents.update({'unk_token': self._unk_token,\r\n",
        "                         'mask_token': self._mask_token,\r\n",
        "                         'begin_seq_token': self._begin_seq_token,\r\n",
        "                         'end_seq_token': self._end_seq_token})\r\n",
        "        return contents\r\n",
        "\r\n",
        "    def lookup_token(self, token):\r\n",
        "        \"\"\"Retrieve the index associated with the token\r\n",
        "        or the UNK index if token isn't present.\r\n",
        "\r\n",
        "        Args:\r\n",
        "            token (str): the token to look up\r\n",
        "        Returns:\r\n",
        "            index (int): the index corresponding to the token\r\n",
        "        Notes:\r\n",
        "            `unk_index` needs to be >=0 (having been added into the Vocabulary)\r\n",
        "              for the UNK functionality\r\n",
        "        \"\"\"\r\n",
        "        if self.unk_index >= 0:\r\n",
        "            return self._token_to_idx.get(token, self.unk_index)\r\n",
        "        else:\r\n",
        "            return self._token_to_idx[token]"
      ],
      "execution_count": 3,
      "outputs": []
    },
    {
      "cell_type": "markdown",
      "metadata": {
        "id": "m-8T7UoS1R-S"
      },
      "source": [
        "### The Vectorizer"
      ]
    },
    {
      "cell_type": "code",
      "metadata": {
        "id": "lhnByTdT1U6f"
      },
      "source": [
        "class NewsVectorizer(object):\r\n",
        "    \"\"\"The Vectorizer which coordinates the Vocabularies and puts them to use\"\"\"\r\n",
        "    def __init__(self, title_vocab, category_vocab):\r\n",
        "        self.title_vocab = title_vocab\r\n",
        "        self.category_vocab = category_vocab\r\n",
        "\r\n",
        "    def vectorize(self, title, vector_length=-1):\r\n",
        "        \"\"\"\r\n",
        "        Args:\r\n",
        "            title (str): the string of words separated by a space\r\n",
        "            vector_length (int): an argument for forcing the length of index vector\r\n",
        "        Returns:\r\n",
        "            the vectorized title (numpy.array)\r\n",
        "        \"\"\"\r\n",
        "        indices = [self.title_vocab.begin_seq_index]\r\n",
        "        indices.extend(self.title_vocab.lookup_token(token)\r\n",
        "                      for token in title.split(\" \"))\r\n",
        "        indices.append(self.title_vocab.end_seq_index)\r\n",
        "\r\n",
        "        if vector_length < 0:\r\n",
        "            vector_length = len(indices)\r\n",
        "\r\n",
        "        out_vector = np.zeros(vector_length, dtype=np.int64) # initialize vector of zeros\r\n",
        "        out_vector[:len(indices)] = indices # insert sequence integers\r\n",
        "        out_vector[len(indices):] = self.title_vocab.mask_index # pad remainder with mask index\r\n",
        "\r\n",
        "        return out_vector\r\n",
        "\r\n",
        "    @classmethod\r\n",
        "    def from_dataframe(cls, news_df, cutoff=25):\r\n",
        "        \"\"\"Instantiate the vectorizer from the dataset dataframe\r\n",
        "\r\n",
        "        Args:\r\n",
        "            news_df (pandas.DataFrame): the target dataset\r\n",
        "            cutoff (int): frequency threshold for including in Vocabulary\r\n",
        "        Returns:\r\n",
        "            an instance of the NewsVectorizer\r\n",
        "        \"\"\"\r\n",
        "        category_vocab = Vocabulary()\r\n",
        "        for category in sorted(set(news_df.category)):\r\n",
        "            category_vocab.add_token(category)\r\n",
        "\r\n",
        "        word_counts = Counter()\r\n",
        "        for title in news_df.title:\r\n",
        "            for token in title.split(\" \"):\r\n",
        "                if token not in string.punctuation:\r\n",
        "                    word_counts[token] += 1\r\n",
        "        \r\n",
        "        title_vocab = SequenceVocabulary()\r\n",
        "        for word, word_count in word_counts.items():\r\n",
        "            if word_count >= cutoff:\r\n",
        "                title_vocab.add_token(word)\r\n",
        "\r\n",
        "        return cls(title_vocab, category_vocab)\r\n",
        "\r\n",
        "    @classmethod\r\n",
        "    def from_serializable(cls, contents):\r\n",
        "        title_vocab = \\\r\n",
        "            SequenceVocabulary.from_serializable(contents['title_vocab'])\r\n",
        "        category_vocab = \\\r\n",
        "            Vocabulary.from_serializable(contents['category_vocab'])\r\n",
        "        \r\n",
        "        return cls(title_vocab=title_vocab, category_vocab=category_vocab)\r\n",
        "\r\n",
        "    def to_serializable(self):\r\n",
        "        return {'title_vocab': self.title_vocab.to_serializable(),\r\n",
        "                'category_vocab': self.category_vocab.to_serializable()}"
      ],
      "execution_count": 4,
      "outputs": []
    },
    {
      "cell_type": "markdown",
      "metadata": {
        "id": "pplB3efc1V2q"
      },
      "source": [
        "### The Dataset\r\n"
      ]
    },
    {
      "cell_type": "code",
      "metadata": {
        "id": "JZZiNexsvcEA"
      },
      "source": [
        "class NewsDataset(Dataset):\r\n",
        "    def __init__(self, news_df, vectorizer):\r\n",
        "        \"\"\"\r\n",
        "        Args:\r\n",
        "            news_df (pandas.Dataframe): the dataset\r\n",
        "            vectorizer (NewsVectorizer): vectorizer instantiated from dataset\r\n",
        "        \"\"\"\r\n",
        "        self.news_df = news_df\r\n",
        "        self._vectorizer = vectorizer\r\n",
        "\r\n",
        "        # +1 if only using begin_seq, +2 if using both begin and end seq tokens\r\n",
        "        measure_len = lambda context: len(context.split(\" \"))\r\n",
        "        self._max_seq_length = max(map(measure_len, news_df.title)) + 2\r\n",
        "\r\n",
        "        self.train_df = self.news_df[self.news_df.split=='train']\r\n",
        "        self.train_size = len(self.train_df)\r\n",
        "\r\n",
        "        self.val_df = self.news_df[self.news_df.split=='val']\r\n",
        "        self.validation_size = len(self.val_df)\r\n",
        "\r\n",
        "        self.test_df = self.news_df[self.news_df.split=='test']\r\n",
        "        self.test_size = len(self.test_df)\r\n",
        "\r\n",
        "        self._lookup_dict = {'train': (self.train_df, self.train_size),\r\n",
        "                             'val': (self.val_df, self.validation_size),\r\n",
        "                             'test': (self.test_df, self.test_size)}\r\n",
        "\r\n",
        "        self.set_split('train')\r\n",
        "\r\n",
        "        # Class weights\r\n",
        "        class_counts = news_df.category.value_counts().to_dict()\r\n",
        "        def sort_key(item):\r\n",
        "            return self._vectorizer.category_vocab.lookup_token(item[0])\r\n",
        "        sorted_counts = sorted(class_counts.items(), key=sort_key)\r\n",
        "        frequencies = [count for _, count in sorted_counts]\r\n",
        "        self.class_weights = 1.0 / torch.tensor(frequencies, dtype=torch.float32)\r\n",
        "\r\n",
        "    @classmethod\r\n",
        "    def load_dataset_and_make_vectorizer(cls, news_csv):\r\n",
        "        \"\"\"Load dataset and make a new vectorizer from scratch\r\n",
        "\r\n",
        "        Args:\r\n",
        "            surname_csv (str): location of the dataset\r\n",
        "        Returns:\r\n",
        "            an instance of NewsDataset\r\n",
        "        \"\"\"\r\n",
        "        news_df = pd.read_csv(news_csv)\r\n",
        "        train_news_df = news_df[news_df.split=='train']\r\n",
        "        return cls(news_df, NewsVectorizer.from_dataframe(train_news_df))\r\n",
        "\r\n",
        "    @classmethod\r\n",
        "    def load_dataset_and_load_vectorizer(cls, news_csv, vectorizer_filepath):\r\n",
        "        \"\"\"Load dataset and the corresponding vectorizer.\r\n",
        "        Used in the case the vectorizer has been cached for re-use\r\n",
        "\r\n",
        "        Args:\r\n",
        "            surname_csv (str): location of the dataset\r\n",
        "            vectorizer_filepath (str): location of the saved vectorizer\r\n",
        "        Returns:\r\n",
        "            an instance of NewsDataset\r\n",
        "        \"\"\"\r\n",
        "        news_df = pd.read_csv(news_csv)\r\n",
        "        vectorizer = cls.load_vectorizer_only(vectorizer_filepath)\r\n",
        "        return cls(news_csv, vectorizer)\r\n",
        "\r\n",
        "    @staticmethod\r\n",
        "    def load_vectorizer_only(vectorizer_filepath):\r\n",
        "        \"\"\"a static method for loading the vectorizer from file\r\n",
        "\r\n",
        "        Args: \r\n",
        "            vectorizer_filepath (str): the location of the serialized vectorizer\r\n",
        "        Returns:\r\n",
        "            an instance of NewsVectorizer\r\n",
        "        \"\"\"\r\n",
        "        with open(vectorizer_filepath) as fp:\r\n",
        "            return NewsVectorizer.from_serializable(json.load(fp))\r\n",
        "\r\n",
        "    def save_vectorizer(self, vectorizer_filepath):\r\n",
        "        \"\"\"saves the vectorizer to disk using json\r\n",
        "\r\n",
        "        Args:\r\n",
        "            vectorizer_filepath (str): the location to save the vectorizer\r\n",
        "        \"\"\"\r\n",
        "        with open(vectorizer_filepath, \"w\") as fp:\r\n",
        "            json.dump(self._vectorizer.to_serializable(), fp)\r\n",
        "\r\n",
        "    def get_vectorizer(self):\r\n",
        "        \"\"\"returns the vectorizer\"\"\"\r\n",
        "        return self._vectorizer \r\n",
        "\r\n",
        "    def set_split(self, split=\"train\"):\r\n",
        "        \"\"\"selects teh splits in the dataset using a column in the dataframe\"\"\"\r\n",
        "        self._target_split = split\r\n",
        "        self._target_df, self._target_size = self._lookup_dict[split]\r\n",
        "\r\n",
        "    def __len__(self):\r\n",
        "        return self._target_size \r\n",
        "\r\n",
        "    def __getitem__(self, index):\r\n",
        "        \"\"\"the primary entry point method for PyTorch datasets\r\n",
        "\r\n",
        "        Args:\r\n",
        "            index (int): the index to the data point\r\n",
        "        Returns:\r\n",
        "            a dictionary holding the data point's features (x_data) and label (y_target)\r\n",
        "        \"\"\"\r\n",
        "        row = self._target_df.iloc[index]\r\n",
        "\r\n",
        "        title_vector = \\\r\n",
        "            self._vectorizer.vectorize(row.title, self._max_seq_length)\r\n",
        "\r\n",
        "        category_index = \\\r\n",
        "            self._vectorizer.category_vocab.lookup_token(row.category)\r\n",
        "        \r\n",
        "        return {'x_data': title_vector,\r\n",
        "                'y_target': category_index}\r\n",
        "\r\n",
        "    def get_num_batches(self, batch_size):\r\n",
        "        \"\"\"Given a batch size, return the number of batches in the dataset\r\n",
        "\r\n",
        "        Args:\r\n",
        "            batch_size (int)\r\n",
        "        Returns:\r\n",
        "            number of batches in the dataset\r\n",
        "        \"\"\"\r\n",
        "        return len(self) // batch_size \r\n",
        "\r\n",
        "def generate_batches(dataset, batch_size, shuffle=True,\r\n",
        "                     drop_last=True, device=\"cpu\"):\r\n",
        "    \"\"\"\r\n",
        "    A generator function whic wraps the PyTorch DataLoader. It will\r\n",
        "      ensure each tensor is on the right device location\r\n",
        "    \"\"\"\r\n",
        "    dataloader = DataLoader(dataset=dataset, batch_size=batch_size,\r\n",
        "                            shuffle=shuffle, drop_last=drop_last)\r\n",
        "    \r\n",
        "    for data_dict in dataloader:\r\n",
        "        out_data_dict = {}\r\n",
        "        for name, tensor in data_dict.items():\r\n",
        "            out_data_dict[name] = data_dict[name].to(device)\r\n",
        "        yield out_data_dict \r\n",
        "\r\n"
      ],
      "execution_count": 5,
      "outputs": []
    },
    {
      "cell_type": "markdown",
      "metadata": {
        "id": "XQMfqR4y1YyB"
      },
      "source": [
        "## The Model: NewsClassifier"
      ]
    },
    {
      "cell_type": "code",
      "metadata": {
        "id": "hohOMRGM1XD-"
      },
      "source": [
        ""
      ],
      "execution_count": null,
      "outputs": []
    },
    {
      "cell_type": "markdown",
      "metadata": {
        "id": "JSAJmFLa1dll"
      },
      "source": [
        "### Training Routine"
      ]
    },
    {
      "cell_type": "markdown",
      "metadata": {
        "id": "ZB1514I41ff7"
      },
      "source": [
        "#### Helper functions"
      ]
    },
    {
      "cell_type": "code",
      "metadata": {
        "id": "bxWva0lw1fDG"
      },
      "source": [
        ""
      ],
      "execution_count": null,
      "outputs": []
    },
    {
      "cell_type": "markdown",
      "metadata": {
        "id": "vp5FY15I1i2G"
      },
      "source": [
        "#### General utilities"
      ]
    },
    {
      "cell_type": "code",
      "metadata": {
        "id": "oqS7p27A1kjF"
      },
      "source": [
        ""
      ],
      "execution_count": null,
      "outputs": []
    },
    {
      "cell_type": "markdown",
      "metadata": {
        "id": "6U4pe2RP1m_D"
      },
      "source": [
        "#### Settings and prep work"
      ]
    },
    {
      "cell_type": "code",
      "metadata": {
        "id": "BjRaVmma1rTn"
      },
      "source": [
        ""
      ],
      "execution_count": null,
      "outputs": []
    },
    {
      "cell_type": "markdown",
      "metadata": {
        "id": "SAUGVkkj1vey"
      },
      "source": [
        "#### Initializations"
      ]
    },
    {
      "cell_type": "code",
      "metadata": {
        "id": "BF0ssonF1xQm"
      },
      "source": [
        ""
      ],
      "execution_count": null,
      "outputs": []
    },
    {
      "cell_type": "markdown",
      "metadata": {
        "id": "fFMqATnQ1ySd"
      },
      "source": [
        "#### Training loop"
      ]
    },
    {
      "cell_type": "code",
      "metadata": {
        "id": "f0XIr6Rq1zS8"
      },
      "source": [
        ""
      ],
      "execution_count": null,
      "outputs": []
    },
    {
      "cell_type": "markdown",
      "metadata": {
        "id": "nFynsIyA1-tV"
      },
      "source": [
        "### Test Set Evaluation"
      ]
    },
    {
      "cell_type": "code",
      "metadata": {
        "id": "wg2bg5s02Ad4"
      },
      "source": [
        ""
      ],
      "execution_count": null,
      "outputs": []
    },
    {
      "cell_type": "markdown",
      "metadata": {
        "id": "e8fFPu_g2B_u"
      },
      "source": [
        "### Inference"
      ]
    },
    {
      "cell_type": "code",
      "metadata": {
        "id": "HSuP-BW92DCd"
      },
      "source": [
        ""
      ],
      "execution_count": null,
      "outputs": []
    }
  ]
}
{
  "nbformat": 4,
  "nbformat_minor": 0,
  "metadata": {
    "colab": {
      "name": "nlp_w_pytorch_ch1.ipynb",
      "provenance": [],
      "collapsed_sections": [],
      "authorship_tag": "ABX9TyM4fZud8R/vBopDFqTw5WEI",
      "include_colab_link": true
    },
    "kernelspec": {
      "name": "python3",
      "display_name": "Python 3"
    },
    "accelerator": "GPU"
  },
  "cells": [
    {
      "cell_type": "markdown",
      "metadata": {
        "id": "view-in-github",
        "colab_type": "text"
      },
      "source": [
        "<a href=\"https://colab.research.google.com/github/hookskl/nlp_w_pytorch/blob/main/nlp_w_pytorch_ch1.ipynb\" target=\"_parent\"><img src=\"https://colab.research.google.com/assets/colab-badge.svg\" alt=\"Open In Colab\"/></a>"
      ]
    },
    {
      "cell_type": "markdown",
      "metadata": {
        "id": "njoMFagxnCQi"
      },
      "source": [
        "## Installing Pytorch"
      ]
    },
    {
      "cell_type": "code",
      "metadata": {
        "id": "IPeEMa-1myUA"
      },
      "source": [
        "## conda install pytorch torchvision -c pytorch"
      ],
      "execution_count": 1,
      "outputs": []
    },
    {
      "cell_type": "markdown",
      "metadata": {
        "id": "rrmZHS87nGAd"
      },
      "source": [
        "## Creating tensors"
      ]
    },
    {
      "cell_type": "code",
      "metadata": {
        "id": "BjppywRfnLSd"
      },
      "source": [
        "## helper function\r\n",
        "def describe(x):\r\n",
        "  print(\"Type: {}\".format(x.type()))\r\n",
        "  print(\"Shape/size: {}\".format(x.shape))\r\n",
        "  print(\"Values: \\n{}\".format(x))"
      ],
      "execution_count": 2,
      "outputs": []
    },
    {
      "cell_type": "markdown",
      "metadata": {
        "id": "Hm8N1xP5nrVQ"
      },
      "source": [
        "*Example 1-3. Creating a tensor in PyTorch with torch.Tensor*"
      ]
    },
    {
      "cell_type": "code",
      "metadata": {
        "colab": {
          "base_uri": "https://localhost:8080/"
        },
        "id": "pQep9EsUmQsX",
        "outputId": "1fb7cac2-a372-46e6-88b6-d7ac8803bf8a"
      },
      "source": [
        "import torch\r\n",
        "describe(torch.Tensor(2, 3))"
      ],
      "execution_count": 3,
      "outputs": [
        {
          "output_type": "stream",
          "text": [
            "Type: torch.FloatTensor\n",
            "Shape/size: torch.Size([2, 3])\n",
            "Values: \n",
            "tensor([[4.2898e-35, 0.0000e+00, 3.7835e-44],\n",
            "        [0.0000e+00,        nan, 0.0000e+00]])\n"
          ],
          "name": "stdout"
        }
      ]
    },
    {
      "cell_type": "markdown",
      "metadata": {
        "id": "m-r5m2FRmo8q"
      },
      "source": [
        "*Example 1-4. Creating a randomly initialized tensor*"
      ]
    },
    {
      "cell_type": "code",
      "metadata": {
        "colab": {
          "base_uri": "https://localhost:8080/"
        },
        "id": "Z2qr04_SoHPw",
        "outputId": "e32f8fbc-a75c-4b42-b362-9474664f0156"
      },
      "source": [
        "describe(torch.rand(2, 3)) # random uniform [0, 1)\r\n",
        "print(\"\\n\")\r\n",
        "print(\"--------------------------------------\")\r\n",
        "print(\"\\n\")\r\n",
        "describe(torch.randn(2, 3)) # random std normal"
      ],
      "execution_count": 4,
      "outputs": [
        {
          "output_type": "stream",
          "text": [
            "Type: torch.FloatTensor\n",
            "Shape/size: torch.Size([2, 3])\n",
            "Values: \n",
            "tensor([[0.0896, 0.8382, 0.8412],\n",
            "        [0.8584, 0.0186, 0.7882]])\n",
            "\n",
            "\n",
            "--------------------------------------\n",
            "\n",
            "\n",
            "Type: torch.FloatTensor\n",
            "Shape/size: torch.Size([2, 3])\n",
            "Values: \n",
            "tensor([[-0.0506, -0.4976, -0.1008],\n",
            "        [-0.4518, -0.9404,  0.7146]])\n"
          ],
          "name": "stdout"
        }
      ]
    },
    {
      "cell_type": "markdown",
      "metadata": {
        "id": "c1ciaHV5qlZK"
      },
      "source": [
        "*Example 1-5. Creating a filled tensor*\r\n",
        "\r\n"
      ]
    },
    {
      "cell_type": "code",
      "metadata": {
        "colab": {
          "base_uri": "https://localhost:8080/"
        },
        "id": "LV6_uoJ7oQ5-",
        "outputId": "b150d108-f9ce-4446-da4a-87cb2dd28f42"
      },
      "source": [
        "describe(torch.zeros(2, 3))\r\n",
        "x = torch.ones(2, 3)\r\n",
        "print(\"\\n\")\r\n",
        "print(\"--------------------------------------\")\r\n",
        "print(\"\\n\")\r\n",
        "describe(x)\r\n",
        "x.fill_(5) ## methods with underscore \"_\" is the convention for modifying tensors in place\r\n",
        "print(\"\\n\")\r\n",
        "print(\"--------------------------------------\")\r\n",
        "print(\"\\n\")\r\n",
        "describe(x)"
      ],
      "execution_count": 5,
      "outputs": [
        {
          "output_type": "stream",
          "text": [
            "Type: torch.FloatTensor\n",
            "Shape/size: torch.Size([2, 3])\n",
            "Values: \n",
            "tensor([[0., 0., 0.],\n",
            "        [0., 0., 0.]])\n",
            "\n",
            "\n",
            "--------------------------------------\n",
            "\n",
            "\n",
            "Type: torch.FloatTensor\n",
            "Shape/size: torch.Size([2, 3])\n",
            "Values: \n",
            "tensor([[1., 1., 1.],\n",
            "        [1., 1., 1.]])\n",
            "\n",
            "\n",
            "--------------------------------------\n",
            "\n",
            "\n",
            "Type: torch.FloatTensor\n",
            "Shape/size: torch.Size([2, 3])\n",
            "Values: \n",
            "tensor([[5., 5., 5.],\n",
            "        [5., 5., 5.]])\n"
          ],
          "name": "stdout"
        }
      ]
    },
    {
      "cell_type": "markdown",
      "metadata": {
        "id": "BWG1j_mOsF7f"
      },
      "source": [
        "*Example 1-6. Creating and intializing a tensor from lists*\r\n",
        "\r\n"
      ]
    },
    {
      "cell_type": "code",
      "metadata": {
        "colab": {
          "base_uri": "https://localhost:8080/"
        },
        "id": "WPM_uOI5rPvK",
        "outputId": "09fc665f-0fbb-463a-ec5f-94f425215a29"
      },
      "source": [
        "x = torch.Tensor([[1, 2, 3],\r\n",
        "                  [4, 5, 6]])\r\n",
        "describe(x)"
      ],
      "execution_count": 6,
      "outputs": [
        {
          "output_type": "stream",
          "text": [
            "Type: torch.FloatTensor\n",
            "Shape/size: torch.Size([2, 3])\n",
            "Values: \n",
            "tensor([[1., 2., 3.],\n",
            "        [4., 5., 6.]])\n"
          ],
          "name": "stdout"
        }
      ]
    },
    {
      "cell_type": "markdown",
      "metadata": {
        "id": "OVpczL-6tB0q"
      },
      "source": [
        "*Example 1-7. Creating and initializing a tensor from NumPy*"
      ]
    },
    {
      "cell_type": "code",
      "metadata": {
        "colab": {
          "base_uri": "https://localhost:8080/"
        },
        "id": "a7gOkpbUsXZS",
        "outputId": "265f9078-46ae-4b6f-dd7f-32d62f516816"
      },
      "source": [
        "import numpy as np\r\n",
        "\r\n",
        "npy = np.random.rand(2, 3)\r\n",
        "describe(torch.from_numpy(npy)) # note the type DoubleTensor (not default FloatTensor)"
      ],
      "execution_count": 7,
      "outputs": [
        {
          "output_type": "stream",
          "text": [
            "Type: torch.DoubleTensor\n",
            "Shape/size: torch.Size([2, 3])\n",
            "Values: \n",
            "tensor([[0.7864, 0.0132, 0.8298],\n",
            "        [0.9465, 0.4658, 0.2705]], dtype=torch.float64)\n"
          ],
          "name": "stdout"
        }
      ]
    },
    {
      "cell_type": "markdown",
      "metadata": {
        "id": "Yt0yRgqfuBfH"
      },
      "source": [
        "## Tensor Types and Size"
      ]
    },
    {
      "cell_type": "markdown",
      "metadata": {
        "id": "hcEnGUKwttwP"
      },
      "source": [
        "*Example 1-8. Tensor properties*"
      ]
    },
    {
      "cell_type": "code",
      "metadata": {
        "colab": {
          "base_uri": "https://localhost:8080/"
        },
        "id": "FLvLbFGGtSwm",
        "outputId": "44b0d482-c6f8-4e81-c2c5-acd555c22fe0"
      },
      "source": [
        "x = torch.FloatTensor([[1, 2, 3],\r\n",
        "                       [4, 5, 6]])\r\n",
        "describe(x)\r\n",
        "print(\"\\n\")\r\n",
        "print(\"--------------------------------------\")\r\n",
        "print(\"\\n\")\r\n",
        "x = x.long()\r\n",
        "describe(x)\r\n",
        "print(\"\\n\")\r\n",
        "print(\"--------------------------------------\")\r\n",
        "print(\"\\n\")\r\n",
        "x = torch.tensor([[1, 2, 3],\r\n",
        "                  [4, 5, 6]], dtype=torch.int64)\r\n",
        "describe(x)\r\n",
        "print(\"\\n\")\r\n",
        "print(\"--------------------------------------\")\r\n",
        "print(\"\\n\")\r\n",
        "x = x.float()\r\n",
        "describe(x)"
      ],
      "execution_count": 8,
      "outputs": [
        {
          "output_type": "stream",
          "text": [
            "Type: torch.FloatTensor\n",
            "Shape/size: torch.Size([2, 3])\n",
            "Values: \n",
            "tensor([[1., 2., 3.],\n",
            "        [4., 5., 6.]])\n",
            "\n",
            "\n",
            "--------------------------------------\n",
            "\n",
            "\n",
            "Type: torch.LongTensor\n",
            "Shape/size: torch.Size([2, 3])\n",
            "Values: \n",
            "tensor([[1, 2, 3],\n",
            "        [4, 5, 6]])\n",
            "\n",
            "\n",
            "--------------------------------------\n",
            "\n",
            "\n",
            "Type: torch.LongTensor\n",
            "Shape/size: torch.Size([2, 3])\n",
            "Values: \n",
            "tensor([[1, 2, 3],\n",
            "        [4, 5, 6]])\n",
            "\n",
            "\n",
            "--------------------------------------\n",
            "\n",
            "\n",
            "Type: torch.FloatTensor\n",
            "Shape/size: torch.Size([2, 3])\n",
            "Values: \n",
            "tensor([[1., 2., 3.],\n",
            "        [4., 5., 6.]])\n"
          ],
          "name": "stdout"
        }
      ]
    },
    {
      "cell_type": "markdown",
      "metadata": {
        "id": "AcgbBwhgvCO9"
      },
      "source": [
        "## Tensor Operations"
      ]
    },
    {
      "cell_type": "markdown",
      "metadata": {
        "id": "S9PcZSvqvojN"
      },
      "source": [
        "*Example 1-9. Tensor operations: addition*\r\n",
        "\r\n"
      ]
    },
    {
      "cell_type": "code",
      "metadata": {
        "colab": {
          "base_uri": "https://localhost:8080/"
        },
        "id": "bK4XbYBLt4Pg",
        "outputId": "e2e7926a-486f-4ab9-aebe-3486c8b45ddb"
      },
      "source": [
        "x = torch.randn(2, 3)\r\n",
        "describe(x)\r\n",
        "print(\"\\n\")\r\n",
        "print(\"--------------------------------------\")\r\n",
        "print(\"\\n\")\r\n",
        "describe(torch.add(x, x))\r\n",
        "print(\"\\n\")\r\n",
        "print(\"--------------------------------------\")\r\n",
        "print(\"\\n\")\r\n",
        "describe(x + x)"
      ],
      "execution_count": 9,
      "outputs": [
        {
          "output_type": "stream",
          "text": [
            "Type: torch.FloatTensor\n",
            "Shape/size: torch.Size([2, 3])\n",
            "Values: \n",
            "tensor([[-0.0784, -0.1302, -1.3039],\n",
            "        [ 1.0124, -0.1770, -0.5693]])\n",
            "\n",
            "\n",
            "--------------------------------------\n",
            "\n",
            "\n",
            "Type: torch.FloatTensor\n",
            "Shape/size: torch.Size([2, 3])\n",
            "Values: \n",
            "tensor([[-0.1568, -0.2605, -2.6078],\n",
            "        [ 2.0247, -0.3540, -1.1386]])\n",
            "\n",
            "\n",
            "--------------------------------------\n",
            "\n",
            "\n",
            "Type: torch.FloatTensor\n",
            "Shape/size: torch.Size([2, 3])\n",
            "Values: \n",
            "tensor([[-0.1568, -0.2605, -2.6078],\n",
            "        [ 2.0247, -0.3540, -1.1386]])\n"
          ],
          "name": "stdout"
        }
      ]
    },
    {
      "cell_type": "markdown",
      "metadata": {
        "id": "wn93P9q0v4nX"
      },
      "source": [
        "*Example 1-10. Dimension-based tensor operations*"
      ]
    },
    {
      "cell_type": "code",
      "metadata": {
        "colab": {
          "base_uri": "https://localhost:8080/"
        },
        "id": "mVURndDXvIJX",
        "outputId": "5d3675c8-5e45-484f-d680-eaf0e88b0e24"
      },
      "source": [
        "x = torch.arange(6)\r\n",
        "describe(x)\r\n",
        "print(\"\\n\")\r\n",
        "print(\"--------------------------------------\")\r\n",
        "print(\"\\n\")\r\n",
        "x = x.view(2, 3)\r\n",
        "describe(x)\r\n",
        "print(\"\\n\")\r\n",
        "print(\"--------------------------------------\")\r\n",
        "print(\"\\n\")\r\n",
        "describe(torch.sum(x, dim=0))\r\n",
        "print(\"\\n\")\r\n",
        "print(\"--------------------------------------\")\r\n",
        "print(\"\\n\")\r\n",
        "describe(torch.sum(x, dim=1))\r\n",
        "print(\"\\n\")\r\n",
        "print(\"--------------------------------------\")\r\n",
        "print(\"\\n\")\r\n",
        "describe(torch.transpose(x, 0, 1)) # swap rows with columns"
      ],
      "execution_count": 10,
      "outputs": [
        {
          "output_type": "stream",
          "text": [
            "Type: torch.LongTensor\n",
            "Shape/size: torch.Size([6])\n",
            "Values: \n",
            "tensor([0, 1, 2, 3, 4, 5])\n",
            "\n",
            "\n",
            "--------------------------------------\n",
            "\n",
            "\n",
            "Type: torch.LongTensor\n",
            "Shape/size: torch.Size([2, 3])\n",
            "Values: \n",
            "tensor([[0, 1, 2],\n",
            "        [3, 4, 5]])\n",
            "\n",
            "\n",
            "--------------------------------------\n",
            "\n",
            "\n",
            "Type: torch.LongTensor\n",
            "Shape/size: torch.Size([3])\n",
            "Values: \n",
            "tensor([3, 5, 7])\n",
            "\n",
            "\n",
            "--------------------------------------\n",
            "\n",
            "\n",
            "Type: torch.LongTensor\n",
            "Shape/size: torch.Size([2])\n",
            "Values: \n",
            "tensor([ 3, 12])\n",
            "\n",
            "\n",
            "--------------------------------------\n",
            "\n",
            "\n",
            "Type: torch.LongTensor\n",
            "Shape/size: torch.Size([3, 2])\n",
            "Values: \n",
            "tensor([[0, 3],\n",
            "        [1, 4],\n",
            "        [2, 5]])\n"
          ],
          "name": "stdout"
        }
      ]
    },
    {
      "cell_type": "markdown",
      "metadata": {
        "id": "9U4ZDf1lxeu8"
      },
      "source": [
        "## Indexing, Slicing, and Joining"
      ]
    },
    {
      "cell_type": "markdown",
      "metadata": {
        "id": "ZDEHs4DRxlBU"
      },
      "source": [
        "*Example 1-11. Slicing and indexing a tensor*"
      ]
    },
    {
      "cell_type": "code",
      "metadata": {
        "colab": {
          "base_uri": "https://localhost:8080/"
        },
        "id": "IeDSyxxxxixD",
        "outputId": "36d08350-13fb-4c26-c9af-6fc229450401"
      },
      "source": [
        "x = torch.arange(6).view(2, 3)\r\n",
        "describe(x)\r\n",
        "print(\"\\n\")\r\n",
        "print(\"--------------------------------------\")\r\n",
        "print(\"\\n\")\r\n",
        "describe(x[:1, :2])\r\n",
        "print(\"\\n\")\r\n",
        "print(\"--------------------------------------\")\r\n",
        "print(\"\\n\")\r\n",
        "describe(x[0, 1])"
      ],
      "execution_count": 11,
      "outputs": [
        {
          "output_type": "stream",
          "text": [
            "Type: torch.LongTensor\n",
            "Shape/size: torch.Size([2, 3])\n",
            "Values: \n",
            "tensor([[0, 1, 2],\n",
            "        [3, 4, 5]])\n",
            "\n",
            "\n",
            "--------------------------------------\n",
            "\n",
            "\n",
            "Type: torch.LongTensor\n",
            "Shape/size: torch.Size([1, 2])\n",
            "Values: \n",
            "tensor([[0, 1]])\n",
            "\n",
            "\n",
            "--------------------------------------\n",
            "\n",
            "\n",
            "Type: torch.LongTensor\n",
            "Shape/size: torch.Size([])\n",
            "Values: \n",
            "1\n"
          ],
          "name": "stdout"
        }
      ]
    },
    {
      "cell_type": "markdown",
      "metadata": {
        "id": "VjNicButyRlS"
      },
      "source": [
        "*Example 1-12. Complex indexing: noncontiguous indexing of a tensor*"
      ]
    },
    {
      "cell_type": "code",
      "metadata": {
        "colab": {
          "base_uri": "https://localhost:8080/"
        },
        "id": "VtUKxWbCx6jZ",
        "outputId": "e9171a8d-4f3c-4a2b-81a7-0c090dcf3779"
      },
      "source": [
        "indices = torch.LongTensor([0, 2]) # LongTensor type required for indices\r\n",
        "describe(torch.index_select(x, dim=1, index=indices))\r\n",
        "print(\"\\n\")\r\n",
        "print(\"--------------------------------------\")\r\n",
        "print(\"\\n\")\r\n",
        "indices = torch.LongTensor([0, 0])\r\n",
        "describe(torch.index_select(x, dim=0, index=indices))\r\n",
        "print(\"\\n\")\r\n",
        "print(\"--------------------------------------\")\r\n",
        "print(\"\\n\")\r\n",
        "row_indices = torch.arange(2).long()\r\n",
        "col_indices = torch.LongTensor([0, 1])\r\n",
        "describe(x[row_indices, col_indices])"
      ],
      "execution_count": 12,
      "outputs": [
        {
          "output_type": "stream",
          "text": [
            "Type: torch.LongTensor\n",
            "Shape/size: torch.Size([2, 2])\n",
            "Values: \n",
            "tensor([[0, 2],\n",
            "        [3, 5]])\n",
            "\n",
            "\n",
            "--------------------------------------\n",
            "\n",
            "\n",
            "Type: torch.LongTensor\n",
            "Shape/size: torch.Size([2, 3])\n",
            "Values: \n",
            "tensor([[0, 1, 2],\n",
            "        [0, 1, 2]])\n",
            "\n",
            "\n",
            "--------------------------------------\n",
            "\n",
            "\n",
            "Type: torch.LongTensor\n",
            "Shape/size: torch.Size([2])\n",
            "Values: \n",
            "tensor([0, 4])\n"
          ],
          "name": "stdout"
        }
      ]
    },
    {
      "cell_type": "markdown",
      "metadata": {
        "id": "kmdNmg8d0QtK"
      },
      "source": [
        "*Example 1-13. Concatenating tensors*"
      ]
    },
    {
      "cell_type": "code",
      "metadata": {
        "colab": {
          "base_uri": "https://localhost:8080/"
        },
        "id": "rIv55LQLzHAS",
        "outputId": "0a86959c-a926-461d-e8d4-100862477d4c"
      },
      "source": [
        "x = torch.arange(6).view(2, 3)\r\n",
        "describe(x)\r\n",
        "print(\"\\n\")\r\n",
        "print(\"--------------------------------------\")\r\n",
        "print(\"\\n\")\r\n",
        "describe(torch.cat([x, x], dim=0))\r\n",
        "print(\"\\n\")\r\n",
        "print(\"--------------------------------------\")\r\n",
        "print(\"\\n\")\r\n",
        "describe(torch.cat([x, x], dim=1))\r\n",
        "print(\"\\n\")\r\n",
        "print(\"--------------------------------------\")\r\n",
        "print(\"\\n\")\r\n",
        "describe(torch.stack([x, x]))"
      ],
      "execution_count": 13,
      "outputs": [
        {
          "output_type": "stream",
          "text": [
            "Type: torch.LongTensor\n",
            "Shape/size: torch.Size([2, 3])\n",
            "Values: \n",
            "tensor([[0, 1, 2],\n",
            "        [3, 4, 5]])\n",
            "\n",
            "\n",
            "--------------------------------------\n",
            "\n",
            "\n",
            "Type: torch.LongTensor\n",
            "Shape/size: torch.Size([4, 3])\n",
            "Values: \n",
            "tensor([[0, 1, 2],\n",
            "        [3, 4, 5],\n",
            "        [0, 1, 2],\n",
            "        [3, 4, 5]])\n",
            "\n",
            "\n",
            "--------------------------------------\n",
            "\n",
            "\n",
            "Type: torch.LongTensor\n",
            "Shape/size: torch.Size([2, 6])\n",
            "Values: \n",
            "tensor([[0, 1, 2, 0, 1, 2],\n",
            "        [3, 4, 5, 3, 4, 5]])\n",
            "\n",
            "\n",
            "--------------------------------------\n",
            "\n",
            "\n",
            "Type: torch.LongTensor\n",
            "Shape/size: torch.Size([2, 2, 3])\n",
            "Values: \n",
            "tensor([[[0, 1, 2],\n",
            "         [3, 4, 5]],\n",
            "\n",
            "        [[0, 1, 2],\n",
            "         [3, 4, 5]]])\n"
          ],
          "name": "stdout"
        }
      ]
    },
    {
      "cell_type": "markdown",
      "metadata": {
        "id": "AjSjRxMn0z-a"
      },
      "source": [
        "*Example 1-14. Linear algebra on tensors: multiplication*"
      ]
    },
    {
      "cell_type": "code",
      "metadata": {
        "colab": {
          "base_uri": "https://localhost:8080/"
        },
        "id": "INQVeFEw0tyV",
        "outputId": "01b1452f-6a83-4e71-d870-4f2722c1af25"
      },
      "source": [
        "x1 = torch.arange(6).view(2, 3).float()\r\n",
        "describe(x1)\r\n",
        "print(\"\\n\")\r\n",
        "print(\"--------------------------------------\")\r\n",
        "print(\"\\n\")\r\n",
        "x2 = torch.ones(3, 2)\r\n",
        "x2[:, 1] += 1\r\n",
        "describe(x2)\r\n",
        "print(\"\\n\")\r\n",
        "print(\"--------------------------------------\")\r\n",
        "print(\"\\n\")\r\n",
        "describe(torch.mm(x1, x2))"
      ],
      "execution_count": 14,
      "outputs": [
        {
          "output_type": "stream",
          "text": [
            "Type: torch.FloatTensor\n",
            "Shape/size: torch.Size([2, 3])\n",
            "Values: \n",
            "tensor([[0., 1., 2.],\n",
            "        [3., 4., 5.]])\n",
            "\n",
            "\n",
            "--------------------------------------\n",
            "\n",
            "\n",
            "Type: torch.FloatTensor\n",
            "Shape/size: torch.Size([3, 2])\n",
            "Values: \n",
            "tensor([[1., 2.],\n",
            "        [1., 2.],\n",
            "        [1., 2.]])\n",
            "\n",
            "\n",
            "--------------------------------------\n",
            "\n",
            "\n",
            "Type: torch.FloatTensor\n",
            "Shape/size: torch.Size([2, 2])\n",
            "Values: \n",
            "tensor([[ 3.,  6.],\n",
            "        [12., 24.]])\n"
          ],
          "name": "stdout"
        }
      ]
    },
    {
      "cell_type": "markdown",
      "metadata": {
        "id": "4jr2mLxf1hof"
      },
      "source": [
        "## Tensors and Computational Graphs"
      ]
    },
    {
      "cell_type": "markdown",
      "metadata": {
        "id": "hSg3ccta2Hj2"
      },
      "source": [
        "*Example 1-15. Creating tensors for gradient bookkeeping*"
      ]
    },
    {
      "cell_type": "code",
      "metadata": {
        "colab": {
          "base_uri": "https://localhost:8080/"
        },
        "id": "2PzaRBgA1Kwe",
        "outputId": "b876c5b4-83c9-4d02-e739-53708bf66368"
      },
      "source": [
        "x = torch.ones(2, 2, requires_grad=True) # requires_grad=True means PyTorch will track info to compute gradients\r\n",
        "describe(x)\r\n",
        "print(x.grad is None)\r\n",
        "print(\"\\n\")\r\n",
        "print(\"--------------------------------------\")\r\n",
        "print(\"\\n\")\r\n",
        "y = (x + 2) * (x + 5) + 3\r\n",
        "describe(y)\r\n",
        "print(x.grad is None)\r\n",
        "print(\"\\n\")\r\n",
        "print(\"--------------------------------------\")\r\n",
        "print(\"\\n\")\r\n",
        "z = y.mean()\r\n",
        "describe(z)\r\n",
        "z.backward()\r\n",
        "print(x.grad is None)"
      ],
      "execution_count": 15,
      "outputs": [
        {
          "output_type": "stream",
          "text": [
            "Type: torch.FloatTensor\n",
            "Shape/size: torch.Size([2, 2])\n",
            "Values: \n",
            "tensor([[1., 1.],\n",
            "        [1., 1.]], requires_grad=True)\n",
            "True\n",
            "\n",
            "\n",
            "--------------------------------------\n",
            "\n",
            "\n",
            "Type: torch.FloatTensor\n",
            "Shape/size: torch.Size([2, 2])\n",
            "Values: \n",
            "tensor([[21., 21.],\n",
            "        [21., 21.]], grad_fn=<AddBackward0>)\n",
            "True\n",
            "\n",
            "\n",
            "--------------------------------------\n",
            "\n",
            "\n",
            "Type: torch.FloatTensor\n",
            "Shape/size: torch.Size([])\n",
            "Values: \n",
            "21.0\n",
            "False\n"
          ],
          "name": "stdout"
        }
      ]
    },
    {
      "cell_type": "markdown",
      "metadata": {
        "id": "paz6Jmzm3Slt"
      },
      "source": [
        "## CUDA Tensors"
      ]
    },
    {
      "cell_type": "markdown",
      "metadata": {
        "id": "8fSzy7tx3Vqz"
      },
      "source": [
        "*Example 1-16. Creating CUDA tensors*"
      ]
    },
    {
      "cell_type": "code",
      "metadata": {
        "colab": {
          "base_uri": "https://localhost:8080/"
        },
        "id": "lrYedSSA3Un5",
        "outputId": "490dd7fb-eba7-4f65-ea76-e68684156791"
      },
      "source": [
        "print(torch.cuda.is_available())\r\n",
        "\r\n",
        "# preferred method: device agnostic tensor instantiation\r\n",
        "device = torch.device(\"cuda\" if torch.cuda.is_available() else \"cpu\")\r\n",
        "print(\"\\n\")\r\n",
        "print(\"--------------------------------------\")\r\n",
        "print(\"\\n\")\r\n",
        "print(device)\r\n",
        "print(\"\\n\")\r\n",
        "print(\"--------------------------------------\")\r\n",
        "print(\"\\n\")\r\n",
        "x = torch.rand(3, 3).to(device)\r\n",
        "describe(x)"
      ],
      "execution_count": 17,
      "outputs": [
        {
          "output_type": "stream",
          "text": [
            "True\n",
            "\n",
            "\n",
            "--------------------------------------\n",
            "\n",
            "\n",
            "cuda\n",
            "\n",
            "\n",
            "--------------------------------------\n",
            "\n",
            "\n",
            "Type: torch.cuda.FloatTensor\n",
            "Shape/size: torch.Size([3, 3])\n",
            "Values: \n",
            "tensor([[0.5651, 0.7647, 0.2521],\n",
            "        [0.0660, 0.7847, 0.2272],\n",
            "        [0.6024, 0.6149, 0.7954]], device='cuda:0')\n"
          ],
          "name": "stdout"
        }
      ]
    },
    {
      "cell_type": "markdown",
      "metadata": {
        "id": "jnkpyeYR8gsB"
      },
      "source": [
        "*Example 1-17. Mixing CUDA tensors with CPU-bound tensors*"
      ]
    },
    {
      "cell_type": "code",
      "metadata": {
        "colab": {
          "base_uri": "https://localhost:8080/",
          "height": 180
        },
        "id": "dqGSX_aj3fHH",
        "outputId": "bb242dad-5f43-42d5-9a13-592392bb0270"
      },
      "source": [
        "y = torch.rand(3, 3) # cpu-bound\r\n",
        "x + y # causes error"
      ],
      "execution_count": 18,
      "outputs": [
        {
          "output_type": "error",
          "ename": "RuntimeError",
          "evalue": "ignored",
          "traceback": [
            "\u001b[0;31m---------------------------------------------------------------------------\u001b[0m",
            "\u001b[0;31mRuntimeError\u001b[0m                              Traceback (most recent call last)",
            "\u001b[0;32m<ipython-input-18-0170df6468b2>\u001b[0m in \u001b[0;36m<module>\u001b[0;34m()\u001b[0m\n\u001b[1;32m      1\u001b[0m \u001b[0my\u001b[0m \u001b[0;34m=\u001b[0m \u001b[0mtorch\u001b[0m\u001b[0;34m.\u001b[0m\u001b[0mrand\u001b[0m\u001b[0;34m(\u001b[0m\u001b[0;36m3\u001b[0m\u001b[0;34m,\u001b[0m \u001b[0;36m3\u001b[0m\u001b[0;34m)\u001b[0m \u001b[0;31m# cpu-bound\u001b[0m\u001b[0;34m\u001b[0m\u001b[0;34m\u001b[0m\u001b[0m\n\u001b[0;32m----> 2\u001b[0;31m \u001b[0mx\u001b[0m \u001b[0;34m+\u001b[0m \u001b[0my\u001b[0m \u001b[0;31m# causes error\u001b[0m\u001b[0;34m\u001b[0m\u001b[0;34m\u001b[0m\u001b[0m\n\u001b[0m",
            "\u001b[0;31mRuntimeError\u001b[0m: Expected all tensors to be on the same device, but found at least two devices, cuda:0 and cpu!"
          ]
        }
      ]
    },
    {
      "cell_type": "code",
      "metadata": {
        "colab": {
          "base_uri": "https://localhost:8080/"
        },
        "id": "Jc1Oiupt9JM6",
        "outputId": "e7251191-9b6f-43e7-c555-f835aa32ed4e"
      },
      "source": [
        "cpu_device = torch.device(\"cpu\") # it's more costly to move to gpu, so generally tensors are moved to cpu when gpu is not needed\r\n",
        "y = y.to(cpu_device)\r\n",
        "x = x.to(cpu_device)\r\n",
        "x + y"
      ],
      "execution_count": 19,
      "outputs": [
        {
          "output_type": "execute_result",
          "data": {
            "text/plain": [
              "tensor([[0.8148, 1.5207, 1.1395],\n",
              "        [0.6034, 1.4715, 0.7976],\n",
              "        [1.5261, 0.7353, 1.6350]])"
            ]
          },
          "metadata": {
            "tags": []
          },
          "execution_count": 19
        }
      ]
    },
    {
      "cell_type": "markdown",
      "metadata": {
        "id": "g7CPdvOq9hlU"
      },
      "source": [
        "## Exercises"
      ]
    },
    {
      "cell_type": "markdown",
      "metadata": {
        "id": "29_JcXAW9rRT"
      },
      "source": [
        "1. Create a 2D tensor and then add a dimension of size 1 inserted at dimension 0."
      ]
    },
    {
      "cell_type": "code",
      "metadata": {
        "colab": {
          "base_uri": "https://localhost:8080/"
        },
        "id": "SNuNGDKo9Tlz",
        "outputId": "5a3bc70d-1150-4557-d88c-a63dcd99274b"
      },
      "source": [
        "x = torch.rand(2, 2)\r\n",
        "describe(x)\r\n",
        "print(\"\\n\")\r\n",
        "print(\"--------------------------------------\")\r\n",
        "print(\"\\n\")\r\n",
        "describe(x.unsqueeze_(0))"
      ],
      "execution_count": 22,
      "outputs": [
        {
          "output_type": "stream",
          "text": [
            "Type: torch.FloatTensor\n",
            "Shape/size: torch.Size([2, 2])\n",
            "Values: \n",
            "tensor([[0.0584, 0.1167],\n",
            "        [0.6345, 0.9847]])\n",
            "\n",
            "\n",
            "--------------------------------------\n",
            "\n",
            "\n",
            "Type: torch.FloatTensor\n",
            "Shape/size: torch.Size([1, 2, 2])\n",
            "Values: \n",
            "tensor([[[0.0584, 0.1167],\n",
            "         [0.6345, 0.9847]]])\n"
          ],
          "name": "stdout"
        }
      ]
    },
    {
      "cell_type": "markdown",
      "metadata": {
        "id": "sBVMxn3A-rKV"
      },
      "source": [
        "2. Remove the extra dimension you just added to the previous tensor."
      ]
    },
    {
      "cell_type": "code",
      "metadata": {
        "colab": {
          "base_uri": "https://localhost:8080/"
        },
        "id": "wGgY6BhM-mly",
        "outputId": "88832af3-7268-4319-f38f-b037138396ba"
      },
      "source": [
        "describe(x)\r\n",
        "print(\"\\n\")\r\n",
        "print(\"--------------------------------------\")\r\n",
        "print(\"\\n\")\r\n",
        "describe(x.squeeze_(0))"
      ],
      "execution_count": 23,
      "outputs": [
        {
          "output_type": "stream",
          "text": [
            "Type: torch.FloatTensor\n",
            "Shape/size: torch.Size([1, 2, 2])\n",
            "Values: \n",
            "tensor([[[0.0584, 0.1167],\n",
            "         [0.6345, 0.9847]]])\n",
            "\n",
            "\n",
            "--------------------------------------\n",
            "\n",
            "\n",
            "Type: torch.FloatTensor\n",
            "Shape/size: torch.Size([2, 2])\n",
            "Values: \n",
            "tensor([[0.0584, 0.1167],\n",
            "        [0.6345, 0.9847]])\n"
          ],
          "name": "stdout"
        }
      ]
    },
    {
      "cell_type": "markdown",
      "metadata": {
        "id": "UTHedCIZ_DET"
      },
      "source": [
        "3. Create a random tensor of shape 5x3 in the interval [3, 7)"
      ]
    },
    {
      "cell_type": "code",
      "metadata": {
        "colab": {
          "base_uri": "https://localhost:8080/"
        },
        "id": "UWLzLH5r-xUa",
        "outputId": "343f55da-8402-4bb6-ca68-142d9eac652a"
      },
      "source": [
        "x = torch.rand(3, 5)\r\n",
        "describe(x)\r\n",
        "print(\"\\n\")\r\n",
        "print(\"--------------------------------------\")\r\n",
        "print(\"\\n\")\r\n",
        "describe(3 + x * (7 - 3))"
      ],
      "execution_count": 25,
      "outputs": [
        {
          "output_type": "stream",
          "text": [
            "Type: torch.FloatTensor\n",
            "Shape/size: torch.Size([3, 5])\n",
            "Values: \n",
            "tensor([[0.2580, 0.2639, 0.8189, 0.1889, 0.7132],\n",
            "        [0.6985, 0.9447, 0.2736, 0.7299, 0.4296],\n",
            "        [0.4488, 0.0205, 0.4993, 0.9360, 0.9743]])\n",
            "\n",
            "\n",
            "--------------------------------------\n",
            "\n",
            "\n",
            "Type: torch.FloatTensor\n",
            "Shape/size: torch.Size([3, 5])\n",
            "Values: \n",
            "tensor([[4.0321, 4.0558, 6.2755, 3.7558, 5.8530],\n",
            "        [5.7940, 6.7786, 4.0942, 5.9196, 4.7185],\n",
            "        [4.7951, 3.0820, 4.9971, 6.7441, 6.8972]])\n"
          ],
          "name": "stdout"
        }
      ]
    },
    {
      "cell_type": "markdown",
      "metadata": {
        "id": "adJxv9Ne_x9q"
      },
      "source": [
        "4. Create a tensor with values from a std normal distrbution"
      ]
    },
    {
      "cell_type": "code",
      "metadata": {
        "colab": {
          "base_uri": "https://localhost:8080/"
        },
        "id": "bxGP-Mku_n1S",
        "outputId": "ebd4aa2f-c52e-4a3a-d8f5-f34775d0b73f"
      },
      "source": [
        "torch.randn(2, 3)"
      ],
      "execution_count": 26,
      "outputs": [
        {
          "output_type": "execute_result",
          "data": {
            "text/plain": [
              "tensor([[-0.8240, -0.9471, -0.4138],\n",
              "        [-1.5695, -0.9133, -0.4082]])"
            ]
          },
          "metadata": {
            "tags": []
          },
          "execution_count": 26
        }
      ]
    },
    {
      "cell_type": "markdown",
      "metadata": {
        "id": "C6wXHjVlAEgN"
      },
      "source": [
        "5. Retrieve the indexes of all the nonzero elements in the tensor `torch.Tensor([1, 1, 1, 0, 1])`"
      ]
    },
    {
      "cell_type": "code",
      "metadata": {
        "colab": {
          "base_uri": "https://localhost:8080/"
        },
        "id": "RtEw2d1aAAo3",
        "outputId": "74cc8449-fb9a-4a32-a859-455358a61a70"
      },
      "source": [
        "x = torch.Tensor([1, 1, 1, 0, 1])\r\n",
        "torch.nonzero(x)"
      ],
      "execution_count": 29,
      "outputs": [
        {
          "output_type": "execute_result",
          "data": {
            "text/plain": [
              "tensor([[0],\n",
              "        [1],\n",
              "        [2],\n",
              "        [4]])"
            ]
          },
          "metadata": {
            "tags": []
          },
          "execution_count": 29
        }
      ]
    },
    {
      "cell_type": "markdown",
      "metadata": {
        "id": "puWsf_46CIyF"
      },
      "source": [
        "6. Create a random tensor of size (3, 1) and then horizontally stack four copies together"
      ]
    },
    {
      "cell_type": "code",
      "metadata": {
        "colab": {
          "base_uri": "https://localhost:8080/"
        },
        "id": "QQvUd3oqBU_R",
        "outputId": "0990779d-2f20-498b-9383-10766063ab29"
      },
      "source": [
        "x = torch.rand(3, 1)\r\n",
        "describe(x)\r\n",
        "print(\"\\n\")\r\n",
        "print(\"--------------------------------------\")\r\n",
        "print(\"\\n\")\r\n",
        "describe(torch.cat([x, x, x, x], dim=1))\r\n",
        "print(\"\\n\")\r\n",
        "print(\"--------------------------------------\")\r\n",
        "print(\"\\n\")\r\n",
        "describe(x.expand(3, 4))"
      ],
      "execution_count": 33,
      "outputs": [
        {
          "output_type": "stream",
          "text": [
            "Type: torch.FloatTensor\n",
            "Shape/size: torch.Size([3, 1])\n",
            "Values: \n",
            "tensor([[0.1177],\n",
            "        [0.0529],\n",
            "        [0.8265]])\n",
            "\n",
            "\n",
            "--------------------------------------\n",
            "\n",
            "\n",
            "Type: torch.FloatTensor\n",
            "Shape/size: torch.Size([3, 4])\n",
            "Values: \n",
            "tensor([[0.1177, 0.1177, 0.1177, 0.1177],\n",
            "        [0.0529, 0.0529, 0.0529, 0.0529],\n",
            "        [0.8265, 0.8265, 0.8265, 0.8265]])\n",
            "\n",
            "\n",
            "--------------------------------------\n",
            "\n",
            "\n",
            "Type: torch.FloatTensor\n",
            "Shape/size: torch.Size([3, 4])\n",
            "Values: \n",
            "tensor([[0.1177, 0.1177, 0.1177, 0.1177],\n",
            "        [0.0529, 0.0529, 0.0529, 0.0529],\n",
            "        [0.8265, 0.8265, 0.8265, 0.8265]])\n"
          ],
          "name": "stdout"
        }
      ]
    },
    {
      "cell_type": "markdown",
      "metadata": {
        "id": "uk5MlHWKDg7v"
      },
      "source": [
        "7. Return the batch matrix-matrix product of two three-dimensional matrices `(a=torch.rand(3,4,5), b=torch.rand(3,5,4))`"
      ]
    },
    {
      "cell_type": "code",
      "metadata": {
        "colab": {
          "base_uri": "https://localhost:8080/"
        },
        "id": "k3vph9leDQOc",
        "outputId": "1e4b56e6-9f8d-430a-dd1f-74e6c4927ca5"
      },
      "source": [
        "a = torch.rand(3, 4, 5)\r\n",
        "b = torch.rand(3, 5, 4)\r\n",
        "\r\n",
        "describe(torch.bmm(a, b))"
      ],
      "execution_count": 36,
      "outputs": [
        {
          "output_type": "stream",
          "text": [
            "Type: torch.FloatTensor\n",
            "Shape/size: torch.Size([3, 4, 4])\n",
            "Values: \n",
            "tensor([[[1.3284, 1.4105, 1.7711, 1.5589],\n",
            "         [0.9383, 1.2593, 1.5796, 0.9207],\n",
            "         [1.6320, 1.6876, 2.2987, 1.4019],\n",
            "         [1.2756, 0.6339, 1.3705, 0.8241]],\n",
            "\n",
            "        [[0.6688, 0.7346, 1.2532, 1.6280],\n",
            "         [0.4803, 0.6169, 1.1120, 1.1937],\n",
            "         [0.5746, 0.8709, 1.5364, 1.6537],\n",
            "         [0.7007, 1.4170, 1.5839, 2.0052]],\n",
            "\n",
            "        [[1.1008, 1.1324, 1.8727, 0.9075],\n",
            "         [1.2670, 1.2187, 2.4290, 1.5998],\n",
            "         [1.1604, 1.1897, 2.0142, 1.0410],\n",
            "         [1.4365, 1.4377, 2.2139, 1.5145]]])\n"
          ],
          "name": "stdout"
        }
      ]
    },
    {
      "cell_type": "markdown",
      "metadata": {
        "id": "H2cVWq-6FAAc"
      },
      "source": [
        "8. Return the batch matrix-matrix product of a 3D matrix and a 2D matrix `(a=torch.rand(3, 4, 5), b=torch.rand(5, 4))`"
      ]
    },
    {
      "cell_type": "code",
      "metadata": {
        "colab": {
          "base_uri": "https://localhost:8080/"
        },
        "id": "0DY2Fw5-EJ-2",
        "outputId": "b119aa99-7242-4fc7-eaa2-c09f544b7e4e"
      },
      "source": [
        "a = torch.rand(3, 4, 5)\r\n",
        "b = torch.rand(5, 4)\r\n",
        "\r\n",
        "torch.bmm(a, b.unsqueeze(0).expand(a.size(0), *b.size()))"
      ],
      "execution_count": 41,
      "outputs": [
        {
          "output_type": "execute_result",
          "data": {
            "text/plain": [
              "tensor([[[1.5475, 0.7278, 1.7180, 1.1074],\n",
              "         [1.7764, 0.6134, 1.5897, 0.5841],\n",
              "         [1.9283, 1.1113, 2.1924, 1.1190],\n",
              "         [1.4988, 0.7145, 1.6317, 0.6600]],\n",
              "\n",
              "        [[1.3768, 0.6847, 1.5956, 0.8898],\n",
              "         [0.7888, 0.5512, 1.2090, 0.5307],\n",
              "         [0.5927, 0.2949, 0.9706, 0.7381],\n",
              "         [2.0606, 0.9512, 2.5210, 1.6165]],\n",
              "\n",
              "        [[1.6639, 0.8169, 2.0930, 1.1946],\n",
              "         [1.5292, 0.6741, 1.5519, 0.7521],\n",
              "         [1.7463, 0.7795, 1.6878, 0.7874],\n",
              "         [1.9922, 0.6543, 1.8142, 1.0579]]])"
            ]
          },
          "metadata": {
            "tags": []
          },
          "execution_count": 41
        }
      ]
    }
  ]
}
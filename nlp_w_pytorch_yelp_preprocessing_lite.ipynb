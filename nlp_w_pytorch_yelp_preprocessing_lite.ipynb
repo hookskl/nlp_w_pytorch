{
  "nbformat": 4,
  "nbformat_minor": 0,
  "metadata": {
    "colab": {
      "name": "nlp_w_pytorch_yelp_preprocessing_lite.ipynb",
      "provenance": [],
      "authorship_tag": "ABX9TyNZuekfkZrb5oLexpqp2SRA",
      "include_colab_link": true
    },
    "kernelspec": {
      "name": "python3",
      "display_name": "Python 3"
    }
  },
  "cells": [
    {
      "cell_type": "markdown",
      "metadata": {
        "id": "view-in-github",
        "colab_type": "text"
      },
      "source": [
        "<a href=\"https://colab.research.google.com/github/hookskl/nlp_w_pytorch/blob/main/nlp_w_pytorch_yelp_preprocessing_lite.ipynb\" target=\"_parent\"><img src=\"https://colab.research.google.com/assets/colab-badge.svg\" alt=\"Open In Colab\"/></a>"
      ]
    },
    {
      "cell_type": "code",
      "metadata": {
        "colab": {
          "base_uri": "https://localhost:8080/"
        },
        "id": "Cx7P5bUGfGM8",
        "outputId": "8b0c8628-ff11-46f7-bd22-982081ac8b7a"
      },
      "source": [
        "%%shell\r\n",
        "\r\n",
        "# get python file shell script\r\n",
        "curl -o download.py https://raw.githubusercontent.com/hookskl/PyTorchNLPBook/master/data/download.py\r\n",
        "#! /bin/bash\r\n",
        "\r\n",
        "# For each file, add a download.py line\r\n",
        "# Any additional processing on the downloaded file\r\n",
        "\r\n",
        "HERE=\"$( cd \"$( dirname \"${BASH_SOURCE[0]}\" )\" && pwd )\"\r\n",
        "\r\n",
        "# Yelp Reviews dataset\r\n",
        "mkdir -p $HERE/yelp\r\n",
        "if [ ! -f $HERE/yelp/raw_train.csv ]; then\r\n",
        "    python download.py 1xeUnqkhuzGGzZKThzPeXe2Vf6Uu_g_xM $HERE/yelp/raw_train.csv # 12536\r\n",
        "fi\r\n"
      ],
      "execution_count": 2,
      "outputs": [
        {
          "output_type": "stream",
          "text": [
            "  % Total    % Received % Xferd  Average Speed   Time    Time     Time  Current\n",
            "                                 Dload  Upload   Total   Spent    Left  Speed\n",
            "\r  0     0    0     0    0     0      0      0 --:--:-- --:--:-- --:--:--     0\r100  1572  100  1572    0     0  34173      0 --:--:-- --:--:-- --:--:-- 34173\n"
          ],
          "name": "stdout"
        },
        {
          "output_type": "execute_result",
          "data": {
            "text/plain": [
              ""
            ]
          },
          "metadata": {
            "tags": []
          },
          "execution_count": 2
        }
      ]
    },
    {
      "cell_type": "code",
      "metadata": {
        "id": "E_IS1k5-eC5l"
      },
      "source": [
        "import collections\r\n",
        "import numpy as np\r\n",
        "import pandas as pd\r\n",
        "import re\r\n",
        "\r\n",
        "from argparse import Namespace"
      ],
      "execution_count": 3,
      "outputs": []
    },
    {
      "cell_type": "code",
      "metadata": {
        "id": "YLI8v7bLeZYm"
      },
      "source": [
        "# some parameters for preprocessing\r\n",
        "args = Namespace(\r\n",
        "    raw_train_dataset_csv=\"yelp/raw_train.csv\", \r\n",
        "    raw_test_dataset_csv=\"yelp/raw_test.csv\",\r\n",
        "    proportion_subset_of_train=0.1, # 10% of full dataset\r\n",
        "    train_proportion=0.7, # 70% training\r\n",
        "    val_proportion=0.15, # 15% validation\r\n",
        "    test_proportion=0.15, # 15% test\r\n",
        "    output_munged_csv=\"yelp/reviews_with_splits_lite.csv\",\r\n",
        "    seed=1337\r\n",
        ")"
      ],
      "execution_count": 4,
      "outputs": []
    },
    {
      "cell_type": "code",
      "metadata": {
        "id": "b_5pwjFigi35"
      },
      "source": [
        "# Read raw data\r\n",
        "train_reviews = pd.read_csv(args.raw_train_dataset_csv, header=None, names=['rating', 'review'])"
      ],
      "execution_count": 5,
      "outputs": []
    },
    {
      "cell_type": "code",
      "metadata": {
        "colab": {
          "base_uri": "https://localhost:8080/",
          "height": 204
        },
        "id": "4xNFhHVtmMIf",
        "outputId": "1df5c2f6-da02-44b5-eb7d-5e189e72eed0"
      },
      "source": [
        "train_reviews.head()"
      ],
      "execution_count": 6,
      "outputs": [
        {
          "output_type": "execute_result",
          "data": {
            "text/html": [
              "<div>\n",
              "<style scoped>\n",
              "    .dataframe tbody tr th:only-of-type {\n",
              "        vertical-align: middle;\n",
              "    }\n",
              "\n",
              "    .dataframe tbody tr th {\n",
              "        vertical-align: top;\n",
              "    }\n",
              "\n",
              "    .dataframe thead th {\n",
              "        text-align: right;\n",
              "    }\n",
              "</style>\n",
              "<table border=\"1\" class=\"dataframe\">\n",
              "  <thead>\n",
              "    <tr style=\"text-align: right;\">\n",
              "      <th></th>\n",
              "      <th>rating</th>\n",
              "      <th>review</th>\n",
              "    </tr>\n",
              "  </thead>\n",
              "  <tbody>\n",
              "    <tr>\n",
              "      <th>0</th>\n",
              "      <td>1</td>\n",
              "      <td>Unfortunately, the frustration of being Dr. Go...</td>\n",
              "    </tr>\n",
              "    <tr>\n",
              "      <th>1</th>\n",
              "      <td>2</td>\n",
              "      <td>Been going to Dr. Goldberg for over 10 years. ...</td>\n",
              "    </tr>\n",
              "    <tr>\n",
              "      <th>2</th>\n",
              "      <td>1</td>\n",
              "      <td>I don't know what Dr. Goldberg was like before...</td>\n",
              "    </tr>\n",
              "    <tr>\n",
              "      <th>3</th>\n",
              "      <td>1</td>\n",
              "      <td>I'm writing this review to give you a heads up...</td>\n",
              "    </tr>\n",
              "    <tr>\n",
              "      <th>4</th>\n",
              "      <td>2</td>\n",
              "      <td>All the food is great here. But the best thing...</td>\n",
              "    </tr>\n",
              "  </tbody>\n",
              "</table>\n",
              "</div>"
            ],
            "text/plain": [
              "   rating                                             review\n",
              "0       1  Unfortunately, the frustration of being Dr. Go...\n",
              "1       2  Been going to Dr. Goldberg for over 10 years. ...\n",
              "2       1  I don't know what Dr. Goldberg was like before...\n",
              "3       1  I'm writing this review to give you a heads up...\n",
              "4       2  All the food is great here. But the best thing..."
            ]
          },
          "metadata": {
            "tags": []
          },
          "execution_count": 6
        }
      ]
    },
    {
      "cell_type": "code",
      "metadata": {
        "id": "NsAzVTh5gnA1"
      },
      "source": [
        "# making the subset equal across the review classes\r\n",
        "by_rating = collections.defaultdict(list)\r\n",
        "for _, row in train_reviews.iterrows():\r\n",
        "    by_rating[row.rating].append(row.to_dict())\r\n",
        "    \r\n",
        "review_subset = []\r\n",
        "\r\n",
        "for _, item_list in sorted(by_rating.items()):\r\n",
        "\r\n",
        "    n_total = len(item_list)\r\n",
        "    n_subset = int(args.proportion_subset_of_train * n_total)\r\n",
        "    review_subset.extend(item_list[:n_subset])\r\n",
        "\r\n",
        "review_subset = pd.DataFrame(review_subset)"
      ],
      "execution_count": 7,
      "outputs": []
    },
    {
      "cell_type": "code",
      "metadata": {
        "colab": {
          "base_uri": "https://localhost:8080/",
          "height": 204
        },
        "id": "kD0S7C2dgoyT",
        "outputId": "58d75c6a-ac26-4043-f1fc-8324a974e9ba"
      },
      "source": [
        "review_subset.head()"
      ],
      "execution_count": 8,
      "outputs": [
        {
          "output_type": "execute_result",
          "data": {
            "text/html": [
              "<div>\n",
              "<style scoped>\n",
              "    .dataframe tbody tr th:only-of-type {\n",
              "        vertical-align: middle;\n",
              "    }\n",
              "\n",
              "    .dataframe tbody tr th {\n",
              "        vertical-align: top;\n",
              "    }\n",
              "\n",
              "    .dataframe thead th {\n",
              "        text-align: right;\n",
              "    }\n",
              "</style>\n",
              "<table border=\"1\" class=\"dataframe\">\n",
              "  <thead>\n",
              "    <tr style=\"text-align: right;\">\n",
              "      <th></th>\n",
              "      <th>rating</th>\n",
              "      <th>review</th>\n",
              "    </tr>\n",
              "  </thead>\n",
              "  <tbody>\n",
              "    <tr>\n",
              "      <th>0</th>\n",
              "      <td>1</td>\n",
              "      <td>Unfortunately, the frustration of being Dr. Go...</td>\n",
              "    </tr>\n",
              "    <tr>\n",
              "      <th>1</th>\n",
              "      <td>1</td>\n",
              "      <td>I don't know what Dr. Goldberg was like before...</td>\n",
              "    </tr>\n",
              "    <tr>\n",
              "      <th>2</th>\n",
              "      <td>1</td>\n",
              "      <td>I'm writing this review to give you a heads up...</td>\n",
              "    </tr>\n",
              "    <tr>\n",
              "      <th>3</th>\n",
              "      <td>1</td>\n",
              "      <td>Wing sauce is like water. Pretty much a lot of...</td>\n",
              "    </tr>\n",
              "    <tr>\n",
              "      <th>4</th>\n",
              "      <td>1</td>\n",
              "      <td>Owning a driving range inside the city limits ...</td>\n",
              "    </tr>\n",
              "  </tbody>\n",
              "</table>\n",
              "</div>"
            ],
            "text/plain": [
              "   rating                                             review\n",
              "0       1  Unfortunately, the frustration of being Dr. Go...\n",
              "1       1  I don't know what Dr. Goldberg was like before...\n",
              "2       1  I'm writing this review to give you a heads up...\n",
              "3       1  Wing sauce is like water. Pretty much a lot of...\n",
              "4       1  Owning a driving range inside the city limits ..."
            ]
          },
          "metadata": {
            "tags": []
          },
          "execution_count": 8
        }
      ]
    },
    {
      "cell_type": "code",
      "metadata": {
        "colab": {
          "base_uri": "https://localhost:8080/"
        },
        "id": "v9Zde7-Egq-J",
        "outputId": "ff2fb4f2-0938-4c9a-f127-dce740b274de"
      },
      "source": [
        "train_reviews.rating.value_counts()"
      ],
      "execution_count": 9,
      "outputs": [
        {
          "output_type": "execute_result",
          "data": {
            "text/plain": [
              "2    280000\n",
              "1    280000\n",
              "Name: rating, dtype: int64"
            ]
          },
          "metadata": {
            "tags": []
          },
          "execution_count": 9
        }
      ]
    },
    {
      "cell_type": "code",
      "metadata": {
        "colab": {
          "base_uri": "https://localhost:8080/"
        },
        "id": "BZg_ZLi1gyUY",
        "outputId": "9daf15d1-ea36-4496-e820-1c2a9dfedca4"
      },
      "source": [
        "review_subset.rating.value_counts()"
      ],
      "execution_count": 10,
      "outputs": [
        {
          "output_type": "execute_result",
          "data": {
            "text/plain": [
              "2    28000\n",
              "1    28000\n",
              "Name: rating, dtype: int64"
            ]
          },
          "metadata": {
            "tags": []
          },
          "execution_count": 10
        }
      ]
    },
    {
      "cell_type": "code",
      "metadata": {
        "colab": {
          "base_uri": "https://localhost:8080/"
        },
        "id": "JgIGr6r1g1BA",
        "outputId": "2cedc109-e3d2-4d7e-c358-1fd1d9aeca1a"
      },
      "source": [
        "# Unique classes\r\n",
        "set(review_subset.rating)"
      ],
      "execution_count": 11,
      "outputs": [
        {
          "output_type": "execute_result",
          "data": {
            "text/plain": [
              "{1, 2}"
            ]
          },
          "metadata": {
            "tags": []
          },
          "execution_count": 11
        }
      ]
    },
    {
      "cell_type": "code",
      "metadata": {
        "id": "fJcJSKl3wiE9"
      },
      "source": [
        "# Splitting the subset by rating to create our new train, val, and test splits\r\n",
        "by_rating = collections.defaultdict(list)\r\n",
        "for _, row in review_subset.iterrows():\r\n",
        "    by_rating[row.rating].append(row.to_dict())\r\n",
        "    \r\n",
        "final_list = []\r\n",
        "np.random.seed(args.seed)\r\n",
        "\r\n",
        "for _, item_list in sorted(by_rating.items()):\r\n",
        "\r\n",
        "    np.random.shuffle(item_list)\r\n",
        "    \r\n",
        "    n_total = len(item_list)\r\n",
        "    n_train = int(args.train_proportion * n_total)\r\n",
        "    n_val = int(args.val_proportion * n_total)\r\n",
        "    n_test = int(args.test_proportion * n_total)\r\n",
        "    \r\n",
        "    # Give data point a split attribute\r\n",
        "    for item in item_list[:n_train]:\r\n",
        "        item['split'] = 'train'\r\n",
        "    \r\n",
        "    for item in item_list[n_train:n_train+n_val]:\r\n",
        "        item['split'] = 'val'\r\n",
        "        \r\n",
        "    for item in item_list[n_train+n_val:n_train+n_val+n_test]:\r\n",
        "        item['split'] = 'test'\r\n",
        "\r\n",
        "    # Add to final list\r\n",
        "    final_list.extend(item_list)"
      ],
      "execution_count": 12,
      "outputs": []
    },
    {
      "cell_type": "code",
      "metadata": {
        "id": "XB1IxjqTwpQL"
      },
      "source": [
        "# Create split data\r\n",
        "final_list = []\r\n",
        "np.random.seed(args.seed)\r\n",
        "\r\n",
        "for _, item_list in sorted(by_rating.items()):\r\n",
        "\r\n",
        "    np.random.shuffle(item_list)\r\n",
        "    \r\n",
        "    n_total = len(item_list)\r\n",
        "    n_train = int(args.train_proportion * n_total)\r\n",
        "    n_val = int(args.val_proportion * n_total)\r\n",
        "    n_test = int(args.test_proportion * n_total)\r\n",
        "    \r\n",
        "    # Give data point a split attribute\r\n",
        "    for item in item_list[:n_train]:\r\n",
        "        item['split'] = 'train'\r\n",
        "    \r\n",
        "    for item in item_list[n_train:n_train+n_val]:\r\n",
        "        item['split'] = 'val'\r\n",
        "        \r\n",
        "    for item in item_list[n_train+n_val:n_train+n_val+n_test]:\r\n",
        "        item['split'] = 'test'\r\n",
        "\r\n",
        "    # Add to final list\r\n",
        "    final_list.extend(item_list)"
      ],
      "execution_count": 13,
      "outputs": []
    },
    {
      "cell_type": "code",
      "metadata": {
        "id": "M80b-kKcww1E"
      },
      "source": [
        "# Write split data to file\r\n",
        "final_reviews = pd.DataFrame(final_list)"
      ],
      "execution_count": 14,
      "outputs": []
    },
    {
      "cell_type": "code",
      "metadata": {
        "colab": {
          "base_uri": "https://localhost:8080/"
        },
        "id": "mpJTFdUJwxvf",
        "outputId": "43ad9706-14e3-4b8c-9a24-6314176d64af"
      },
      "source": [
        "final_reviews.split.value_counts()"
      ],
      "execution_count": 15,
      "outputs": [
        {
          "output_type": "execute_result",
          "data": {
            "text/plain": [
              "train    39200\n",
              "val       8400\n",
              "test      8400\n",
              "Name: split, dtype: int64"
            ]
          },
          "metadata": {
            "tags": []
          },
          "execution_count": 15
        }
      ]
    },
    {
      "cell_type": "code",
      "metadata": {
        "id": "Wcs7EEhFw3Uy"
      },
      "source": [
        "# Preprocess the reviews\r\n",
        "def preprocess_text(text):\r\n",
        "    text = text.lower()\r\n",
        "    text = re.sub(r\"([.,!?])\", r\" \\1 \", text)\r\n",
        "    text = re.sub(r\"[^a-zA-Z.,!?]+\", r\" \", text)\r\n",
        "    return text\r\n",
        "    \r\n",
        "final_reviews.review = final_reviews.review.apply(preprocess_text)"
      ],
      "execution_count": 16,
      "outputs": []
    },
    {
      "cell_type": "code",
      "metadata": {
        "id": "1RtTck0uw4Fz"
      },
      "source": [
        "final_reviews['rating'] = final_reviews.rating.apply({1: 'negative', 2: 'positive'}.get)"
      ],
      "execution_count": 17,
      "outputs": []
    },
    {
      "cell_type": "code",
      "metadata": {
        "colab": {
          "base_uri": "https://localhost:8080/",
          "height": 204
        },
        "id": "3oIuLp8gw6Ho",
        "outputId": "1b5cca88-d2d9-4701-e1a1-17f3d44b9889"
      },
      "source": [
        "final_reviews.head()"
      ],
      "execution_count": 18,
      "outputs": [
        {
          "output_type": "execute_result",
          "data": {
            "text/html": [
              "<div>\n",
              "<style scoped>\n",
              "    .dataframe tbody tr th:only-of-type {\n",
              "        vertical-align: middle;\n",
              "    }\n",
              "\n",
              "    .dataframe tbody tr th {\n",
              "        vertical-align: top;\n",
              "    }\n",
              "\n",
              "    .dataframe thead th {\n",
              "        text-align: right;\n",
              "    }\n",
              "</style>\n",
              "<table border=\"1\" class=\"dataframe\">\n",
              "  <thead>\n",
              "    <tr style=\"text-align: right;\">\n",
              "      <th></th>\n",
              "      <th>rating</th>\n",
              "      <th>review</th>\n",
              "      <th>split</th>\n",
              "    </tr>\n",
              "  </thead>\n",
              "  <tbody>\n",
              "    <tr>\n",
              "      <th>0</th>\n",
              "      <td>negative</td>\n",
              "      <td>all i can say is that a i had no other option ...</td>\n",
              "      <td>train</td>\n",
              "    </tr>\n",
              "    <tr>\n",
              "      <th>1</th>\n",
              "      <td>negative</td>\n",
              "      <td>i went here once when my long time stylist mov...</td>\n",
              "      <td>train</td>\n",
              "    </tr>\n",
              "    <tr>\n",
              "      <th>2</th>\n",
              "      <td>negative</td>\n",
              "      <td>i don t know why i stopped here for lunch this...</td>\n",
              "      <td>train</td>\n",
              "    </tr>\n",
              "    <tr>\n",
              "      <th>3</th>\n",
              "      <td>negative</td>\n",
              "      <td>did i order the wrong thing ? or maybe it was ...</td>\n",
              "      <td>train</td>\n",
              "    </tr>\n",
              "    <tr>\n",
              "      <th>4</th>\n",
              "      <td>negative</td>\n",
              "      <td>i went here for restaurant week . the restaura...</td>\n",
              "      <td>train</td>\n",
              "    </tr>\n",
              "  </tbody>\n",
              "</table>\n",
              "</div>"
            ],
            "text/plain": [
              "     rating                                             review  split\n",
              "0  negative  all i can say is that a i had no other option ...  train\n",
              "1  negative  i went here once when my long time stylist mov...  train\n",
              "2  negative  i don t know why i stopped here for lunch this...  train\n",
              "3  negative  did i order the wrong thing ? or maybe it was ...  train\n",
              "4  negative  i went here for restaurant week . the restaura...  train"
            ]
          },
          "metadata": {
            "tags": []
          },
          "execution_count": 18
        }
      ]
    },
    {
      "cell_type": "code",
      "metadata": {
        "id": "V8xVTvhQw8vo"
      },
      "source": [
        "final_reviews.to_csv(args.output_munged_csv, index=False)"
      ],
      "execution_count": 19,
      "outputs": []
    }
  ]
}
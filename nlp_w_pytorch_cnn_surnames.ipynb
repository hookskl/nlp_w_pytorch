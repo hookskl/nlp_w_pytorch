{
  "nbformat": 4,
  "nbformat_minor": 0,
  "metadata": {
    "colab": {
      "name": "nlp_w_pytorch_cnn_surnames.ipynb",
      "provenance": [],
      "toc_visible": true,
      "authorship_tag": "ABX9TyO5ZVwRuMKNtwRqQBf92wox",
      "include_colab_link": true
    },
    "kernelspec": {
      "name": "python3",
      "display_name": "Python 3"
    },
    "accelerator": "GPU",
    "widgets": {
      "application/vnd.jupyter.widget-state+json": {
        "25d3c6b1646b4787974930817a6c4c9b": {
          "model_module": "@jupyter-widgets/controls",
          "model_name": "HBoxModel",
          "state": {
            "_view_name": "HBoxView",
            "_dom_classes": [],
            "_model_name": "HBoxModel",
            "_view_module": "@jupyter-widgets/controls",
            "_model_module_version": "1.5.0",
            "_view_count": null,
            "_view_module_version": "1.5.0",
            "box_style": "",
            "layout": "IPY_MODEL_32819e69f9bd49fd8e2ae430606df21e",
            "_model_module": "@jupyter-widgets/controls",
            "children": [
              "IPY_MODEL_3d8f646ca8e645a1afd7318018c4e939",
              "IPY_MODEL_08a123d1f366402483d88eacf7e280d0"
            ]
          }
        },
        "32819e69f9bd49fd8e2ae430606df21e": {
          "model_module": "@jupyter-widgets/base",
          "model_name": "LayoutModel",
          "state": {
            "_view_name": "LayoutView",
            "grid_template_rows": null,
            "right": null,
            "justify_content": null,
            "_view_module": "@jupyter-widgets/base",
            "overflow": null,
            "_model_module_version": "1.2.0",
            "_view_count": null,
            "flex_flow": null,
            "width": null,
            "min_width": null,
            "border": null,
            "align_items": null,
            "bottom": null,
            "_model_module": "@jupyter-widgets/base",
            "top": null,
            "grid_column": null,
            "overflow_y": null,
            "overflow_x": null,
            "grid_auto_flow": null,
            "grid_area": null,
            "grid_template_columns": null,
            "flex": null,
            "_model_name": "LayoutModel",
            "justify_items": null,
            "grid_row": null,
            "max_height": null,
            "align_content": null,
            "visibility": null,
            "align_self": null,
            "height": null,
            "min_height": null,
            "padding": null,
            "grid_auto_rows": null,
            "grid_gap": null,
            "max_width": null,
            "order": null,
            "_view_module_version": "1.2.0",
            "grid_template_areas": null,
            "object_position": null,
            "object_fit": null,
            "grid_auto_columns": null,
            "margin": null,
            "display": null,
            "left": null
          }
        },
        "3d8f646ca8e645a1afd7318018c4e939": {
          "model_module": "@jupyter-widgets/controls",
          "model_name": "FloatProgressModel",
          "state": {
            "_view_name": "ProgressView",
            "style": "IPY_MODEL_e905c42da2dc4701923e059c5df59085",
            "_dom_classes": [],
            "description": "training routine: 100%",
            "_model_name": "FloatProgressModel",
            "bar_style": "",
            "max": 25,
            "_view_module": "@jupyter-widgets/controls",
            "_model_module_version": "1.5.0",
            "value": 25,
            "_view_count": null,
            "_view_module_version": "1.5.0",
            "orientation": "horizontal",
            "min": 0,
            "description_tooltip": null,
            "_model_module": "@jupyter-widgets/controls",
            "layout": "IPY_MODEL_c1add863937e45b797154f55add9d232"
          }
        },
        "08a123d1f366402483d88eacf7e280d0": {
          "model_module": "@jupyter-widgets/controls",
          "model_name": "HTMLModel",
          "state": {
            "_view_name": "HTMLView",
            "style": "IPY_MODEL_220d353223d240c58bf5a97ccf153f6b",
            "_dom_classes": [],
            "description": "",
            "_model_name": "HTMLModel",
            "placeholder": "​",
            "_view_module": "@jupyter-widgets/controls",
            "_model_module_version": "1.5.0",
            "value": " 25/25 [01:13&lt;00:00,  2.92s/it]",
            "_view_count": null,
            "_view_module_version": "1.5.0",
            "description_tooltip": null,
            "_model_module": "@jupyter-widgets/controls",
            "layout": "IPY_MODEL_dc5bb8767dfe420d9389b9c418f1853d"
          }
        },
        "e905c42da2dc4701923e059c5df59085": {
          "model_module": "@jupyter-widgets/controls",
          "model_name": "ProgressStyleModel",
          "state": {
            "_view_name": "StyleView",
            "_model_name": "ProgressStyleModel",
            "description_width": "initial",
            "_view_module": "@jupyter-widgets/base",
            "_model_module_version": "1.5.0",
            "_view_count": null,
            "_view_module_version": "1.2.0",
            "bar_color": null,
            "_model_module": "@jupyter-widgets/controls"
          }
        },
        "c1add863937e45b797154f55add9d232": {
          "model_module": "@jupyter-widgets/base",
          "model_name": "LayoutModel",
          "state": {
            "_view_name": "LayoutView",
            "grid_template_rows": null,
            "right": null,
            "justify_content": null,
            "_view_module": "@jupyter-widgets/base",
            "overflow": null,
            "_model_module_version": "1.2.0",
            "_view_count": null,
            "flex_flow": null,
            "width": null,
            "min_width": null,
            "border": null,
            "align_items": null,
            "bottom": null,
            "_model_module": "@jupyter-widgets/base",
            "top": null,
            "grid_column": null,
            "overflow_y": null,
            "overflow_x": null,
            "grid_auto_flow": null,
            "grid_area": null,
            "grid_template_columns": null,
            "flex": null,
            "_model_name": "LayoutModel",
            "justify_items": null,
            "grid_row": null,
            "max_height": null,
            "align_content": null,
            "visibility": null,
            "align_self": null,
            "height": null,
            "min_height": null,
            "padding": null,
            "grid_auto_rows": null,
            "grid_gap": null,
            "max_width": null,
            "order": null,
            "_view_module_version": "1.2.0",
            "grid_template_areas": null,
            "object_position": null,
            "object_fit": null,
            "grid_auto_columns": null,
            "margin": null,
            "display": null,
            "left": null
          }
        },
        "220d353223d240c58bf5a97ccf153f6b": {
          "model_module": "@jupyter-widgets/controls",
          "model_name": "DescriptionStyleModel",
          "state": {
            "_view_name": "StyleView",
            "_model_name": "DescriptionStyleModel",
            "description_width": "",
            "_view_module": "@jupyter-widgets/base",
            "_model_module_version": "1.5.0",
            "_view_count": null,
            "_view_module_version": "1.2.0",
            "_model_module": "@jupyter-widgets/controls"
          }
        },
        "dc5bb8767dfe420d9389b9c418f1853d": {
          "model_module": "@jupyter-widgets/base",
          "model_name": "LayoutModel",
          "state": {
            "_view_name": "LayoutView",
            "grid_template_rows": null,
            "right": null,
            "justify_content": null,
            "_view_module": "@jupyter-widgets/base",
            "overflow": null,
            "_model_module_version": "1.2.0",
            "_view_count": null,
            "flex_flow": null,
            "width": null,
            "min_width": null,
            "border": null,
            "align_items": null,
            "bottom": null,
            "_model_module": "@jupyter-widgets/base",
            "top": null,
            "grid_column": null,
            "overflow_y": null,
            "overflow_x": null,
            "grid_auto_flow": null,
            "grid_area": null,
            "grid_template_columns": null,
            "flex": null,
            "_model_name": "LayoutModel",
            "justify_items": null,
            "grid_row": null,
            "max_height": null,
            "align_content": null,
            "visibility": null,
            "align_self": null,
            "height": null,
            "min_height": null,
            "padding": null,
            "grid_auto_rows": null,
            "grid_gap": null,
            "max_width": null,
            "order": null,
            "_view_module_version": "1.2.0",
            "grid_template_areas": null,
            "object_position": null,
            "object_fit": null,
            "grid_auto_columns": null,
            "margin": null,
            "display": null,
            "left": null
          }
        },
        "0cc9ff366e01404e9de049bc4d1410f6": {
          "model_module": "@jupyter-widgets/controls",
          "model_name": "HBoxModel",
          "state": {
            "_view_name": "HBoxView",
            "_dom_classes": [],
            "_model_name": "HBoxModel",
            "_view_module": "@jupyter-widgets/controls",
            "_model_module_version": "1.5.0",
            "_view_count": null,
            "_view_module_version": "1.5.0",
            "box_style": "",
            "layout": "IPY_MODEL_078eae0fb08741f6b96659c3167ec23c",
            "_model_module": "@jupyter-widgets/controls",
            "children": [
              "IPY_MODEL_df6dd9a615ff48bc97a1e3574ccf098f",
              "IPY_MODEL_7a874590f84d4cc49f6ad05e78c9a4ca"
            ]
          }
        },
        "078eae0fb08741f6b96659c3167ec23c": {
          "model_module": "@jupyter-widgets/base",
          "model_name": "LayoutModel",
          "state": {
            "_view_name": "LayoutView",
            "grid_template_rows": null,
            "right": null,
            "justify_content": null,
            "_view_module": "@jupyter-widgets/base",
            "overflow": null,
            "_model_module_version": "1.2.0",
            "_view_count": null,
            "flex_flow": null,
            "width": null,
            "min_width": null,
            "border": null,
            "align_items": null,
            "bottom": null,
            "_model_module": "@jupyter-widgets/base",
            "top": null,
            "grid_column": null,
            "overflow_y": null,
            "overflow_x": null,
            "grid_auto_flow": null,
            "grid_area": null,
            "grid_template_columns": null,
            "flex": null,
            "_model_name": "LayoutModel",
            "justify_items": null,
            "grid_row": null,
            "max_height": null,
            "align_content": null,
            "visibility": null,
            "align_self": null,
            "height": null,
            "min_height": null,
            "padding": null,
            "grid_auto_rows": null,
            "grid_gap": null,
            "max_width": null,
            "order": null,
            "_view_module_version": "1.2.0",
            "grid_template_areas": null,
            "object_position": null,
            "object_fit": null,
            "grid_auto_columns": null,
            "margin": null,
            "display": null,
            "left": null
          }
        },
        "df6dd9a615ff48bc97a1e3574ccf098f": {
          "model_module": "@jupyter-widgets/controls",
          "model_name": "FloatProgressModel",
          "state": {
            "_view_name": "ProgressView",
            "style": "IPY_MODEL_a0bd78ef94db470481ef20e4ccde3a31",
            "_dom_classes": [],
            "description": "split=train:  98%",
            "_model_name": "FloatProgressModel",
            "bar_style": "",
            "max": 60,
            "_view_module": "@jupyter-widgets/controls",
            "_model_module_version": "1.5.0",
            "value": 59,
            "_view_count": null,
            "_view_module_version": "1.5.0",
            "orientation": "horizontal",
            "min": 0,
            "description_tooltip": null,
            "_model_module": "@jupyter-widgets/controls",
            "layout": "IPY_MODEL_57059d8fe9fb4079a3e79ac6a094e174"
          }
        },
        "7a874590f84d4cc49f6ad05e78c9a4ca": {
          "model_module": "@jupyter-widgets/controls",
          "model_name": "HTMLModel",
          "state": {
            "_view_name": "HTMLView",
            "style": "IPY_MODEL_d0e678c8aac140b19b70eef11eb2de6b",
            "_dom_classes": [],
            "description": "",
            "_model_name": "HTMLModel",
            "placeholder": "​",
            "_view_module": "@jupyter-widgets/controls",
            "_model_module_version": "1.5.0",
            "value": " 59/60 [01:12&lt;00:04,  4.61s/it, acc=86.1, epoch=24, loss=0.241]",
            "_view_count": null,
            "_view_module_version": "1.5.0",
            "description_tooltip": null,
            "_model_module": "@jupyter-widgets/controls",
            "layout": "IPY_MODEL_85acca65a702413ca4049bd1888c4114"
          }
        },
        "a0bd78ef94db470481ef20e4ccde3a31": {
          "model_module": "@jupyter-widgets/controls",
          "model_name": "ProgressStyleModel",
          "state": {
            "_view_name": "StyleView",
            "_model_name": "ProgressStyleModel",
            "description_width": "initial",
            "_view_module": "@jupyter-widgets/base",
            "_model_module_version": "1.5.0",
            "_view_count": null,
            "_view_module_version": "1.2.0",
            "bar_color": null,
            "_model_module": "@jupyter-widgets/controls"
          }
        },
        "57059d8fe9fb4079a3e79ac6a094e174": {
          "model_module": "@jupyter-widgets/base",
          "model_name": "LayoutModel",
          "state": {
            "_view_name": "LayoutView",
            "grid_template_rows": null,
            "right": null,
            "justify_content": null,
            "_view_module": "@jupyter-widgets/base",
            "overflow": null,
            "_model_module_version": "1.2.0",
            "_view_count": null,
            "flex_flow": null,
            "width": null,
            "min_width": null,
            "border": null,
            "align_items": null,
            "bottom": null,
            "_model_module": "@jupyter-widgets/base",
            "top": null,
            "grid_column": null,
            "overflow_y": null,
            "overflow_x": null,
            "grid_auto_flow": null,
            "grid_area": null,
            "grid_template_columns": null,
            "flex": null,
            "_model_name": "LayoutModel",
            "justify_items": null,
            "grid_row": null,
            "max_height": null,
            "align_content": null,
            "visibility": null,
            "align_self": null,
            "height": null,
            "min_height": null,
            "padding": null,
            "grid_auto_rows": null,
            "grid_gap": null,
            "max_width": null,
            "order": null,
            "_view_module_version": "1.2.0",
            "grid_template_areas": null,
            "object_position": null,
            "object_fit": null,
            "grid_auto_columns": null,
            "margin": null,
            "display": null,
            "left": null
          }
        },
        "d0e678c8aac140b19b70eef11eb2de6b": {
          "model_module": "@jupyter-widgets/controls",
          "model_name": "DescriptionStyleModel",
          "state": {
            "_view_name": "StyleView",
            "_model_name": "DescriptionStyleModel",
            "description_width": "",
            "_view_module": "@jupyter-widgets/base",
            "_model_module_version": "1.5.0",
            "_view_count": null,
            "_view_module_version": "1.2.0",
            "_model_module": "@jupyter-widgets/controls"
          }
        },
        "85acca65a702413ca4049bd1888c4114": {
          "model_module": "@jupyter-widgets/base",
          "model_name": "LayoutModel",
          "state": {
            "_view_name": "LayoutView",
            "grid_template_rows": null,
            "right": null,
            "justify_content": null,
            "_view_module": "@jupyter-widgets/base",
            "overflow": null,
            "_model_module_version": "1.2.0",
            "_view_count": null,
            "flex_flow": null,
            "width": null,
            "min_width": null,
            "border": null,
            "align_items": null,
            "bottom": null,
            "_model_module": "@jupyter-widgets/base",
            "top": null,
            "grid_column": null,
            "overflow_y": null,
            "overflow_x": null,
            "grid_auto_flow": null,
            "grid_area": null,
            "grid_template_columns": null,
            "flex": null,
            "_model_name": "LayoutModel",
            "justify_items": null,
            "grid_row": null,
            "max_height": null,
            "align_content": null,
            "visibility": null,
            "align_self": null,
            "height": null,
            "min_height": null,
            "padding": null,
            "grid_auto_rows": null,
            "grid_gap": null,
            "max_width": null,
            "order": null,
            "_view_module_version": "1.2.0",
            "grid_template_areas": null,
            "object_position": null,
            "object_fit": null,
            "grid_auto_columns": null,
            "margin": null,
            "display": null,
            "left": null
          }
        },
        "a2828981155a4969ac659f5d971ec52e": {
          "model_module": "@jupyter-widgets/controls",
          "model_name": "HBoxModel",
          "state": {
            "_view_name": "HBoxView",
            "_dom_classes": [],
            "_model_name": "HBoxModel",
            "_view_module": "@jupyter-widgets/controls",
            "_model_module_version": "1.5.0",
            "_view_count": null,
            "_view_module_version": "1.5.0",
            "box_style": "",
            "layout": "IPY_MODEL_0da9f3124d3e4233a4f17bc2344fc15a",
            "_model_module": "@jupyter-widgets/controls",
            "children": [
              "IPY_MODEL_8b1eb49b5c0845d6b34464fa2afcd836",
              "IPY_MODEL_f9e89647ee9443178c35286c024d955a"
            ]
          }
        },
        "0da9f3124d3e4233a4f17bc2344fc15a": {
          "model_module": "@jupyter-widgets/base",
          "model_name": "LayoutModel",
          "state": {
            "_view_name": "LayoutView",
            "grid_template_rows": null,
            "right": null,
            "justify_content": null,
            "_view_module": "@jupyter-widgets/base",
            "overflow": null,
            "_model_module_version": "1.2.0",
            "_view_count": null,
            "flex_flow": null,
            "width": null,
            "min_width": null,
            "border": null,
            "align_items": null,
            "bottom": null,
            "_model_module": "@jupyter-widgets/base",
            "top": null,
            "grid_column": null,
            "overflow_y": null,
            "overflow_x": null,
            "grid_auto_flow": null,
            "grid_area": null,
            "grid_template_columns": null,
            "flex": null,
            "_model_name": "LayoutModel",
            "justify_items": null,
            "grid_row": null,
            "max_height": null,
            "align_content": null,
            "visibility": null,
            "align_self": null,
            "height": null,
            "min_height": null,
            "padding": null,
            "grid_auto_rows": null,
            "grid_gap": null,
            "max_width": null,
            "order": null,
            "_view_module_version": "1.2.0",
            "grid_template_areas": null,
            "object_position": null,
            "object_fit": null,
            "grid_auto_columns": null,
            "margin": null,
            "display": null,
            "left": null
          }
        },
        "8b1eb49b5c0845d6b34464fa2afcd836": {
          "model_module": "@jupyter-widgets/controls",
          "model_name": "FloatProgressModel",
          "state": {
            "_view_name": "ProgressView",
            "style": "IPY_MODEL_2327e66d525e49a18c3aa61a7cae37a4",
            "_dom_classes": [],
            "description": "split=val:  92%",
            "_model_name": "FloatProgressModel",
            "bar_style": "",
            "max": 12,
            "_view_module": "@jupyter-widgets/controls",
            "_model_module_version": "1.5.0",
            "value": 11,
            "_view_count": null,
            "_view_module_version": "1.5.0",
            "orientation": "horizontal",
            "min": 0,
            "description_tooltip": null,
            "_model_module": "@jupyter-widgets/controls",
            "layout": "IPY_MODEL_89fd1961e6e347ef827647cef4ab854e"
          }
        },
        "f9e89647ee9443178c35286c024d955a": {
          "model_module": "@jupyter-widgets/controls",
          "model_name": "HTMLModel",
          "state": {
            "_view_name": "HTMLView",
            "style": "IPY_MODEL_2e67555631ab438d803acda346689489",
            "_dom_classes": [],
            "description": "",
            "_model_name": "HTMLModel",
            "placeholder": "​",
            "_view_module": "@jupyter-widgets/controls",
            "_model_module_version": "1.5.0",
            "value": " 11/12 [01:13&lt;00:00,  1.07it/s, acc=70, epoch=24, loss=1.86]",
            "_view_count": null,
            "_view_module_version": "1.5.0",
            "description_tooltip": null,
            "_model_module": "@jupyter-widgets/controls",
            "layout": "IPY_MODEL_f374a254291c4341840664117e197232"
          }
        },
        "2327e66d525e49a18c3aa61a7cae37a4": {
          "model_module": "@jupyter-widgets/controls",
          "model_name": "ProgressStyleModel",
          "state": {
            "_view_name": "StyleView",
            "_model_name": "ProgressStyleModel",
            "description_width": "initial",
            "_view_module": "@jupyter-widgets/base",
            "_model_module_version": "1.5.0",
            "_view_count": null,
            "_view_module_version": "1.2.0",
            "bar_color": null,
            "_model_module": "@jupyter-widgets/controls"
          }
        },
        "89fd1961e6e347ef827647cef4ab854e": {
          "model_module": "@jupyter-widgets/base",
          "model_name": "LayoutModel",
          "state": {
            "_view_name": "LayoutView",
            "grid_template_rows": null,
            "right": null,
            "justify_content": null,
            "_view_module": "@jupyter-widgets/base",
            "overflow": null,
            "_model_module_version": "1.2.0",
            "_view_count": null,
            "flex_flow": null,
            "width": null,
            "min_width": null,
            "border": null,
            "align_items": null,
            "bottom": null,
            "_model_module": "@jupyter-widgets/base",
            "top": null,
            "grid_column": null,
            "overflow_y": null,
            "overflow_x": null,
            "grid_auto_flow": null,
            "grid_area": null,
            "grid_template_columns": null,
            "flex": null,
            "_model_name": "LayoutModel",
            "justify_items": null,
            "grid_row": null,
            "max_height": null,
            "align_content": null,
            "visibility": null,
            "align_self": null,
            "height": null,
            "min_height": null,
            "padding": null,
            "grid_auto_rows": null,
            "grid_gap": null,
            "max_width": null,
            "order": null,
            "_view_module_version": "1.2.0",
            "grid_template_areas": null,
            "object_position": null,
            "object_fit": null,
            "grid_auto_columns": null,
            "margin": null,
            "display": null,
            "left": null
          }
        },
        "2e67555631ab438d803acda346689489": {
          "model_module": "@jupyter-widgets/controls",
          "model_name": "DescriptionStyleModel",
          "state": {
            "_view_name": "StyleView",
            "_model_name": "DescriptionStyleModel",
            "description_width": "",
            "_view_module": "@jupyter-widgets/base",
            "_model_module_version": "1.5.0",
            "_view_count": null,
            "_view_module_version": "1.2.0",
            "_model_module": "@jupyter-widgets/controls"
          }
        },
        "f374a254291c4341840664117e197232": {
          "model_module": "@jupyter-widgets/base",
          "model_name": "LayoutModel",
          "state": {
            "_view_name": "LayoutView",
            "grid_template_rows": null,
            "right": null,
            "justify_content": null,
            "_view_module": "@jupyter-widgets/base",
            "overflow": null,
            "_model_module_version": "1.2.0",
            "_view_count": null,
            "flex_flow": null,
            "width": null,
            "min_width": null,
            "border": null,
            "align_items": null,
            "bottom": null,
            "_model_module": "@jupyter-widgets/base",
            "top": null,
            "grid_column": null,
            "overflow_y": null,
            "overflow_x": null,
            "grid_auto_flow": null,
            "grid_area": null,
            "grid_template_columns": null,
            "flex": null,
            "_model_name": "LayoutModel",
            "justify_items": null,
            "grid_row": null,
            "max_height": null,
            "align_content": null,
            "visibility": null,
            "align_self": null,
            "height": null,
            "min_height": null,
            "padding": null,
            "grid_auto_rows": null,
            "grid_gap": null,
            "max_width": null,
            "order": null,
            "_view_module_version": "1.2.0",
            "grid_template_areas": null,
            "object_position": null,
            "object_fit": null,
            "grid_auto_columns": null,
            "margin": null,
            "display": null,
            "left": null
          }
        }
      }
    }
  },
  "cells": [
    {
      "cell_type": "markdown",
      "metadata": {
        "id": "view-in-github",
        "colab_type": "text"
      },
      "source": [
        "<a href=\"https://colab.research.google.com/github/hookskl/nlp_w_pytorch/blob/main/nlp_w_pytorch_cnn_surnames.ipynb\" target=\"_parent\"><img src=\"https://colab.research.google.com/assets/colab-badge.svg\" alt=\"Open In Colab\"/></a>"
      ]
    },
    {
      "cell_type": "code",
      "metadata": {
        "colab": {
          "base_uri": "https://localhost:8080/"
        },
        "id": "vpfmn6cgTeKu",
        "outputId": "93cd7b89-ea05-4b8d-dc28-bf4226ad2141"
      },
      "source": [
        "%%shell\r\n",
        "\r\n",
        "# get python file shell script\r\n",
        "curl -o download.py https://raw.githubusercontent.com/hookskl/PyTorchNLPBook/master/data/download.py\r\n",
        "#! /bin/bash\r\n",
        "\r\n",
        "# For each file, add a download.py line\r\n",
        "# Any additional processing on the downloaded file\r\n",
        "\r\n",
        "HERE=\"$( cd \"$( dirname \"${BASH_SOURCE[0]}\" )\" && pwd )\"\r\n",
        "\r\n",
        "# Surnames Dataset\r\n",
        "mkdir -p $HERE/surnames\r\n",
        "if [ ! -f $HERE/surnames/surnames_with_splits.csv ]; then\r\n",
        "    python download.py 1T1la2tYO1O7XkMRawG8VcFcvtjbxDqU- $HERE/surnames/surnames_with_splits.csv # 8\r\n",
        "fi"
      ],
      "execution_count": 1,
      "outputs": [
        {
          "output_type": "stream",
          "text": [
            "  % Total    % Received % Xferd  Average Speed   Time    Time     Time  Current\n",
            "                                 Dload  Upload   Total   Spent    Left  Speed\n",
            "\r  0     0    0     0    0     0      0      0 --:--:-- --:--:-- --:--:--     0\r100  1572  100  1572    0     0  16206      0 --:--:-- --:--:-- --:--:-- 16206\n"
          ],
          "name": "stdout"
        },
        {
          "output_type": "execute_result",
          "data": {
            "text/plain": [
              ""
            ]
          },
          "metadata": {
            "tags": []
          },
          "execution_count": 1
        }
      ]
    },
    {
      "cell_type": "markdown",
      "metadata": {
        "id": "HTEWFj_WUEB1"
      },
      "source": [
        "## Imports"
      ]
    },
    {
      "cell_type": "code",
      "metadata": {
        "id": "TONJjBtEUBvf"
      },
      "source": [
        "from argparse import Namespace\r\n",
        "from collections import Counter\r\n",
        "import json\r\n",
        "import os\r\n",
        "import string\r\n",
        "\r\n",
        "import numpy as np\r\n",
        "import pandas as pd\r\n",
        "import matplotlib.pyplot as plt\r\n",
        "import torch\r\n",
        "import torch.nn as nn\r\n",
        "import torch.nn.functional as F\r\n",
        "import torch.optim as optim\r\n",
        "from torch.utils.data import Dataset, DataLoader\r\n",
        "from tqdm import tqdm_notebook"
      ],
      "execution_count": 17,
      "outputs": []
    },
    {
      "cell_type": "markdown",
      "metadata": {
        "id": "T-fhyUQFUJa4"
      },
      "source": [
        "## Vocabulary"
      ]
    },
    {
      "cell_type": "code",
      "metadata": {
        "id": "mI7iqivOUQDB"
      },
      "source": [
        "class Vocabulary(object):\r\n",
        "    \"\"\"Class to process text and extract vocabulary for mapping\"\"\"\r\n",
        "\r\n",
        "    def __init__(self, token_to_idx=None, add_unk=True, unk_token=\"<UNK>\"):\r\n",
        "        \"\"\"\r\n",
        "        Args:\r\n",
        "            token_to_idx (dict): a pre-existing map of tokens to indices\r\n",
        "            add_unk (bool): a flag that indicates whether to add the UNK token\r\n",
        "            unk_token (str): the UNK token to add into the Vocabulary\r\n",
        "        \"\"\"\r\n",
        "\r\n",
        "        if token_to_idx is None:\r\n",
        "            token_to_idx = {}\r\n",
        "        self._token_to_idx = token_to_idx\r\n",
        "\r\n",
        "        self._idx_to_token = {idx: token\r\n",
        "                              for token, idx in self._token_to_idx.items()}\r\n",
        "\r\n",
        "        self._add_unk = add_unk\r\n",
        "        self._unk_token = unk_token\r\n",
        "\r\n",
        "        self.unk_index = -1\r\n",
        "        if add_unk:\r\n",
        "            self.unk_index = self.add_token(unk_token)\r\n",
        "\r\n",
        "    def to_serializable(self):\r\n",
        "        \"\"\"returns a dictionary that can be serialized\"\"\"\r\n",
        "        return {'token_to_idx': self._token_to_idx,\r\n",
        "                'add_unk': self._add_unk,\r\n",
        "                'unk_token': self._unk_token}\r\n",
        "\r\n",
        "    @classmethod\r\n",
        "    def from_serializable(cls, contents):\r\n",
        "        \"\"\"instantiates the Vocabulary from a serialized dictionary\"\"\"\r\n",
        "        return cls(**contents)\r\n",
        "\r\n",
        "    def add_token(self, token):\r\n",
        "        \"\"\"Update mapping dicts based on the token.\r\n",
        "\r\n",
        "        Args:\r\n",
        "            token (str): the item to add into the Vocabulary\r\n",
        "        Returns:\r\n",
        "            index (int): the integer corresponding to the token\r\n",
        "        \"\"\"\r\n",
        "        try:\r\n",
        "            index = self._token_to_idx[token]\r\n",
        "        except KeyError:\r\n",
        "            index = len(self._token_to_idx)\r\n",
        "            self._token_to_idx[token] = index \r\n",
        "            self._idx_to_token[index] = token\r\n",
        "        return index \r\n",
        "\r\n",
        "    def add_many(self, tokens):\r\n",
        "        \"\"\"Add a list of tokens into the Vocabulary\r\n",
        "\r\n",
        "        Args:\r\n",
        "            tokens (list): a list of string tokens\r\n",
        "        Returns:\r\n",
        "            indices (list): a list of indices corresponding to the tokens\r\n",
        "        \"\"\"\r\n",
        "        return [self.add_token(token) for token in tokens]\r\n",
        "\r\n",
        "    def lookup_token(self, token):\r\n",
        "        \"\"\"Retrieve the index associated with the token\r\n",
        "          or the UNK the index if token isn't present.\r\n",
        "\r\n",
        "        Args:\r\n",
        "            token (str): the token to look up \r\n",
        "        Returns:\r\n",
        "            index (int): the index corresponding to the token\r\n",
        "        Notes:\r\n",
        "            `unk_index` needs to be >=0 (having been added into the Vocabulary)\r\n",
        "              for the UNK functionality\r\n",
        "        \"\"\"\r\n",
        "        if self.unk_index >= 0:\r\n",
        "            return self._token_to_idx.get(token, self.unk_index)\r\n",
        "        else:\r\n",
        "            return self._token_to_idx[token]\r\n",
        "\r\n",
        "    def lookup_index(self, index):\r\n",
        "        \"\"\"Return the token associated with the index\r\n",
        "\r\n",
        "        Args:\r\n",
        "            index (int): the index to look up\r\n",
        "        Returns:\r\n",
        "            token (str): the token corresponding to the index\r\n",
        "        Raises:\r\n",
        "            KeyError: if the index is not in the Vocabulary\r\n",
        "        \"\"\"\r\n",
        "        if index not in self._idx_to_token:\r\n",
        "            raise KeyError(\"the index (%d) is not in the Vocabulary\" % index)\r\n",
        "        return self._idx_to_token[index]\r\n",
        "\r\n",
        "    def __str__(self):\r\n",
        "        return \"<Vocabulary(size=%d)>\" % len(self)\r\n",
        "\r\n",
        "    def __len__(self):\r\n",
        "        return len(self._token_to_idx)"
      ],
      "execution_count": 3,
      "outputs": []
    },
    {
      "cell_type": "markdown",
      "metadata": {
        "id": "IJqV70yHUS28"
      },
      "source": [
        "## Vectorizer"
      ]
    },
    {
      "cell_type": "code",
      "metadata": {
        "id": "dg5qJ8Q2UUs2"
      },
      "source": [
        "class SurnameVectorizer(object):\r\n",
        "    \"\"\"The Vectorizer which coordinates the Vocabularies and puts them to use\"\"\"\r\n",
        "    def __init__(self, surname_vocab, nationality_vocab, max_surname_length):\r\n",
        "        \"\"\"\r\n",
        "        Args:\r\n",
        "            surname_vocab (Vocabulary): maps characters to integers\r\n",
        "            nationality_vocab (Vocabulary): maps nationalities to integers\r\n",
        "            max_surname_length (int): the length of the longest surname\r\n",
        "        \"\"\"\r\n",
        "        self.surname_vocab = surname_vocab\r\n",
        "        self.nationality_vocab = nationality_vocab\r\n",
        "        self._max_surname_length = max_surname_length\r\n",
        "\r\n",
        "    def vectorize(self, surname):\r\n",
        "        \"\"\"\r\n",
        "        Args:\r\n",
        "            surname (str): the surname\r\n",
        "        Returns:\r\n",
        "            one_hot_matrix (np.ndarray): a matrix of one-hot vectors\r\n",
        "        \"\"\"\r\n",
        "\r\n",
        "        one_hot_matrix_size = (len(self.surname_vocab), self._max_surname_length)\r\n",
        "        one_hot_matrix = np.zeros(one_hot_matrix_size, dtype=np.float32)\r\n",
        "\r\n",
        "        for position_index, character in enumerate(surname):\r\n",
        "            character_index = self.surname_vocab.lookup_token(character)\r\n",
        "            one_hot_matrix[character_index][position_index] = 1\r\n",
        "\r\n",
        "        return one_hot_matrix\r\n",
        "\r\n",
        "    @classmethod \r\n",
        "    def from_dataframe(cls, surname_df):\r\n",
        "        \"\"\"Instantiate the vectorizer from the dataset dataframe\r\n",
        "\r\n",
        "        Args:\r\n",
        "            surname_df (pandas.DataFrame): the surnames dataset\r\n",
        "        Returns:\r\n",
        "            an instance of the SurnameVectorizer\r\n",
        "        \"\"\"\r\n",
        "        surname_vocab = Vocabulary(unk_token=\"@\")\r\n",
        "        nationality_vocab = Vocabulary(add_unk=False)\r\n",
        "        max_surname_length = 0\r\n",
        "\r\n",
        "        for index, row in surname_df.iterrows():\r\n",
        "            max_surname_length = max(max_surname_length, len(row.surname))\r\n",
        "            for letter in row.surname:\r\n",
        "                surname_vocab.add_token(letter)\r\n",
        "            nationality_vocab.add_token(row.nationality)\r\n",
        "\r\n",
        "        return cls(surname_vocab, nationality_vocab, max_surname_length)\r\n",
        "\r\n",
        "    @classmethod \r\n",
        "    def from_serializable(cls, contents):\r\n",
        "        surname_vocab = Vocabulary.from_serializable(contents['surname_vocab'])\r\n",
        "        nationality_vocab = Vocabulary.from_serializable(contents['nationality_vocab'])\r\n",
        "        return cls(surname_vocab=surname_vocab, nationality_vocab=nationality_vocab, \r\n",
        "                   max_surname_length=contents['max_surname_length'])\r\n",
        "        \r\n",
        "    def to_serializable(self):\r\n",
        "        return {'surname_vocab': self.surname_vocab.to_serializable(),\r\n",
        "                'nationality_vocab': self.nationality_vocab.to_serializable(),\r\n",
        "                'max_surname_length': self._max_surname_length}"
      ],
      "execution_count": 4,
      "outputs": []
    },
    {
      "cell_type": "markdown",
      "metadata": {
        "id": "y1xFke06UVUk"
      },
      "source": [
        "## SurnameDataset"
      ]
    },
    {
      "cell_type": "code",
      "metadata": {
        "id": "mByEhZ_VUXRL"
      },
      "source": [
        "class SurnameDataset(Dataset):\r\n",
        "    def __init__(self, surname_df, vectorizer):\r\n",
        "        \"\"\"\r\n",
        "        Args:\r\n",
        "            surname_df: (pandas.DataFrame): the dataset\r\n",
        "            vectorizer (SurnameVectorizer): vectorizer instantiated from dataset\r\n",
        "        \"\"\"\r\n",
        "        self.surname_df = surname_df\r\n",
        "        self._vectorizer = vectorizer\r\n",
        "\r\n",
        "        self.train_df = self.surname_df[self.surname_df.split=='train']\r\n",
        "        self.train_size = len(self.train_df)\r\n",
        "\r\n",
        "        self.val_df = self.surname_df[self.surname_df.split=='val']\r\n",
        "        self.validation_size = len(self.val_df)\r\n",
        "\r\n",
        "        self.test_df = self.surname_df[self.surname_df.split=='test']\r\n",
        "        self.test_size = len(self.test_df)\r\n",
        "\r\n",
        "        self._lookup_dict = {'train': (self.train_df, self.train_size),\r\n",
        "                             'val': (self.val_df, self.validation_size),\r\n",
        "                             'test': (self.test_df, self.test_size)}\r\n",
        "\r\n",
        "        self.set_split('train')\r\n",
        "\r\n",
        "        # Class weights\r\n",
        "        class_counts = surname_df.nationality.value_counts().to_dict()\r\n",
        "        def sort_key(item):\r\n",
        "            return self._vectorizer.nationality_vocab.lookup_token(item[0])\r\n",
        "        sorted_counts = sorted(class_counts.items(), key=sort_key)\r\n",
        "        frequencies = [count for _, count in sorted_counts]\r\n",
        "        self.class_weights = 1.0 / torch.tensor(frequencies, dtype=torch.float32)\r\n",
        "\r\n",
        "    @classmethod\r\n",
        "    def load_dataset_and_make_vectorizer(cls, surname_csv):\r\n",
        "        \"\"\"Load dataset and make a new vectorizer from scratch\r\n",
        "\r\n",
        "        Args:\r\n",
        "            surname_csv (str): location of the dataset\r\n",
        "        Returns:\r\n",
        "            an instance of SurnameDataset\r\n",
        "        \"\"\"\r\n",
        "        surname_df = pd.read_csv(surname_csv)\r\n",
        "        train_surname_df = surname_df[surname_df.split=='train']\r\n",
        "        return cls(surname_df, SurnameVectorizer.from_dataframe(train_surname_df))\r\n",
        "\r\n",
        "    @classmethod\r\n",
        "    def load_dataset_and_load_vectorizer(cls, surname_csv, vectorizer_filepath):\r\n",
        "        \"\"\"Load dataset and the corresponding vectorizer.\r\n",
        "        Used in the case in the vectorizer has been cached for re-use\r\n",
        "\r\n",
        "        Args:\r\n",
        "            surname_csv (str): location of the dataset\r\n",
        "            vectorizer_filepath (str): location of the saved vectorizer\r\n",
        "        Returns:\r\n",
        "            an instance of SurnameDataset\r\n",
        "        \"\"\"\r\n",
        "        surname_df = pd.read_csv(surname_csv)\r\n",
        "        vectorizer = cls.load_vectorizer_only(vectorizer_filepath)\r\n",
        "        return cls(surname_df, vectorizer)\r\n",
        "\r\n",
        "    @staticmethod\r\n",
        "    def load_vectorizer_only(vectorizer_filepath):\r\n",
        "        \"\"\"a static method for loading the vectorizer from file\r\n",
        "\r\n",
        "        Args:\r\n",
        "            vectorizer_filepath (str): the location the serialized vectorizer\r\n",
        "        Returns:\r\n",
        "            an instance of the SurnameDataset\r\n",
        "        \"\"\"\r\n",
        "        with open(vectorizer_filepath) as fp:\r\n",
        "            return SurnameVectorizer.from_serializable(json.load(fp))\r\n",
        "\r\n",
        "    def save_vectorizer(self, vectorizer_filepath):\r\n",
        "        \"\"\"saves the vectorizer to disk using json\r\n",
        "\r\n",
        "        Args:\r\n",
        "            vectorizer_filepath (str): the location to save the vectorizer\r\n",
        "        \"\"\"\r\n",
        "        with open(vectorizer_filepath, \"w\") as fp:\r\n",
        "            json.dump(self._vectorizer.to_serializable(), fp)\r\n",
        "\r\n",
        "    def get_vectorizer(self):\r\n",
        "        \"\"\"returns the vectorizer\"\"\"\r\n",
        "        return self._vectorizer \r\n",
        "\r\n",
        "    def set_split(self, split=\"train\"):\r\n",
        "        \"\"\"selects the splits in the dataset using the column in the dataframe\"\"\"\r\n",
        "        self._target_split = split\r\n",
        "        self._target_df, self._target_size = self._lookup_dict[split]\r\n",
        "\r\n",
        "    def __len__(self):\r\n",
        "        return self._target_size \r\n",
        "    \r\n",
        "    def __getitem__(self, index):\r\n",
        "        \"\"\"the primary entry point method for PyTorch datasets\r\n",
        "\r\n",
        "        Args:\r\n",
        "            index (int): the index to the data point\r\n",
        "        Returns:\r\n",
        "            a dictionary holding the data point's features (x_data) and label (y_target)\r\n",
        "        \"\"\"\r\n",
        "        row = self._target_df.iloc[index]\r\n",
        "\r\n",
        "        surname_matrix = \\\r\n",
        "            self._vectorizer.vectorize(row.surname)\r\n",
        "\r\n",
        "        nationality_index = \\\r\n",
        "            self._vectorizer.nationality_vocab.lookup_token(row.nationality)\r\n",
        "\r\n",
        "        return {'x_surname': surname_matrix, \r\n",
        "                'y_nationality': nationality_index}\r\n",
        "\r\n",
        "    def get_num_batches(self, batch_size):\r\n",
        "        \"\"\"Given a batch size, return the number of batches in the dataset\r\n",
        "\r\n",
        "        Args:\r\n",
        "            batch_size (int)\r\n",
        "        Returns:\r\n",
        "            number of batches in the dataset\r\n",
        "        \"\"\"\r\n",
        "        return len(self) // batch_size \r\n",
        "      \r\n",
        "\r\n",
        "\r\n",
        "\r\n"
      ],
      "execution_count": 5,
      "outputs": []
    },
    {
      "cell_type": "markdown",
      "metadata": {
        "id": "24wcligYUax5"
      },
      "source": [
        "## Batch Generator"
      ]
    },
    {
      "cell_type": "code",
      "metadata": {
        "id": "C5go6fv1Ucla"
      },
      "source": [
        "def generate_batches(dataset, batch_size, shuffle=True,\r\n",
        "                     drop_last=True, device=\"cpu\"):\r\n",
        "    \"\"\"\r\n",
        "    A generator function which wraps the PyTorch DataLoader. It will\r\n",
        "      ensure each tensor is on the right device location.\r\n",
        "    \"\"\"\r\n",
        "    dataloader = DataLoader(dataset=dataset, batch_size=batch_size,\r\n",
        "                            shuffle=shuffle, drop_last=drop_last)\r\n",
        "    \r\n",
        "    for data_dict in dataloader:\r\n",
        "        out_data_dict = {}\r\n",
        "        for name, tensor in data_dict.items():\r\n",
        "            out_data_dict[name] = data_dict[name].to(device)\r\n",
        "        yield out_data_dict"
      ],
      "execution_count": 6,
      "outputs": []
    },
    {
      "cell_type": "markdown",
      "metadata": {
        "id": "iHRz3pTVUdc0"
      },
      "source": [
        "## CNN"
      ]
    },
    {
      "cell_type": "code",
      "metadata": {
        "id": "HWuioITUUfFE"
      },
      "source": [
        "class SurnameClassifier(nn.Module):\r\n",
        "    def __init__(self, initial_num_channels, num_classes, num_channels, dropout_p):\r\n",
        "        \"\"\"\r\n",
        "        Args:\r\n",
        "            initial_num_channels (int): size of the incoming feature vector\r\n",
        "            num_classes (int): size of the output prediction vector\r\n",
        "            num_channels (int): constant channel size to use throughout network\r\n",
        "        \"\"\"\r\n",
        "        super(SurnameClassifier, self).__init__()\r\n",
        "\r\n",
        "        self.convnet = nn.Sequential(\r\n",
        "            nn.Conv1d(in_channels=initial_num_channels,\r\n",
        "                      out_channels=num_channels, kernel_size=3),\r\n",
        "            nn.ELU(),\r\n",
        "            nn.BatchNorm1d(num_features=num_channels),\r\n",
        "            nn.Conv1d(in_channels=num_channels, out_channels=num_channels,\r\n",
        "                      kernel_size=3, stride=2),\r\n",
        "            nn.ELU(),\r\n",
        "            nn.BatchNorm1d(num_features=num_channels),\r\n",
        "            nn.Conv1d(in_channels=num_channels, out_channels=num_channels,\r\n",
        "                      kernel_size=3, stride=2),\r\n",
        "            nn.ELU(),\r\n",
        "            nn.BatchNorm1d(num_features=num_channels),\r\n",
        "            nn.Conv1d(in_channels=num_channels, out_channels=num_channels,\r\n",
        "                      kernel_size=3),\r\n",
        "            nn.ELU(),\r\n",
        "            nn.BatchNorm1d(num_features=num_channels)\r\n",
        "        )\r\n",
        "        \r\n",
        "        self.fc1 = nn.Linear(num_channels, 128)\r\n",
        "        self.fc2 = nn.Linear(128, num_classes)\r\n",
        "\r\n",
        "        self.dropout = nn.Dropout(p=dropout_p)\r\n",
        "\r\n",
        "    def forward(self, x_surname, apply_softmax=False):\r\n",
        "        \"\"\"The forward pass of the classifier\r\n",
        "\r\n",
        "        Args:\r\n",
        "            x_surname (torch.Tensor): an input data tensor\r\n",
        "              x_surname.shape should be (batch, initial_num_channels, max_surname_length)\r\n",
        "            apply_softmax(bool): a flag for the softmax activation\r\n",
        "        Returns:\r\n",
        "            the resulting tensor.\r\n",
        "              tensor.shape should be (batch, num_classes)\r\n",
        "        \"\"\"\r\n",
        "        features = self.convnet(x_surname).squeeze(dim=2)\r\n",
        "        x = F.relu(self.fc1(features))\r\n",
        "        x = self.dropout(x)\r\n",
        "        prediction_vector  = self.fc2(x)\r\n",
        "\r\n",
        "        \r\n",
        "\r\n",
        "        if apply_softmax:\r\n",
        "            prediction_vector = F.softmax(prediction_vector, dim=1)\r\n",
        "\r\n",
        "        return prediction_vector"
      ],
      "execution_count": 7,
      "outputs": []
    },
    {
      "cell_type": "markdown",
      "metadata": {
        "id": "hrd34m7oUgWL"
      },
      "source": [
        "## Training"
      ]
    },
    {
      "cell_type": "markdown",
      "metadata": {
        "id": "IgJH7BOVVIYn"
      },
      "source": [
        "### Make Train State"
      ]
    },
    {
      "cell_type": "code",
      "metadata": {
        "id": "6lSbuO0cUg_P"
      },
      "source": [
        "def make_train_state(args):\r\n",
        "    return {'stop_early': False,\r\n",
        "            'early_stopping_step': 0,\r\n",
        "            'early_stopping_best_val': 1e8,\r\n",
        "            'learning_rate': args.learning_rate,\r\n",
        "            'epoch_index': 0,\r\n",
        "            'train_loss': [],\r\n",
        "            'train_acc': [],\r\n",
        "            'val_loss': [],\r\n",
        "            'val_acc': [],\r\n",
        "            'test_loss': -1,\r\n",
        "            'test_acc': -1,\r\n",
        "            'model_filename': args.model_state_file}"
      ],
      "execution_count": 8,
      "outputs": []
    },
    {
      "cell_type": "markdown",
      "metadata": {
        "id": "70u8mU8KVMU0"
      },
      "source": [
        "### Update Train State"
      ]
    },
    {
      "cell_type": "code",
      "metadata": {
        "id": "QwR1N98yVNow"
      },
      "source": [
        "def update_train_state(args, model, train_state):\r\n",
        "    \"\"\"Handle the training state updates.\r\n",
        "\r\n",
        "    Components:\r\n",
        "     - Early Stopping: Prevent overfitting.\r\n",
        "     - Model Checkpoint: Model is saved if the model is better\r\n",
        "\r\n",
        "    :param args: main arguments\r\n",
        "    :param model: model to train\r\n",
        "    :param train_state: a dictionary representing the training state values\r\n",
        "    :returns:\r\n",
        "        a new train_state\r\n",
        "    \"\"\"\r\n",
        "\r\n",
        "    # Save one model at least\r\n",
        "    if train_state['epoch_index'] == 0:\r\n",
        "        torch.save(model.state_dict(), train_state['model_filename'])\r\n",
        "        train_state['stop_early'] = False\r\n",
        "\r\n",
        "    # Save model if performance improved\r\n",
        "    elif train_state['epoch_index'] >= 1:\r\n",
        "        loss_tm1, loss_t = train_state['val_loss'][-2:]\r\n",
        "\r\n",
        "        # If loss worsened\r\n",
        "        if loss_t >= train_state['early_stopping_best_val']:\r\n",
        "            # Update step\r\n",
        "            train_state['early_stopping_step'] += 1\r\n",
        "        # Loss decreased\r\n",
        "        else:\r\n",
        "            # Save the best model\r\n",
        "            if loss_t < train_state['early_stopping_best_val']:\r\n",
        "                torch.save(model.state_dict(), train_state['model_filename'])\r\n",
        "\r\n",
        "            # Reset early stopping step\r\n",
        "            train_state['early_stopping_step'] = 0\r\n",
        "\r\n",
        "        # Stop early ?\r\n",
        "        train_state['stop_early'] = \\\r\n",
        "            train_state['early_stopping_step'] >= args.early_stopping_criteria\r\n",
        "\r\n",
        "    return train_state"
      ],
      "execution_count": 9,
      "outputs": []
    },
    {
      "cell_type": "markdown",
      "metadata": {
        "id": "kZyEoK8qVP92"
      },
      "source": [
        "### Compute Accuracy"
      ]
    },
    {
      "cell_type": "code",
      "metadata": {
        "id": "5z65fay7VRvk"
      },
      "source": [
        "def compute_accuracy(y_pred, y_target):\r\n",
        "    y_pred_indices = y_pred.max(dim=1)[1]\r\n",
        "    n_correct = torch.eq(y_pred_indices, y_target).sum().item()\r\n",
        "    return n_correct / len(y_pred_indices) * 100"
      ],
      "execution_count": 10,
      "outputs": []
    },
    {
      "cell_type": "markdown",
      "metadata": {
        "id": "cVxTYQelVSm3"
      },
      "source": [
        "### Define args"
      ]
    },
    {
      "cell_type": "code",
      "metadata": {
        "colab": {
          "base_uri": "https://localhost:8080/"
        },
        "id": "OrRukx5pVUjD",
        "outputId": "eed18e1c-eba2-4ed1-9600-0fbe45fd9751"
      },
      "source": [
        "args = Namespace(\r\n",
        "    # Data and Path information\r\n",
        "    surname_csv=\"surnames/surnames_with_splits.csv\",\r\n",
        "    vectorizer_file=\"vectorizer.json\",\r\n",
        "    model_state_file=\"model.pth\",\r\n",
        "    save_dir=\"model_storage/ch4/cnn\",\r\n",
        "    # Model hyper parameters\r\n",
        "    hidden_dim=100,\r\n",
        "    num_channels=256,\r\n",
        "    # Training hyper parameters\r\n",
        "    seed=1337,\r\n",
        "    learning_rate=0.001,\r\n",
        "    batch_size=128,\r\n",
        "    num_epochs=25,\r\n",
        "    early_stopping_criteria=5,\r\n",
        "    dropout_p=0.3,\r\n",
        "    # Runtime options\r\n",
        "    cuda=True,\r\n",
        "    reload_from_files=False,\r\n",
        "    expand_filepaths_to_save_dir=True,\r\n",
        "    catch_keyboard_interrupt=True\r\n",
        ")\r\n",
        "\r\n",
        "\r\n",
        "if args.expand_filepaths_to_save_dir:\r\n",
        "    args.vectorizer_file = os.path.join(args.save_dir,\r\n",
        "                                        args.vectorizer_file)\r\n",
        "\r\n",
        "    args.model_state_file = os.path.join(args.save_dir,\r\n",
        "                                         args.model_state_file)\r\n",
        "    \r\n",
        "    print(\"Expanded filepaths: \")\r\n",
        "    print(\"\\t{}\".format(args.vectorizer_file))\r\n",
        "    print(\"\\t{}\".format(args.model_state_file))\r\n",
        "    \r\n",
        "# Check CUDA\r\n",
        "if not torch.cuda.is_available():\r\n",
        "    args.cuda = False\r\n",
        "\r\n",
        "args.device = torch.device(\"cuda\" if args.cuda else \"cpu\")\r\n",
        "print(\"Using CUDA: {}\".format(args.cuda))\r\n",
        "\r\n",
        "def set_seed_everywhere(seed, cuda):\r\n",
        "    np.random.seed(seed)\r\n",
        "    torch.manual_seed(seed)\r\n",
        "    if cuda:\r\n",
        "        torch.cuda.manual_seed_all(seed)\r\n",
        "        \r\n",
        "def handle_dirs(dirpath):\r\n",
        "    if not os.path.exists(dirpath):\r\n",
        "        os.makedirs(dirpath)\r\n",
        "        \r\n",
        "# Set seed for reproducibility\r\n",
        "set_seed_everywhere(args.seed, args.cuda)\r\n",
        "\r\n",
        "# handle dirs\r\n",
        "handle_dirs(args.save_dir)"
      ],
      "execution_count": 11,
      "outputs": [
        {
          "output_type": "stream",
          "text": [
            "Expanded filepaths: \n",
            "\tmodel_storage/ch4/cnn/vectorizer.json\n",
            "\tmodel_storage/ch4/cnn/model.pth\n",
            "Using CUDA: True\n"
          ],
          "name": "stdout"
        }
      ]
    },
    {
      "cell_type": "markdown",
      "metadata": {
        "id": "WWn7o9DgYYzY"
      },
      "source": [
        "### Instantiations"
      ]
    },
    {
      "cell_type": "code",
      "metadata": {
        "id": "pwcG4KeKFAHF"
      },
      "source": [
        "if args.reload_from_files:\r\n",
        "    # training from a checkpoint\r\n",
        "    dataset = SurnameDataset.load_dataset_and_load_vectorizer(args.surname_csv,\r\n",
        "                                                              args.vectorizer_file)\r\n",
        "else:\r\n",
        "    # create dataset and vectorizer\r\n",
        "    dataset = SurnameDataset.load_dataset_and_make_vectorizer(args.surname_csv)\r\n",
        "    dataset.save_vectorizer(args.vectorizer_file)\r\n",
        "\r\n",
        "vectorizer = dataset.get_vectorizer()\r\n",
        "\r\n",
        "classifier = SurnameClassifier(initial_num_channels=len(vectorizer.surname_vocab),\r\n",
        "                               num_classes=len(vectorizer.nationality_vocab),\r\n",
        "                               num_channels=args.num_channels,\r\n",
        "                               dropout_p=args.dropout_p)\r\n",
        "\r\n",
        "classifier = classifier.to(args.device)\r\n",
        "dataset.class_weights = dataset.class_weights.to(args.device)\r\n",
        "\r\n",
        "loss_func = nn.CrossEntropyLoss(weight=dataset.class_weights)\r\n",
        "optimizer = optim.Adam(classifier.parameters(), lr=args.learning_rate)\r\n",
        "scheduler = optim.lr_scheduler.ReduceLROnPlateau(optimizer=optimizer,\r\n",
        "                                                 mode='min', factor=0.5,\r\n",
        "                                                 patience=1)\r\n",
        "\r\n",
        "train_state = make_train_state(args)"
      ],
      "execution_count": 12,
      "outputs": []
    },
    {
      "cell_type": "markdown",
      "metadata": {
        "id": "WuXXAOnuYftr"
      },
      "source": [
        "### Training Loop"
      ]
    },
    {
      "cell_type": "code",
      "metadata": {
        "colab": {
          "base_uri": "https://localhost:8080/",
          "height": 266,
          "referenced_widgets": [
            "25d3c6b1646b4787974930817a6c4c9b",
            "32819e69f9bd49fd8e2ae430606df21e",
            "3d8f646ca8e645a1afd7318018c4e939",
            "08a123d1f366402483d88eacf7e280d0",
            "e905c42da2dc4701923e059c5df59085",
            "c1add863937e45b797154f55add9d232",
            "220d353223d240c58bf5a97ccf153f6b",
            "dc5bb8767dfe420d9389b9c418f1853d",
            "0cc9ff366e01404e9de049bc4d1410f6",
            "078eae0fb08741f6b96659c3167ec23c",
            "df6dd9a615ff48bc97a1e3574ccf098f",
            "7a874590f84d4cc49f6ad05e78c9a4ca",
            "a0bd78ef94db470481ef20e4ccde3a31",
            "57059d8fe9fb4079a3e79ac6a094e174",
            "d0e678c8aac140b19b70eef11eb2de6b",
            "85acca65a702413ca4049bd1888c4114",
            "a2828981155a4969ac659f5d971ec52e",
            "0da9f3124d3e4233a4f17bc2344fc15a",
            "8b1eb49b5c0845d6b34464fa2afcd836",
            "f9e89647ee9443178c35286c024d955a",
            "2327e66d525e49a18c3aa61a7cae37a4",
            "89fd1961e6e347ef827647cef4ab854e",
            "2e67555631ab438d803acda346689489",
            "f374a254291c4341840664117e197232"
          ]
        },
        "id": "OfrhBuk_Yg3Q",
        "outputId": "1f6539d9-f414-4524-d67a-db45efd5e3bf"
      },
      "source": [
        "# progress bars for training and validation sets\r\n",
        "epoch_bar = tqdm_notebook(desc='training routine', \r\n",
        "                          total=args.num_epochs,\r\n",
        "                          position=0)\r\n",
        "\r\n",
        "dataset.set_split('train')\r\n",
        "train_bar = tqdm_notebook(desc='split=train',\r\n",
        "                          total=dataset.get_num_batches(args.batch_size), \r\n",
        "                          position=1, \r\n",
        "                          leave=True)\r\n",
        "dataset.set_split('val')\r\n",
        "val_bar = tqdm_notebook(desc='split=val',\r\n",
        "                        total=dataset.get_num_batches(args.batch_size), \r\n",
        "                        position=1, \r\n",
        "                        leave=True)\r\n",
        "\r\n",
        "try:\r\n",
        "    for epoch_index in range(args.num_epochs):\r\n",
        "        train_state['epoch_index'] = epoch_index \r\n",
        "\r\n",
        "        # Iterate over training dataset\r\n",
        "\r\n",
        "        # setup: batch generator, set loss and acc to 0.0, set train mode on\r\n",
        "\r\n",
        "        dataset.set_split('train')\r\n",
        "        batch_generator = generate_batches(dataset,\r\n",
        "                                           batch_size=args.batch_size,\r\n",
        "                                           device=args.device)\r\n",
        "        \r\n",
        "        running_loss = 0.0\r\n",
        "        running_acc = 0.0\r\n",
        "        classifier.train()\r\n",
        "\r\n",
        "        for batch_index, batch_dict in enumerate(batch_generator):\r\n",
        "            # the training routine \r\n",
        "\r\n",
        "            # ---------------------------------------\r\n",
        "            # step 1. zero the gradients\r\n",
        "            optimizer.zero_grad()\r\n",
        "\r\n",
        "            # step 2. compute the output\r\n",
        "            y_pred = classifier(batch_dict['x_surname'])\r\n",
        "\r\n",
        "            # step 3. compute the loss\r\n",
        "            loss = loss_func(y_pred, batch_dict['y_nationality'])\r\n",
        "            loss_t = loss.item()\r\n",
        "            running_loss += (loss_t - running_loss) / (batch_index + 1)\r\n",
        "\r\n",
        "            # step 4. use loss to produce gradients\r\n",
        "            loss.backward()\r\n",
        "\r\n",
        "            # step 5. use optimizer to update model weights\r\n",
        "            optimizer.step()\r\n",
        "            # ---------------------------------------\r\n",
        "            # compute the accuracy\r\n",
        "            acc_t = compute_accuracy(y_pred, batch_dict['y_nationality'])\r\n",
        "            running_acc += (acc_t - running_acc) / (batch_index + 1)\r\n",
        "\r\n",
        "            # update bar\r\n",
        "            train_bar.set_postfix(loss=running_loss, acc=running_acc,\r\n",
        "                                  epoch=epoch_index)\r\n",
        "            train_bar.update()\r\n",
        "\r\n",
        "        train_state['train_loss'].append(running_loss)\r\n",
        "        train_state['train_acc'].append(running_acc)\r\n",
        "\r\n",
        "        # Iterate over val dataset\r\n",
        "\r\n",
        "        # setup: batch generator, set loss and acc to 0.0, set eval mode on\r\n",
        "        dataset.set_split('val')\r\n",
        "        batch_generator = generate_batches(dataset,\r\n",
        "                                           batch_size=args.batch_size,\r\n",
        "                                           device=args.device)\r\n",
        "        \r\n",
        "        running_loss = 0.0\r\n",
        "        running_acc = 0.0\r\n",
        "        classifier.eval()\r\n",
        "\r\n",
        "        for batch_index, batch_dict in enumerate(batch_generator):\r\n",
        "\r\n",
        "            # compute the output\r\n",
        "            y_pred = classifier(batch_dict['x_surname'])\r\n",
        "\r\n",
        "            # compute the loss\r\n",
        "            loss = loss_func(y_pred, batch_dict['y_nationality'])\r\n",
        "            loss_t = loss.item()\r\n",
        "            running_loss += (loss_t - running_loss) / (batch_index + 1)\r\n",
        "\r\n",
        "            # compute the accuracy\r\n",
        "            acc_t = compute_accuracy(y_pred, batch_dict['y_nationality'])\r\n",
        "            running_acc += (acc_t - running_acc) / (batch_index + 1)\r\n",
        "            val_bar.set_postfix(loss=running_loss, acc=running_acc,\r\n",
        "                                epoch=epoch_index)\r\n",
        "            val_bar.update()\r\n",
        "\r\n",
        "        train_state['val_loss'].append(running_loss)\r\n",
        "        train_state['val_acc'].append(running_acc)\r\n",
        "\r\n",
        "        train_state = update_train_state(args=args, model=classifier,\r\n",
        "                                         train_state=train_state)\r\n",
        "        scheduler.step(train_state['val_loss'][-1])\r\n",
        "\r\n",
        "        if train_state['stop_early']:\r\n",
        "            break\r\n",
        "\r\n",
        "        train_bar.n = 0\r\n",
        "        val_bar.n = 0\r\n",
        "        epoch_bar.update()\r\n",
        "except KeyboardInterrupt:\r\n",
        "    print(\"Exiting loop\")\r\n"
      ],
      "execution_count": 13,
      "outputs": [
        {
          "output_type": "stream",
          "text": [
            "/usr/local/lib/python3.6/dist-packages/ipykernel_launcher.py:4: TqdmDeprecationWarning: This function will be removed in tqdm==5.0.0\n",
            "Please use `tqdm.notebook.tqdm` instead of `tqdm.tqdm_notebook`\n",
            "  after removing the cwd from sys.path.\n"
          ],
          "name": "stderr"
        },
        {
          "output_type": "display_data",
          "data": {
            "application/vnd.jupyter.widget-view+json": {
              "model_id": "25d3c6b1646b4787974930817a6c4c9b",
              "version_minor": 0,
              "version_major": 2
            },
            "text/plain": [
              "HBox(children=(FloatProgress(value=0.0, description='training routine', max=25.0, style=ProgressStyle(descript…"
            ]
          },
          "metadata": {
            "tags": []
          }
        },
        {
          "output_type": "stream",
          "text": [
            "/usr/local/lib/python3.6/dist-packages/ipykernel_launcher.py:10: TqdmDeprecationWarning: This function will be removed in tqdm==5.0.0\n",
            "Please use `tqdm.notebook.tqdm` instead of `tqdm.tqdm_notebook`\n",
            "  # Remove the CWD from sys.path while we load stuff.\n"
          ],
          "name": "stderr"
        },
        {
          "output_type": "display_data",
          "data": {
            "application/vnd.jupyter.widget-view+json": {
              "model_id": "0cc9ff366e01404e9de049bc4d1410f6",
              "version_minor": 0,
              "version_major": 2
            },
            "text/plain": [
              "HBox(children=(FloatProgress(value=0.0, description='split=train', max=60.0, style=ProgressStyle(description_w…"
            ]
          },
          "metadata": {
            "tags": []
          }
        },
        {
          "output_type": "stream",
          "text": [
            "/usr/local/lib/python3.6/dist-packages/ipykernel_launcher.py:15: TqdmDeprecationWarning: This function will be removed in tqdm==5.0.0\n",
            "Please use `tqdm.notebook.tqdm` instead of `tqdm.tqdm_notebook`\n",
            "  from ipykernel import kernelapp as app\n"
          ],
          "name": "stderr"
        },
        {
          "output_type": "display_data",
          "data": {
            "application/vnd.jupyter.widget-view+json": {
              "model_id": "a2828981155a4969ac659f5d971ec52e",
              "version_minor": 0,
              "version_major": 2
            },
            "text/plain": [
              "HBox(children=(FloatProgress(value=0.0, description='split=val', max=12.0, style=ProgressStyle(description_wid…"
            ]
          },
          "metadata": {
            "tags": []
          }
        }
      ]
    },
    {
      "cell_type": "markdown",
      "metadata": {
        "id": "ubbOo7DpYiXP"
      },
      "source": [
        "### Testing"
      ]
    },
    {
      "cell_type": "code",
      "metadata": {
        "id": "H4VJVKZSYkad"
      },
      "source": [
        "classifier.load_state_dict(torch.load(train_state['model_filename']))\r\n",
        "\r\n",
        "classifier = classifier.to(args.device)\r\n",
        "dataset.class_weights = dataset.class_weights.to(args.device)\r\n",
        "loss_func = nn.CrossEntropyLoss(dataset.class_weights)\r\n",
        "\r\n",
        "dataset.set_split('test')\r\n",
        "batch_generator = generate_batches(dataset, \r\n",
        "                                   batch_size=args.batch_size, \r\n",
        "                                   device=args.device)\r\n",
        "running_loss = 0.\r\n",
        "running_acc = 0.\r\n",
        "classifier.eval()\r\n",
        "\r\n",
        "for batch_index, batch_dict in enumerate(batch_generator):\r\n",
        "    # compute the output\r\n",
        "    y_pred =  classifier(batch_dict['x_surname'])\r\n",
        "    \r\n",
        "    # compute the loss\r\n",
        "    loss = loss_func(y_pred, batch_dict['y_nationality'])\r\n",
        "    loss_t = loss.item()\r\n",
        "    running_loss += (loss_t - running_loss) / (batch_index + 1)\r\n",
        "\r\n",
        "    # compute the accuracy\r\n",
        "    acc_t = compute_accuracy(y_pred, batch_dict['y_nationality'])\r\n",
        "    running_acc += (acc_t - running_acc) / (batch_index + 1)\r\n",
        "\r\n",
        "train_state['test_loss'] = running_loss\r\n",
        "train_state['test_acc'] = running_acc"
      ],
      "execution_count": 14,
      "outputs": []
    },
    {
      "cell_type": "code",
      "metadata": {
        "colab": {
          "base_uri": "https://localhost:8080/"
        },
        "id": "QSaIGJTrOgrb",
        "outputId": "12cb5c21-d62f-486b-d2cb-1724c25d3cee"
      },
      "source": [
        "print(\"Test loss: {};\".format(train_state['test_loss']))\r\n",
        "print(\"Test Accuracy: {}\".format(train_state['test_acc']))"
      ],
      "execution_count": 15,
      "outputs": [
        {
          "output_type": "stream",
          "text": [
            "Test loss: 1.8188279271125793;\n",
            "Test Accuracy: 68.81510416666667\n"
          ],
          "name": "stdout"
        }
      ]
    },
    {
      "cell_type": "code",
      "metadata": {
        "id": "_uTPKqQmdqsH",
        "outputId": "cc2b0786-4103-4f0d-b1a0-815e59e85cbc",
        "colab": {
          "base_uri": "https://localhost:8080/",
          "height": 279
        }
      },
      "source": [
        "x = [epoch + 1 for epoch in range(args.num_epochs)]\r\n",
        "loss_train = train_state['train_loss']\r\n",
        "loss_val = train_state['val_loss']\r\n",
        "\r\n",
        "plt.plot(x, loss_train, label='train')\r\n",
        "plt.plot(x, loss_val, label='val')\r\n",
        "plt.xlabel('# of epochs')\r\n",
        "plt.ylabel('loss')\r\n",
        "plt.legend()\r\n",
        "plt.show()"
      ],
      "execution_count": 22,
      "outputs": [
        {
          "output_type": "display_data",
          "data": {
            "image/png": "[encoded data removed]",
            "text/plain": [
              "<Figure size 432x288 with 1 Axes>"
            ]
          },
          "metadata": {
            "tags": [],
            "needs_background": "light"
          }
        }
      ]
    },
    {
      "cell_type": "markdown",
      "metadata": {
        "id": "iwjDKwa_kOO2"
      },
      "source": [
        "## Inference"
      ]
    },
    {
      "cell_type": "markdown",
      "metadata": {
        "id": "1lb_z7UVkQCe"
      },
      "source": [
        "### Predict Nationality"
      ]
    },
    {
      "cell_type": "code",
      "metadata": {
        "id": "vpM7uNuckPYy"
      },
      "source": [
        ""
      ],
      "execution_count": 15,
      "outputs": []
    },
    {
      "cell_type": "markdown",
      "metadata": {
        "id": "g4_9U8qvkTE1"
      },
      "source": [
        "### Predict Top k Nationality"
      ]
    },
    {
      "cell_type": "code",
      "metadata": {
        "id": "dQMT3cpMkWgA"
      },
      "source": [
        ""
      ],
      "execution_count": 15,
      "outputs": []
    }
  ]
}
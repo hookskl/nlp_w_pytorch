{
  "nbformat": 4,
  "nbformat_minor": 0,
  "metadata": {
    "colab": {
      "name": "nlp_w_pytorch_ch4.ipynb",
      "provenance": [],
      "authorship_tag": "ABX9TyOLxFNKNGX/KkoAfyPHmfrA",
      "include_colab_link": true
    },
    "kernelspec": {
      "name": "python3",
      "display_name": "Python 3"
    }
  },
  "cells": [
    {
      "cell_type": "markdown",
      "metadata": {
        "id": "view-in-github",
        "colab_type": "text"
      },
      "source": [
        "<a href=\"https://colab.research.google.com/github/hookskl/nlp_w_pytorch/blob/main/nlp_w_pytorch_ch4.ipynb\" target=\"_parent\"><img src=\"https://colab.research.google.com/assets/colab-badge.svg\" alt=\"Open In Colab\"/></a>"
      ]
    },
    {
      "cell_type": "markdown",
      "metadata": {
        "id": "muYf8ZrPRzNz"
      },
      "source": [
        "# Feed-Forward Networks for Natural Language Processing"
      ]
    },
    {
      "cell_type": "markdown",
      "metadata": {
        "id": "k9QXwgFrR8aN"
      },
      "source": [
        "## The Multilayer Perceptron"
      ]
    },
    {
      "cell_type": "markdown",
      "metadata": {
        "id": "6_UQG-xgSDzJ"
      },
      "source": [
        "### A Simple Example: XOR"
      ]
    },
    {
      "cell_type": "markdown",
      "metadata": {
        "id": "xDoG2z6DSHos"
      },
      "source": [
        "### Implementing MLP's in PyTorch\r\n",
        "\r\n",
        "*Example 4-1. Multilayer perceptron using PyTorch*\r\n",
        "\r\n",
        "```\r\n",
        "```\r\n",
        "\r\n",
        "*Example 4-2. An example instantiation of an MLP*\r\n",
        "\r\n",
        "```\r\n",
        "```\r\n",
        "\r\n",
        "*Example 4-3. Testing the MLP with random inputs*\r\n",
        "\r\n",
        "```\r\n",
        "```\r\n",
        "\r\n",
        "*Example 4-4. Producing probabilistic outputs with a multilayer perceptron classifier (notice the `apply_softmax = True` option*\r\n",
        "\r\n",
        "```\r\n",
        "```"
      ]
    },
    {
      "cell_type": "markdown",
      "metadata": {
        "id": "2pbPspFfSrpP"
      },
      "source": [
        "## Example: Surname Classification with an MLP"
      ]
    },
    {
      "cell_type": "markdown",
      "metadata": {
        "id": "nwNFUf7YSxhf"
      },
      "source": [
        "### The Surnames Dataset\r\n",
        "\r\n",
        "*Example 4-5. Implementing `SurnameDataset.__getitem__()`*\r\n",
        "\r\n",
        "```\r\n",
        "```"
      ]
    },
    {
      "cell_type": "markdown",
      "metadata": {
        "id": "a3Cnep2GS_Qi"
      },
      "source": [
        "### Vocabulary, Vectorizer, and DataLoader"
      ]
    },
    {
      "cell_type": "markdown",
      "metadata": {
        "id": "jf-1T_rsTET7"
      },
      "source": [
        "#### The Vocabulary class"
      ]
    },
    {
      "cell_type": "markdown",
      "metadata": {
        "id": "ElkeJTilTKT5"
      },
      "source": [
        "#### The SurnameVectorizer\r\n",
        "\r\n",
        "*Example 4-6. Implementing `SurnameVectorizer`*\r\n",
        "\r\n",
        "```\r\n",
        "```"
      ]
    },
    {
      "cell_type": "markdown",
      "metadata": {
        "id": "pGe6jL3vTX--"
      },
      "source": [
        "### The SurnameClassifier Model\r\n",
        "\r\n",
        "*Example 4-7. The `SurnameClassifier` using an MLP*\r\n",
        "\r\n",
        "```\r\n",
        "```"
      ]
    },
    {
      "cell_type": "markdown",
      "metadata": {
        "id": "cGHEBHr7Ti8_"
      },
      "source": [
        "### The Training Routine\r\n",
        "\r\n",
        "*Example 4-8. Hyperparameters and program options for the MLP-based Yelp review classifier*\r\n",
        "\r\n",
        "```\r\n",
        "```\r\n",
        "\r\n",
        "*Example 4-9. Instantiating the dataset, model, loss, and optimizer*\r\n",
        "\r\n",
        "```\r\n",
        "```"
      ]
    },
    {
      "cell_type": "markdown",
      "metadata": {
        "id": "bl0K8kxUUGZ0"
      },
      "source": [
        "#### The training loop\r\n",
        "\r\n",
        "*Example 4-10. A snippet of the training loop*\r\n",
        "\r\n",
        "```\r\n",
        "```"
      ]
    },
    {
      "cell_type": "markdown",
      "metadata": {
        "id": "FQR8JzgjUNZb"
      },
      "source": [
        "### Model Evaluation and Prediction"
      ]
    },
    {
      "cell_type": "markdown",
      "metadata": {
        "id": "nKk_MLzmUP5W"
      },
      "source": [
        "#### Evaluating on the test dataset"
      ]
    },
    {
      "cell_type": "markdown",
      "metadata": {
        "id": "Yk5yDwNJUS8J"
      },
      "source": [
        "#### Classifying a new surname\r\n",
        "\r\n",
        "*Example 4-11. Inference using an existing model (classifier): Predicting the nationaility given a name*\r\n",
        "\r\n",
        "```\r\n",
        "```"
      ]
    },
    {
      "cell_type": "markdown",
      "metadata": {
        "id": "L_KO5YPdUf-z"
      },
      "source": [
        "#### Retrieving the top k predictions for a new surname\r\n",
        "\r\n",
        "*Example 4-12. Predicting the top-k nationalities*\r\n",
        "\r\n",
        "```\r\n",
        "```"
      ]
    },
    {
      "cell_type": "markdown",
      "metadata": {
        "id": "bs-YModaUrVf"
      },
      "source": [
        "## Regularizing MLPs: Weight Regularization and Structural Regularization (or Dropout)\r\n",
        "\r\n",
        "*Example 4-13. MLP with dropout*\r\n",
        "\r\n",
        "```\r\n",
        "```"
      ]
    },
    {
      "cell_type": "markdown",
      "metadata": {
        "id": "z24uMk6wVGFZ"
      },
      "source": [
        "## Convolutional Neural Networks"
      ]
    },
    {
      "cell_type": "markdown",
      "metadata": {
        "id": "UYGi3sAGVNNd"
      },
      "source": [
        "### CNN Hyperparameters"
      ]
    },
    {
      "cell_type": "markdown",
      "metadata": {
        "id": "-Bsd2EXSVRfJ"
      },
      "source": [
        "#### Dimension of the convolution operation"
      ]
    },
    {
      "cell_type": "markdown",
      "metadata": {
        "id": "TzoRsvmWVYEF"
      },
      "source": [
        "#### Channels"
      ]
    },
    {
      "cell_type": "markdown",
      "metadata": {
        "id": "tHrkMJqyVapK"
      },
      "source": [
        "#### Kernel size"
      ]
    },
    {
      "cell_type": "markdown",
      "metadata": {
        "id": "8UayCXuKVcxI"
      },
      "source": [
        "#### Stride"
      ]
    },
    {
      "cell_type": "markdown",
      "metadata": {
        "id": "GJhfaNL1VelG"
      },
      "source": [
        "#### Padding"
      ]
    },
    {
      "cell_type": "markdown",
      "metadata": {
        "id": "msY8qH9CVheP"
      },
      "source": [
        "#### Dialation"
      ]
    },
    {
      "cell_type": "markdown",
      "metadata": {
        "id": "9utgpVrBVkFY"
      },
      "source": [
        "### Implementing CNNs in PyTorch\r\n",
        "\r\n",
        "*Example 4-14. Artificial data and using a `Conv1d` class*\r\n"
      ]
    },
    {
      "cell_type": "code",
      "metadata": {
        "id": "EtHB1VofM_i2"
      },
      "source": [
        ""
      ],
      "execution_count": null,
      "outputs": []
    },
    {
      "cell_type": "markdown",
      "metadata": {
        "id": "ZqBqbnmpWS0S"
      },
      "source": [
        "*Example 4-15. The iterative application of convolutions to data*"
      ]
    },
    {
      "cell_type": "code",
      "metadata": {
        "id": "1yg-l_z4WWyB"
      },
      "source": [
        ""
      ],
      "execution_count": null,
      "outputs": []
    },
    {
      "cell_type": "markdown",
      "metadata": {
        "id": "d0bZpDmhWXcm"
      },
      "source": [
        "*Example 4-16*"
      ]
    },
    {
      "cell_type": "code",
      "metadata": {
        "id": "cL281pWWWcQl"
      },
      "source": [
        ""
      ],
      "execution_count": null,
      "outputs": []
    },
    {
      "cell_type": "markdown",
      "metadata": {
        "id": "lZZyYZMgWfdi"
      },
      "source": [
        "## Example: Classifying Surnames by Using a CNN"
      ]
    },
    {
      "cell_type": "markdown",
      "metadata": {
        "id": "4lAR1yr9WkOu"
      },
      "source": [
        "### The SurnameDataset Class\r\n",
        "\r\n",
        "*Example 4-17. `SurnameDataset` modified for passing the maximum surname length*\r\n",
        "\r\n",
        "```\r\n",
        "```"
      ]
    },
    {
      "cell_type": "markdown",
      "metadata": {
        "id": "Vg9oTaR2WwOt"
      },
      "source": [
        "### Vocabulary, Vectorizer, and DataLoader\r\n",
        "\r\n",
        "*Example 4-18. Implementing the `SurnameVectorizer` for CNNs*\r\n",
        "\r\n",
        "```\r\n",
        "```"
      ]
    },
    {
      "cell_type": "markdown",
      "metadata": {
        "id": "fFhkhwKsW90Q"
      },
      "source": [
        "### Reimplementing the SurnameClassifier with Convolutional Networks\r\n",
        "\r\n",
        "*Example 4-19. The CNN-based `SurnameClassifier`*\r\n",
        "\r\n",
        "```\r\n",
        "```"
      ]
    },
    {
      "cell_type": "markdown",
      "metadata": {
        "id": "KXvvCokTXO6h"
      },
      "source": [
        "### The Training Routine\r\n",
        "\r\n",
        "*Example 4-20. Input arguments to the CNN surname classifier*\r\n",
        "\r\n",
        "```\r\n",
        "```"
      ]
    },
    {
      "cell_type": "markdown",
      "metadata": {
        "id": "pjQa7C8gXW8F"
      },
      "source": [
        "### Model Evaluation and Prediction"
      ]
    },
    {
      "cell_type": "markdown",
      "metadata": {
        "id": "LSw4_lVaXaTy"
      },
      "source": [
        "#### Evaluating on the test dataset"
      ]
    },
    {
      "cell_type": "markdown",
      "metadata": {
        "id": "LvKwhaJtXdPU"
      },
      "source": [
        "#### Classifying or retrieving top predictions for a new surname\r\n",
        "\r\n",
        "*Example 4-21. Using the trained model to make predictions*\r\n",
        "\r\n",
        "```\r\n",
        "```"
      ]
    },
    {
      "cell_type": "markdown",
      "metadata": {
        "id": "Cbsc_OD0XoUd"
      },
      "source": [
        "## Miscellaneous Topics in CNNs"
      ]
    },
    {
      "cell_type": "markdown",
      "metadata": {
        "id": "GNNPspvjXsJj"
      },
      "source": [
        "### Pooling"
      ]
    },
    {
      "cell_type": "markdown",
      "metadata": {
        "id": "2zg38Px6Xt0g"
      },
      "source": [
        "### Batch Normalization (BatchNorm)\r\n",
        "\r\n",
        "*Example 4-22. Using a Conv1D layer with batch normalization*\r\n",
        "\r\n",
        "```\r\n",
        "```"
      ]
    },
    {
      "cell_type": "markdown",
      "metadata": {
        "id": "_yZo0Yw3X62t"
      },
      "source": [
        "### Network-in-Network Connections (1x1 Convolutions)"
      ]
    },
    {
      "cell_type": "markdown",
      "metadata": {
        "id": "SiOqaZ-XYCCc"
      },
      "source": [
        "### Residual Connections/Residual Block"
      ]
    },
    {
      "cell_type": "code",
      "metadata": {
        "id": "GQnu6lyZWeCT"
      },
      "source": [
        ""
      ],
      "execution_count": null,
      "outputs": []
    }
  ]
}
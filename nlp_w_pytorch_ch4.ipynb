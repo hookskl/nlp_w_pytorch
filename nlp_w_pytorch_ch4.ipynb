{
  "nbformat": 4,
  "nbformat_minor": 0,
  "metadata": {
    "colab": {
      "name": "nlp_w_pytorch_ch4.ipynb",
      "provenance": [],
      "toc_visible": true,
      "authorship_tag": "ABX9TyOqZRF/HclTd642PbTJ0NUU",
      "include_colab_link": true
    },
    "kernelspec": {
      "name": "python3",
      "display_name": "Python 3"
    }
  },
  "cells": [
    {
      "cell_type": "markdown",
      "metadata": {
        "id": "view-in-github",
        "colab_type": "text"
      },
      "source": [
        "<a href=\"https://colab.research.google.com/github/hookskl/nlp_w_pytorch/blob/main/nlp_w_pytorch_ch4.ipynb\" target=\"_parent\"><img src=\"https://colab.research.google.com/assets/colab-badge.svg\" alt=\"Open In Colab\"/></a>"
      ]
    },
    {
      "cell_type": "markdown",
      "metadata": {
        "id": "muYf8ZrPRzNz"
      },
      "source": [
        "# Feed-Forward Networks for Natural Language Processing\r\n",
        "\r\n",
        "The need for more complex architectures comes from the perceptron being unable to learn nontrivial patterns, i.e. patterns that are not *linearly separable*.\r\n",
        "\r\n",
        "![xor.png](data:image/png;base64,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)\r\n",
        "\r\n",
        "A family of neural networks called *feed-forward networks* are much more adept at learning these patterns. Two of these networks are:\r\n",
        "\r\n",
        "*   multilayer perceptron (MLP)\r\n",
        "*   convolutional neural network (CNN)\r\n",
        "\r\n",
        "The MLP extends the perceptron by grouping multiple perceptrons together in a single layer and stacking multiple layers together.\r\n",
        "\r\n",
        "CNNs are inspired by window filters used in signal processing. The use of window filters allows CNNs to learn localized patterns in their inputs. This has lead to them being a standard choice for computer vision tasks, as well as being capable of detecting substructures in sequential data (i.e. words and sentences). \r\n"
      ]
    },
    {
      "cell_type": "markdown",
      "metadata": {
        "id": "k9QXwgFrR8aN"
      },
      "source": [
        "## The Multilayer Perceptron\r\n",
        "\r\n",
        "MLPs group multiple perceptrons in a single layer, where the output is a vector instead of a single value. An additional aspect of the MLP is between each layer is a nonlinearity (such as the ReLU).\r\n",
        "\r\n",
        "The simplest MLP is composed of three stages of representations and two `Linear` layers. The structure goes as follows:\r\n",
        "\r\n",
        "* **input vector** (representation) - this is the vector given to the model, such as the one-hot representation of the Yelp reviews\r\n",
        "* **first `Linear` layer**\r\n",
        "* **hidden vector** (representation) - computed by the first `Linear` layer using the input vector\r\n",
        "* **second `Linear` layer**\r\n",
        "* **output vector** (representation) - computed by the second `Linear` layer using the hidden vector\r\n",
        "\r\n",
        "The power of the MLP comes from the additional `Linear` layer, allowing the model to learn intermediate representations that are *linearly separable*.\r\n",
        "\r\n"
      ]
    },
    {
      "cell_type": "markdown",
      "metadata": {
        "id": "6_UQG-xgSDzJ"
      },
      "source": [
        "### A Simple Example: XOR"
      ]
    },
    {
      "cell_type": "markdown",
      "metadata": {
        "id": "xDoG2z6DSHos"
      },
      "source": [
        "### Implementing MLP's in PyTorch\r\n",
        "\r\n",
        "*Example 4-1. Multilayer perceptron using PyTorch*\r\n",
        "\r\n"
      ]
    },
    {
      "cell_type": "code",
      "metadata": {
        "id": "-OF1xIvtZdIB"
      },
      "source": [
        "import torch\r\n",
        "import torch.nn as nn\r\n",
        "import torch.nn.functional as F\r\n",
        "\r\n",
        "seed = 1337\r\n",
        "torch.manual_seed(seed)\r\n",
        "torch.cuda.manual_seed_all(seed)"
      ],
      "execution_count": 1,
      "outputs": []
    },
    {
      "cell_type": "code",
      "metadata": {
        "id": "zGOdYuE3dTtB"
      },
      "source": [
        "class MultilayerPerceptron(nn.Module):\r\n",
        "    def __init__(self, input_dim, hidden_dim, output_dim):\r\n",
        "        \"\"\"\r\n",
        "        Args:\r\n",
        "            input_dim (int): the size of the input vectors\r\n",
        "            hidden_dim (int): the output size of the first Linear layer\r\n",
        "            output_dim (int): the output size of the second Linear layer\r\n",
        "        \"\"\"\r\n",
        "        super(MultilayerPerceptron, self).__init__()\r\n",
        "        self.fc1 = nn.Linear(input_dim, hidden_dim)\r\n",
        "        self.fc2 = nn.Linear(hidden_dim, output_dim)\r\n",
        "\r\n",
        "    def forward(self, x_in, apply_softmax=False):\r\n",
        "        \"\"\"The forward pass of the MLP\r\n",
        "        \r\n",
        "        Args:\r\n",
        "            x_in (torch.Tensor): an input data tensor. \r\n",
        "                x_in.shape should be (batch, input_dim)\r\n",
        "            apply_softmax (bool): a flag for the softmax activation\r\n",
        "                should be false if used with the Cross Entropy losses\r\n",
        "        Returns:\r\n",
        "            the resulting tensor. \r\n",
        "                tensor.shape should be (batch, output_dim)\r\n",
        "        \"\"\"\r\n",
        "        intermediate = F.relu(self.fc1(x_in))\r\n",
        "        output = self.fc2(intermediate)\r\n",
        "        \r\n",
        "        if apply_softmax:\r\n",
        "            output = F.softmax(output, dim=1)\r\n",
        "        return output"
      ],
      "execution_count": 2,
      "outputs": []
    },
    {
      "cell_type": "markdown",
      "metadata": {
        "id": "u-dI2uagZQAV"
      },
      "source": [
        "*Example 4-2. An example instantiation of an MLP*\r\n"
      ]
    },
    {
      "cell_type": "code",
      "metadata": {
        "colab": {
          "base_uri": "https://localhost:8080/"
        },
        "id": "RqbFeCfgazL5",
        "outputId": "4443d1ae-a746-4a2b-cf4b-5acb010926ec"
      },
      "source": [
        "batch_size = 2 # number of samples input at once\r\n",
        "input_dim = 3\r\n",
        "hidden_dim = 100\r\n",
        "output_dim = 4\r\n",
        "\r\n",
        "# Instantiate model\r\n",
        "mlp = MultilayerPerceptron(input_dim=input_dim, hidden_dim=hidden_dim, output_dim=output_dim)\r\n",
        "print(mlp)"
      ],
      "execution_count": 3,
      "outputs": [
        {
          "output_type": "stream",
          "text": [
            "MultilayerPerceptron(\n",
            "  (fc1): Linear(in_features=3, out_features=100, bias=True)\n",
            "  (fc2): Linear(in_features=100, out_features=4, bias=True)\n",
            ")\n"
          ],
          "name": "stdout"
        }
      ]
    },
    {
      "cell_type": "markdown",
      "metadata": {
        "id": "4upD1X0tZPYz"
      },
      "source": [
        "*Example 4-3. Testing the MLP with random inputs*\r\n"
      ]
    },
    {
      "cell_type": "code",
      "metadata": {
        "colab": {
          "base_uri": "https://localhost:8080/"
        },
        "id": "jSH0r9TBc0VT",
        "outputId": "e85a6364-99c8-4628-c1da-14af9ec7629f"
      },
      "source": [
        "def describe(x):\r\n",
        "    print(\"Type: {}\".format(x.type()))\r\n",
        "    print(\"Shape/size: {}\".format(x.shape))\r\n",
        "    print(\"values: \\n{}\".format(x))\r\n",
        "\r\n",
        "x_input = torch.rand(batch_size, input_dim)\r\n",
        "describe(x_input)"
      ],
      "execution_count": 4,
      "outputs": [
        {
          "output_type": "stream",
          "text": [
            "Type: torch.FloatTensor\n",
            "Shape/size: torch.Size([2, 3])\n",
            "values: \n",
            "tensor([[0.8329, 0.4277, 0.4363],\n",
            "        [0.9686, 0.6316, 0.8494]])\n"
          ],
          "name": "stdout"
        }
      ]
    },
    {
      "cell_type": "markdown",
      "metadata": {
        "id": "_KdCpiEsZOv7"
      },
      "source": [
        "*Example 4-4. Producing probabilistic outputs with a multilayer perceptron classifier (notice the `apply_softmax = True` option*\r\n"
      ]
    },
    {
      "cell_type": "code",
      "metadata": {
        "colab": {
          "base_uri": "https://localhost:8080/"
        },
        "id": "2ByOZSGndYCx",
        "outputId": "b9e1aee1-959d-46a6-ad27-55cd3e5c931d"
      },
      "source": [
        "y_output = mlp(x_input, apply_softmax=True)\r\n",
        "describe(y_output)"
      ],
      "execution_count": 5,
      "outputs": [
        {
          "output_type": "stream",
          "text": [
            "Type: torch.FloatTensor\n",
            "Shape/size: torch.Size([2, 4])\n",
            "values: \n",
            "tensor([[0.2087, 0.2868, 0.3127, 0.1919],\n",
            "        [0.1832, 0.2824, 0.3649, 0.1696]], grad_fn=<SoftmaxBackward>)\n"
          ],
          "name": "stdout"
        }
      ]
    },
    {
      "cell_type": "markdown",
      "metadata": {
        "id": "2pbPspFfSrpP"
      },
      "source": [
        "## Example: Surname Classification with an MLP"
      ]
    },
    {
      "cell_type": "markdown",
      "metadata": {
        "id": "nwNFUf7YSxhf"
      },
      "source": [
        "### The Surnames Dataset\r\n",
        "\r\n",
        "*Example 4-5. Implementing `SurnameDataset.__getitem__()`*\r\n",
        "\r\n",
        "```\r\n",
        "class SurnameDataset(Dataset):\r\n",
        "    # Implementation is nearly identical to Example 3-14\r\n",
        "\r\n",
        "    def __getitem__(self, index):\r\n",
        "        row = self._target_df.iloc[index]\r\n",
        "        surname_vector = \\\r\n",
        "            self._vectorizer.vectorize(row.surname)\r\n",
        "        nationality_index = \\\r\n",
        "            self._vectorizer.nationality_vocab.lookup_token(row.nationality)\r\n",
        "\r\n",
        "        return {'x_surname': surname_vector,\r\n",
        "                'y_nationality': nationality_index}\r\n",
        "```"
      ]
    },
    {
      "cell_type": "markdown",
      "metadata": {
        "id": "a3Cnep2GS_Qi"
      },
      "source": [
        "### Vocabulary, Vectorizer, and DataLoader"
      ]
    },
    {
      "cell_type": "markdown",
      "metadata": {
        "id": "jf-1T_rsTET7"
      },
      "source": [
        "#### The Vocabulary class"
      ]
    },
    {
      "cell_type": "markdown",
      "metadata": {
        "id": "ElkeJTilTKT5"
      },
      "source": [
        "#### The SurnameVectorizer\r\n",
        "\r\n",
        "*Example 4-6. Implementing `SurnameVectorizer`*\r\n",
        "\r\n",
        "```\r\n",
        "class SurnameVectorizer(object):\r\n",
        "    \"\"\"The Vectorizer which coordinates the Vocabularies and puts them to use\"\"\"\r\n",
        "    def __init__(self, surname_vocab, nationality_vocab):\r\n",
        "        self.surname_vocab = surname_vocab\r\n",
        "        self.nationality_vocab = nationality_vocab\r\n",
        "\r\n",
        "    def vectorize(self, surname):\r\n",
        "        \"\"\"Vectorize the provided surname\r\n",
        "\r\n",
        "        Args:\r\n",
        "            surname (str): the surname\r\n",
        "        Returns:\r\n",
        "            one_hot (np.ndarray): a collapsed one-hot encoding\r\n",
        "        \"\"\"\r\n",
        "        vocab = self.surname_vocab\r\n",
        "        one_hot = np.zeros(len(vocab), dtype=np.float32)\r\n",
        "        for token in surname:\r\n",
        "            one_hot[vocab.lookup_token(token)] = 1\r\n",
        "        return one_hot\r\n",
        "\r\n",
        "    @classmethod\r\n",
        "    def from_dataframe(cls, surname_df):\r\n",
        "        \"\"\"Instantiate the vectorizer from the dataset dataframe\r\n",
        "\r\n",
        "        Args:\r\n",
        "            surname_df (pandas.DataFrame): the surnames dataset\r\n",
        "        Returns:\r\n",
        "            an instance of the SurnameVectorizer\r\n",
        "        \"\"\"\r\n",
        "        surname_vocab = Vocabulary(unk_token=\"@\")\r\n",
        "        nationality_vocab = Vocabulary(add_unk=False)\r\n",
        "\r\n",
        "        for index, row in surname_df.iterrows():\r\n",
        "            for letter in row.surname:\r\n",
        "                surname_vocab.add_token(letter)\r\n",
        "            nationality_vocab.add_token(row.nationality)\r\n",
        "\r\n",
        "        return cls(surname_vocab, nationality_vocab)\r\n",
        "```"
      ]
    },
    {
      "cell_type": "markdown",
      "metadata": {
        "id": "pGe6jL3vTX--"
      },
      "source": [
        "### The SurnameClassifier Model\r\n",
        "\r\n",
        "*Example 4-7. The `SurnameClassifier` using an MLP*\r\n",
        "\r\n",
        "```\r\n",
        "class SurnameClassifier(nn.Module):\r\n",
        "    \"\"\"A 2-layer MLP for classifying surnames\"\"\"\r\n",
        "    def __init__(self, input_dim, hidden_dim, output_dim):\r\n",
        "        \"\"\"\r\n",
        "        Args:\r\n",
        "            input_dim (int): the size of the input vectors\r\n",
        "            hidden_dim (int): the output size of the first Linear layer\r\n",
        "            output_dim (int): the output size of the second Linear layer\r\n",
        "        \"\"\"\r\n",
        "        super(SurnameClassifier, self).__init__()\r\n",
        "        self.fc1 = nn.Linear(input_dim, hidden_dim)\r\n",
        "        self.fc2 = nn.Linear(hidden_dim, output_dim)\r\n",
        "\r\n",
        "    def forward(self, x_in, apply_softmax=False):\r\n",
        "        \"\"\"The forward pass of the classifier\r\n",
        "        Args:\r\n",
        "            x_in (torch.Tensor): an input data tensor\r\n",
        "                x_in.shape should be (batch, input_dim)\r\n",
        "            apply_softmax (bool): a flag for the softmax activation\r\n",
        "                should be False if used with the cross-entropy losses\r\n",
        "        Returns:\r\n",
        "            the resulting tensor.\r\n",
        "                tensor.shape should be (batch, output_dim)\r\n",
        "        \"\"\"\r\n",
        "        intermediate_vector = F.relu(self.fc1(x_in))\r\n",
        "        prediction_vector = self.fc2(intermediate_vector)\r\n",
        "\r\n",
        "        if apply_softmax:\r\n",
        "            prediction_vector = F.softmax(prediction_vector, dim=1)\r\n",
        "\r\n",
        "        return prediction_vector\r\n",
        "```"
      ]
    },
    {
      "cell_type": "markdown",
      "metadata": {
        "id": "cGHEBHr7Ti8_"
      },
      "source": [
        "### The Training Routine\r\n",
        "\r\n",
        "*Example 4-8. Hyperparameters and program options for the MLP-based Yelp review classifier*\r\n",
        "\r\n",
        "```\r\n",
        "args = Namespace(\r\n",
        "    # Data and path information\r\n",
        "    surname_csv=\"data/surnames/surnames_with_splits.csv\",\r\n",
        "    vectorizer_file=\"vectorizer.json\",\r\n",
        "    model_state_file=\"model.pth\",\r\n",
        "    save_dir=\"model_storage/ch4/surname_mlp\",\r\n",
        "    # Model hyperparameters\r\n",
        "    hidden_dim=300,\r\n",
        "    # Training hyperparameters\r\n",
        "    seed=1337,\r\n",
        "    num_epochs=100,\r\n",
        "    early_stopping_criteria=5,\r\n",
        "    learning_rate=0.001,\r\n",
        "    batch_size=64,\r\n",
        "    # Runtime options omitted\r\n",
        "    )\r\n",
        "```\r\n",
        "\r\n",
        "*Example 4-9. Instantiating the dataset, model, loss, and optimizer*\r\n",
        "\r\n",
        "```\r\n",
        "dataset = SurnameDataset.load_dataset_and_make_vectorizer(args.surname_csv)\r\n",
        "vectorizer = dataset.get_vectorizer()\r\n",
        "\r\n",
        "classifier = SurnameClassifier(input_dim=len(vectorizer.surname_vocab),\r\n",
        "                               hidden_dim=args.hidden_dim,\r\n",
        "                               output_dim=len(vectorizer.nationality_vocab))\r\n",
        "\r\n",
        "classifier = classifier.to(args.device)\r\n",
        "\r\n",
        "loss_func = nn.CrossEntropyLoss(dataset.class_weights)\r\n",
        "optimizer = optim.Adam(classifier.parameters(), lr=args.learning_rate)\r\n",
        "```"
      ]
    },
    {
      "cell_type": "markdown",
      "metadata": {
        "id": "bl0K8kxUUGZ0"
      },
      "source": [
        "#### The training loop\r\n",
        "\r\n",
        "*Example 4-10. A snippet of the training loop*\r\n",
        "\r\n",
        "```\r\n",
        "```"
      ]
    },
    {
      "cell_type": "markdown",
      "metadata": {
        "id": "FQR8JzgjUNZb"
      },
      "source": [
        "### Model Evaluation and Prediction"
      ]
    },
    {
      "cell_type": "markdown",
      "metadata": {
        "id": "nKk_MLzmUP5W"
      },
      "source": [
        "#### Evaluating on the test dataset"
      ]
    },
    {
      "cell_type": "markdown",
      "metadata": {
        "id": "Yk5yDwNJUS8J"
      },
      "source": [
        "#### Classifying a new surname\r\n",
        "\r\n",
        "*Example 4-11. Inference using an existing model (classifier): Predicting the nationaility given a name*\r\n",
        "\r\n",
        "```\r\n",
        "```"
      ]
    },
    {
      "cell_type": "markdown",
      "metadata": {
        "id": "L_KO5YPdUf-z"
      },
      "source": [
        "#### Retrieving the top k predictions for a new surname\r\n",
        "\r\n",
        "*Example 4-12. Predicting the top-k nationalities*\r\n",
        "\r\n",
        "```\r\n",
        "```"
      ]
    },
    {
      "cell_type": "markdown",
      "metadata": {
        "id": "bs-YModaUrVf"
      },
      "source": [
        "## Regularizing MLPs: Weight Regularization and Structural Regularization (or Dropout)\r\n",
        "\r\n",
        "*Example 4-13. MLP with dropout*\r\n",
        "\r\n",
        "```\r\n",
        "```"
      ]
    },
    {
      "cell_type": "markdown",
      "metadata": {
        "id": "z24uMk6wVGFZ"
      },
      "source": [
        "## Convolutional Neural Networks"
      ]
    },
    {
      "cell_type": "markdown",
      "metadata": {
        "id": "UYGi3sAGVNNd"
      },
      "source": [
        "### CNN Hyperparameters"
      ]
    },
    {
      "cell_type": "markdown",
      "metadata": {
        "id": "-Bsd2EXSVRfJ"
      },
      "source": [
        "#### Dimension of the convolution operation"
      ]
    },
    {
      "cell_type": "markdown",
      "metadata": {
        "id": "TzoRsvmWVYEF"
      },
      "source": [
        "#### Channels"
      ]
    },
    {
      "cell_type": "markdown",
      "metadata": {
        "id": "tHrkMJqyVapK"
      },
      "source": [
        "#### Kernel size"
      ]
    },
    {
      "cell_type": "markdown",
      "metadata": {
        "id": "8UayCXuKVcxI"
      },
      "source": [
        "#### Stride"
      ]
    },
    {
      "cell_type": "markdown",
      "metadata": {
        "id": "GJhfaNL1VelG"
      },
      "source": [
        "#### Padding"
      ]
    },
    {
      "cell_type": "markdown",
      "metadata": {
        "id": "msY8qH9CVheP"
      },
      "source": [
        "#### Dialation"
      ]
    },
    {
      "cell_type": "markdown",
      "metadata": {
        "id": "9utgpVrBVkFY"
      },
      "source": [
        "### Implementing CNNs in PyTorch\r\n",
        "\r\n",
        "*Example 4-14. Artificial data and using a `Conv1d` class*\r\n"
      ]
    },
    {
      "cell_type": "code",
      "metadata": {
        "id": "EtHB1VofM_i2"
      },
      "source": [
        ""
      ],
      "execution_count": 5,
      "outputs": []
    },
    {
      "cell_type": "markdown",
      "metadata": {
        "id": "ZqBqbnmpWS0S"
      },
      "source": [
        "*Example 4-15. The iterative application of convolutions to data*"
      ]
    },
    {
      "cell_type": "code",
      "metadata": {
        "id": "1yg-l_z4WWyB"
      },
      "source": [
        ""
      ],
      "execution_count": 5,
      "outputs": []
    },
    {
      "cell_type": "markdown",
      "metadata": {
        "id": "d0bZpDmhWXcm"
      },
      "source": [
        "*Example 4-16*"
      ]
    },
    {
      "cell_type": "code",
      "metadata": {
        "id": "cL281pWWWcQl"
      },
      "source": [
        ""
      ],
      "execution_count": 5,
      "outputs": []
    },
    {
      "cell_type": "markdown",
      "metadata": {
        "id": "lZZyYZMgWfdi"
      },
      "source": [
        "## Example: Classifying Surnames by Using a CNN"
      ]
    },
    {
      "cell_type": "markdown",
      "metadata": {
        "id": "4lAR1yr9WkOu"
      },
      "source": [
        "### The SurnameDataset Class\r\n",
        "\r\n",
        "*Example 4-17. `SurnameDataset` modified for passing the maximum surname length*\r\n",
        "\r\n",
        "```\r\n",
        "```"
      ]
    },
    {
      "cell_type": "markdown",
      "metadata": {
        "id": "Vg9oTaR2WwOt"
      },
      "source": [
        "### Vocabulary, Vectorizer, and DataLoader\r\n",
        "\r\n",
        "*Example 4-18. Implementing the `SurnameVectorizer` for CNNs*\r\n",
        "\r\n",
        "```\r\n",
        "```"
      ]
    },
    {
      "cell_type": "markdown",
      "metadata": {
        "id": "fFhkhwKsW90Q"
      },
      "source": [
        "### Reimplementing the SurnameClassifier with Convolutional Networks\r\n",
        "\r\n",
        "*Example 4-19. The CNN-based `SurnameClassifier`*\r\n",
        "\r\n",
        "```\r\n",
        "```"
      ]
    },
    {
      "cell_type": "markdown",
      "metadata": {
        "id": "KXvvCokTXO6h"
      },
      "source": [
        "### The Training Routine\r\n",
        "\r\n",
        "*Example 4-20. Input arguments to the CNN surname classifier*\r\n",
        "\r\n",
        "```\r\n",
        "```"
      ]
    },
    {
      "cell_type": "markdown",
      "metadata": {
        "id": "pjQa7C8gXW8F"
      },
      "source": [
        "### Model Evaluation and Prediction"
      ]
    },
    {
      "cell_type": "markdown",
      "metadata": {
        "id": "LSw4_lVaXaTy"
      },
      "source": [
        "#### Evaluating on the test dataset"
      ]
    },
    {
      "cell_type": "markdown",
      "metadata": {
        "id": "LvKwhaJtXdPU"
      },
      "source": [
        "#### Classifying or retrieving top predictions for a new surname\r\n",
        "\r\n",
        "*Example 4-21. Using the trained model to make predictions*\r\n",
        "\r\n",
        "```\r\n",
        "```"
      ]
    },
    {
      "cell_type": "markdown",
      "metadata": {
        "id": "Cbsc_OD0XoUd"
      },
      "source": [
        "## Miscellaneous Topics in CNNs"
      ]
    },
    {
      "cell_type": "markdown",
      "metadata": {
        "id": "GNNPspvjXsJj"
      },
      "source": [
        "### Pooling"
      ]
    },
    {
      "cell_type": "markdown",
      "metadata": {
        "id": "2zg38Px6Xt0g"
      },
      "source": [
        "### Batch Normalization (BatchNorm)\r\n",
        "\r\n",
        "*Example 4-22. Using a Conv1D layer with batch normalization*\r\n",
        "\r\n",
        "```\r\n",
        "```"
      ]
    },
    {
      "cell_type": "markdown",
      "metadata": {
        "id": "_yZo0Yw3X62t"
      },
      "source": [
        "### Network-in-Network Connections (1x1 Convolutions)"
      ]
    },
    {
      "cell_type": "markdown",
      "metadata": {
        "id": "SiOqaZ-XYCCc"
      },
      "source": [
        "### Residual Connections/Residual Block"
      ]
    }
  ]
}